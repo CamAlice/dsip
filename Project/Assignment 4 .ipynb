{
 "cells": [
  {
   "cell_type": "markdown",
   "metadata": {},
   "source": [
    "# Assignment 4\n",
    "-------\n",
    "## Particulars\n",
    "\n",
    "This assignment is due Friday May 10, 2019. The last commit at (or before) 11h59 on that date will be graded for credit.\n",
    "\n",
    "__Note that this departs from our usual deadline.__ This is because the assignment is being released slightly later than usual.\n",
    "\n",
    "It must be turned in (committed) to your private repository on the course's github organization located at [github.com/orgs/mgt-416-2019](https://github.com/orgs/mgt-416-2019).\n",
    "\n",
    "__Commit early and commit often. And be sure to push.__\n",
    "\n",
    "-------\n",
    "## Types of Problems and Evaluation\n",
    "\n",
    "On this assignment there are two types of questions: <span style=\"color:red\">Technical</span> and <span style=\"color:blue\">Analytical</span>.\n",
    "\n",
    "The primary goal of a <span style=\"color:red\">technical</span> problem is to carry out the requested coding/computational analysis and output or visualize the result. In these problems the primary factors in evaluation are: does the code/analysis work; does it do what it is supposed to do; is it comprehensible (_i.e._ commented [always] and explained [in cases where code is very involved]).\n",
    "\n",
    "The primary goal of an <span style=\"color:blue\">analytical</span> problem is to answer a question about some network(s) or data being certain to justifying your answer with a well thought out, and presented, line of reasoning. In these problems the primary factors in evaluation are: is the answer well thought out and it well presented and intelligibile (you are strongly advised to make use of [markdown](https://github.com/adam-p/markdown-here/wiki/Markdown-Cheatsheet) and [magics](http://ipython.readthedocs.io/en/stable/interactive/magics.html) _ex_. %%latex or $\\latex$ in your answers).\n",
    "\n",
    "Each problem and question has associated with it a number of points that it will be graded out of. Please use the point values as a guide as to how much time/effort should be devoted to each question.\n",
    "\n",
    "-------\n",
    "## Instructions\n",
    "\n",
    "Complete each of the problems found below to the best of your abilities. It is highly advisable that you at least attempt each problem/question.\n",
    "\n",
    "After the cell proposing each problem there is a markdown cell in which your mark for each question will be recorded and a code cell in which your total mark for that problem will be stored. __Do not edit these cells.__\n",
    "\n",
    "Following the marking cells there is a series of cells you may use to complete each question. Feel free to add additional markdown and code cells as required.\n",
    "\n",
    "If you encounter any major issues, require clarification and/or you believe there is an error in a question or the data, do not hesitate to email me at: [orion.penner@epfl.ch](mailto:orion.penner@epfl.ch)."
   ]
  },
  {
   "cell_type": "markdown",
   "metadata": {},
   "source": [
    "-------\n",
    "## Imports\n",
    "\n",
    "The packages imported below are necessary for completing the assignment.\n",
    "\n",
    "If there are other packages you are used to using that you wish to import, please feel free to do so __provided__ the package is __fully installable through pip__. If you want clarification on this, please email me."
   ]
  },
  {
   "cell_type": "code",
   "execution_count": 3,
   "metadata": {},
   "outputs": [],
   "source": [
    "# Allows matplotlib figures inline\n",
    "%matplotlib inline\n",
    "# Our standard network analysis module. Please use as nx so I may read code more easily.\n",
    "import networkx as nx\n",
    "# Our standard ploting module. Again, please use as plt.\n",
    "import matplotlib.pyplot as plt\n",
    "# Numpy makes some vector manipulations easier\n",
    "import numpy as np\n",
    "# This makes it easier to load the growing network\n",
    "import csv\n",
    "# This lets us keep the dates clean within the growing network dictionary\n",
    "import time"
   ]
  },
  {
   "cell_type": "markdown",
   "metadata": {},
   "source": [
    "---\n",
    "## Problem 1\n",
    "17 points.\n",
    "\n",
    "In this problem you will explore the growth and evolution of the bitcoin OTC trust network. Within this network a link with weight greater than zero indicates that the \"out\" user trusts the \"in\" user.\n",
    "\n",
    "1. Using the code provided, progressively load the links of this network into the CurrentNetwork graph and at the end of each Quarter, make a copy of CurrentNetwork that is a snapshot of the network at that point in time (the provided code take care of all of this). Looping over the QuarterlyNetworks dictionary, print a brief summary of the statistics of each quarterly network. [<span style=\"color:red\">Technical</span>] [1]\n",
    "2. Plot, as a function of time, the following quantities:  [<span style=\"color:red\">Technical</span>] [4]\n",
    "    * The number of nodes in the network.\n",
    "    * The number of edges in the network.\n",
    "    * The average degree of nodes in the network.\n",
    "    * The density of the network.\n",
    "    * The average clustering coefficient of the network.\n",
    "3. Focusing first on the number of nodes and edges, what trends do you note in these plots? [<span style=\"color:blue\">Analytical</span>] [1]\n",
    "4. Now focusing on average degree and density, what trend(s) do you note? Are they what you would have expected from what you noted in Question 2. Is this in line with what we would generally expect from an online network (see Lecture 8). [<span style=\"color:blue\">Analytical</span>] [2]\n",
    "5. Consider the average cluster coefficient. What is the trend here? Is this consistent with the trends found across the four previous measures? Why? [<span style=\"color:blue\">Analytical</span>] [2]\n",
    "6. Now let us consider links coming into the network. To do this we will use networkx's built in difference function, but to use that we must make sure we have the same node set across all networks. To get to that point, run the code found below under the heading 1.6. Then use the networkx function \"difference\" find the difference network between each quarter network and its previous quarter. For example, nx.difference(QuarterlyNetworks_AllNodes[\"01-07-2011\"], QuarterlyNetworks_AllNodes[\"01-04-2011\"]) returns a network containing all the links generated between 01-04-2011 and 01-07-2011. Print a brief summary of the statistics of each of these difference networks. [<span style=\"color:red\">Technical</span>] [1]\n",
    "7. Taking the network of links created between 01-04-2011 and 01-07-2011, calculate the average in degree of nodes on the \"in\" side of a new link. To do this, use the in degree of each node as it is in the 01-04-2011 snapshot. Thus, exclude nodes that do not exist yet in the 01-04-2011 snapshot (this requires you use the QuarterlyNetworks[\"01-04-2011\"] network, __not__ QuarterlyNetworks_AllNodes[\"01-04-2011\"]). This quantity should be weighted by the number of times a given node participates in a new link in the \"in\" role. [<span style=\"color:red\">Technical</span>] [3]\n",
    "8. Repeat the previous calculation, but for out degree. [<span style=\"color:red\">Technical</span>] [1]\n",
    "9. What do you note about the average in and out degree of nodes participating in new links? How do these quantities compare to the averge degree of the 01-04-2011 quarterly snapshot? Does preferential attachment seem to be in play? [<span style=\"color:blue\">Analytical</span>] [2]"
   ]
  },
  {
   "cell_type": "markdown",
   "metadata": {},
   "source": [
    "#### Problem 1 Grades\n",
    "\n",
    "1.1) None/1\n",
    "\n",
    "1.2) None/4\n",
    "\n",
    "1.3) None/1\n",
    "\n",
    "1.4) None/2\n",
    "\n",
    "1.5) None/2\n",
    "\n",
    "1.6) None/1\n",
    "\n",
    "1.7) None/3\n",
    "\n",
    "1.8) None/1\n",
    "\n",
    "1.9) None/2\n",
    "\n",
    "Total: None/17"
   ]
  },
  {
   "cell_type": "code",
   "execution_count": 16,
   "metadata": {},
   "outputs": [],
   "source": [
    "Problem1Score = None"
   ]
  },
  {
   "cell_type": "markdown",
   "metadata": {},
   "source": [
    "---"
   ]
  },
  {
   "cell_type": "code",
   "execution_count": 17,
   "metadata": {},
   "outputs": [
    {
     "name": "stdout",
     "output_type": "stream",
     "text": [
      "Done  01-01-2011\n",
      "Done  01-04-2011\n",
      "Done  01-07-2011\n",
      "Done  01-10-2011\n",
      "Done  01-01-2012\n",
      "Done  01-04-2012\n",
      "Done  01-07-2012\n",
      "Done  01-10-2012\n",
      "Done  01-01-2013\n",
      "Done  01-04-2013\n",
      "Done  01-07-2013\n",
      "Done  01-10-2013\n",
      "Done  01-01-2014\n",
      "Done  01-04-2014\n",
      "Done  01-07-2014\n",
      "Done  01-10-2014\n",
      "Done  01-01-2015\n",
      "Done  01-04-2015\n",
      "Done  01-07-2015\n",
      "Done  01-10-2015\n",
      "Done  01-01-2016\n"
     ]
    }
   ],
   "source": [
    "fin = open(\"soc-sign-bitcoinotc.csv\",'r')\n",
    "NetworkLines = [row for row in csv.reader(fin,delimiter=',')]\n",
    "\n",
    "CurrentNetwork = nx.DiGraph()\n",
    "QuarterlyNetworks = {}\n",
    "TriggerDates = [[(2010,12),'01-01-2011'], [(2011,3),'01-04-2011'], [(2011,6),'01-07-2011'], [(2011,9),'01-10-2011'], \n",
    "                [(2011,12),'01-01-2012'], [(2012,3),'01-04-2012'], [(2012,6),'01-07-2012'], [(2012,9),'01-10-2012'], \n",
    "                [(2012,12),'01-01-2013'], [(2013,3),'01-04-2013'], [(2013,6),'01-07-2013'], [(2013,9),'01-10-2013'], \n",
    "                [(2013,12),'01-01-2014'], [(2014,3),'01-04-2014'], [(2014,6),'01-07-2014'], [(2014,9),'01-10-2014'], \n",
    "                [(2014,12),'01-01-2015'], [(2015,3),'01-04-2015'], [(2015,6),'01-07-2015'], [(2015,9),'01-10-2015'], \n",
    "                [(2015,12),'01-01-2016'], [(2016,3),'01-04-2016']\n",
    "               ]\n",
    "TriggerDateIndex = 0\n",
    "for row in NetworkLines:\n",
    "    StructuredDate = time.gmtime(float(row[3]))\n",
    "    if StructuredDate.tm_year > TriggerDates[TriggerDateIndex][0][0] or StructuredDate.tm_year == TriggerDates[TriggerDateIndex][0][0] and StructuredDate.tm_mon > TriggerDates[TriggerDateIndex][0][1]:\n",
    "        print(\"Done \",TriggerDates[TriggerDateIndex][1])\n",
    "        QuarterlyNetworks[TriggerDates[TriggerDateIndex][1]] = CurrentNetwork.copy()\n",
    "        QuarterlyNetworks[TriggerDates[TriggerDateIndex][1]].name = TriggerDates[TriggerDateIndex][1]\n",
    "        TriggerDateIndex += 1\n",
    "\n",
    "    if int(row[2]) > 0:\n",
    "        CurrentNetwork.add_edge(row[0],row[1])"
   ]
  },
  {
   "cell_type": "code",
   "execution_count": 18,
   "metadata": {},
   "outputs": [],
   "source": [
    "OrderedDates = [DateTuple[1] for DateTuple in TriggerDates[:-1]]"
   ]
  },
  {
   "cell_type": "markdown",
   "metadata": {},
   "source": [
    "---"
   ]
  },
  {
   "cell_type": "markdown",
   "metadata": {},
   "source": [
    "### 1.1"
   ]
  },
  {
   "cell_type": "markdown",
   "metadata": {},
   "source": [
    "1. Using the code provided, progressively load the links of this network into the CurrentNetwork graph and at the end of each Quarter, make a copy of CurrentNetwork that is a snapshot of the network at that point in time (the provided code take care of all of this). Looping over the QuarterlyNetworks dictionary, print a brief summary of the statistics of each quarterly network. [<span style=\"color:red\">Technical</span>] [1]"
   ]
  },
  {
   "cell_type": "code",
   "execution_count": 19,
   "metadata": {},
   "outputs": [
    {
     "name": "stdout",
     "output_type": "stream",
     "text": [
      "Network situation on 01-01-2011\n",
      " \n",
      "Name: 01-01-2011\n",
      "Type: DiGraph\n",
      "Number of nodes: 55\n",
      "Number of edges: 142\n",
      "Average in degree:   2.5818\n",
      "Average out degree:   2.5818\n",
      "----------------------\n",
      "Network situation on 01-04-2011\n",
      " \n",
      "Name: 01-04-2011\n",
      "Type: DiGraph\n",
      "Number of nodes: 186\n",
      "Number of edges: 675\n",
      "Average in degree:   3.6290\n",
      "Average out degree:   3.6290\n",
      "----------------------\n",
      "Network situation on 01-07-2011\n",
      " \n",
      "Name: 01-07-2011\n",
      "Type: DiGraph\n",
      "Number of nodes: 1237\n",
      "Number of edges: 5479\n",
      "Average in degree:   4.4293\n",
      "Average out degree:   4.4293\n",
      "----------------------\n",
      "Network situation on 01-10-2011\n",
      " \n",
      "Name: 01-10-2011\n",
      "Type: DiGraph\n",
      "Number of nodes: 1446\n",
      "Number of edges: 6773\n",
      "Average in degree:   4.6840\n",
      "Average out degree:   4.6840\n",
      "----------------------\n",
      "Network situation on 01-01-2012\n",
      " \n",
      "Name: 01-01-2012\n",
      "Type: DiGraph\n",
      "Number of nodes: 1631\n",
      "Number of edges: 7745\n",
      "Average in degree:   4.7486\n",
      "Average out degree:   4.7486\n",
      "----------------------\n",
      "Network situation on 01-04-2012\n",
      " \n",
      "Name: 01-04-2012\n",
      "Type: DiGraph\n",
      "Number of nodes: 1867\n",
      "Number of edges: 9133\n",
      "Average in degree:   4.8918\n",
      "Average out degree:   4.8918\n",
      "----------------------\n",
      "Network situation on 01-07-2012\n",
      " \n",
      "Name: 01-07-2012\n",
      "Type: DiGraph\n",
      "Number of nodes: 2174\n",
      "Number of edges: 11023\n",
      "Average in degree:   5.0704\n",
      "Average out degree:   5.0704\n",
      "----------------------\n",
      "Network situation on 01-10-2012\n",
      " \n",
      "Name: 01-10-2012\n",
      "Type: DiGraph\n",
      "Number of nodes: 2615\n",
      "Number of edges: 13660\n",
      "Average in degree:   5.2237\n",
      "Average out degree:   5.2237\n",
      "----------------------\n",
      "Network situation on 01-01-2013\n",
      " \n",
      "Name: 01-01-2013\n",
      "Type: DiGraph\n",
      "Number of nodes: 3116\n",
      "Number of edges: 16367\n",
      "Average in degree:   5.2526\n",
      "Average out degree:   5.2526\n",
      "----------------------\n",
      "Network situation on 01-04-2013\n",
      " \n",
      "Name: 01-04-2013\n",
      "Type: DiGraph\n",
      "Number of nodes: 3652\n",
      "Number of edges: 19138\n",
      "Average in degree:   5.2404\n",
      "Average out degree:   5.2404\n",
      "----------------------\n",
      "Network situation on 01-07-2013\n",
      " \n",
      "Name: 01-07-2013\n",
      "Type: DiGraph\n",
      "Number of nodes: 4293\n",
      "Number of edges: 22798\n",
      "Average in degree:   5.3105\n",
      "Average out degree:   5.3105\n",
      "----------------------\n",
      "Network situation on 01-10-2013\n",
      " \n",
      "Name: 01-10-2013\n",
      "Type: DiGraph\n",
      "Number of nodes: 4686\n",
      "Number of edges: 25515\n",
      "Average in degree:   5.4449\n",
      "Average out degree:   5.4449\n",
      "----------------------\n",
      "Network situation on 01-01-2014\n",
      " \n",
      "Name: 01-01-2014\n",
      "Type: DiGraph\n",
      "Number of nodes: 4991\n",
      "Number of edges: 27505\n",
      "Average in degree:   5.5109\n",
      "Average out degree:   5.5109\n",
      "----------------------\n",
      "Network situation on 01-04-2014\n",
      " \n",
      "Name: 01-04-2014\n",
      "Type: DiGraph\n",
      "Number of nodes: 5131\n",
      "Number of edges: 28589\n",
      "Average in degree:   5.5718\n",
      "Average out degree:   5.5718\n",
      "----------------------\n",
      "Network situation on 01-07-2014\n",
      " \n",
      "Name: 01-07-2014\n",
      "Type: DiGraph\n",
      "Number of nodes: 5280\n",
      "Number of edges: 29715\n",
      "Average in degree:   5.6278\n",
      "Average out degree:   5.6278\n",
      "----------------------\n",
      "Network situation on 01-10-2014\n",
      " \n",
      "Name: 01-10-2014\n",
      "Type: DiGraph\n",
      "Number of nodes: 5394\n",
      "Number of edges: 30533\n",
      "Average in degree:   5.6605\n",
      "Average out degree:   5.6605\n",
      "----------------------\n",
      "Network situation on 01-01-2015\n",
      " \n",
      "Name: 01-01-2015\n",
      "Type: DiGraph\n",
      "Number of nodes: 5455\n",
      "Number of edges: 31060\n",
      "Average in degree:   5.6939\n",
      "Average out degree:   5.6939\n",
      "----------------------\n",
      "Network situation on 01-04-2015\n",
      " \n",
      "Name: 01-04-2015\n",
      "Type: DiGraph\n",
      "Number of nodes: 5502\n",
      "Number of edges: 31374\n",
      "Average in degree:   5.7023\n",
      "Average out degree:   5.7023\n",
      "----------------------\n",
      "Network situation on 01-07-2015\n",
      " \n",
      "Name: 01-07-2015\n",
      "Type: DiGraph\n",
      "Number of nodes: 5537\n",
      "Number of edges: 31701\n",
      "Average in degree:   5.7253\n",
      "Average out degree:   5.7253\n",
      "----------------------\n",
      "Network situation on 01-10-2015\n",
      " \n",
      "Name: 01-10-2015\n",
      "Type: DiGraph\n",
      "Number of nodes: 5559\n",
      "Number of edges: 31887\n",
      "Average in degree:   5.7361\n",
      "Average out degree:   5.7361\n",
      "----------------------\n",
      "Network situation on 01-01-2016\n",
      " \n",
      "Name: 01-01-2016\n",
      "Type: DiGraph\n",
      "Number of nodes: 5571\n",
      "Number of edges: 31989\n",
      "Average in degree:   5.7421\n",
      "Average out degree:   5.7421\n",
      "----------------------\n"
     ]
    }
   ],
   "source": [
    "for date in OrderedDates:\n",
    "    print('Network situation on {}'.format(date))\n",
    "    print(' ')\n",
    "    print(nx.info(QuarterlyNetworks[date]))\n",
    "    print('----------------------')"
   ]
  },
  {
   "cell_type": "markdown",
   "metadata": {},
   "source": [
    "### 1.2"
   ]
  },
  {
   "cell_type": "markdown",
   "metadata": {},
   "source": [
    "Plot, as a function of time, the following quantities: [Technical] [4]\n",
    "\n",
    "The number of nodes in the network.\n",
    "\n",
    "The number of edges in the network.\n",
    "\n",
    "The average degree of nodes in the network.\n",
    "\n",
    "The density of the network.\n",
    "\n",
    "The average clustering coefficient of the network."
   ]
  },
  {
   "cell_type": "code",
   "execution_count": 20,
   "metadata": {},
   "outputs": [],
   "source": [
    "info_name = ['number_of_nodes','number_of_edges','avg_degree','density','avg_clus_coeff']"
   ]
  },
  {
   "cell_type": "code",
   "execution_count": 21,
   "metadata": {},
   "outputs": [],
   "source": [
    "def nx_infos(QuarterlyNetworks,OrderedDates,info_name):\n",
    "    \n",
    "    number_of_nodes = {date:len(QuarterlyNetworks[date].nodes()) for date in OrderedDates}\n",
    "    number_of_edges = {date:len(QuarterlyNetworks[date].edges()) for date in OrderedDates}\n",
    "    avg_degree = {date:np.mean(list(dict(nx.degree(QuarterlyNetworks[date])).values())) for date in OrderedDates}\n",
    "    density = {date: nx.density(QuarterlyNetworks[date]) for date in OrderedDates}\n",
    "    QuarterlyNetworks_undirected = {date: QuarterlyNetworks[date].to_undirected() for date in OrderedDates}\n",
    "    avg_clus_coeff = {date:nx.average_clustering(QuarterlyNetworks_undirected[date]) for date in OrderedDates}\n",
    "    \n",
    "    info_list = [number_of_nodes,number_of_edges,avg_degree,density,avg_clus_coeff]\n",
    "    info_dict = {info_name[i]:info_list[i] for i in range(0,len(info_name))}\n",
    "\n",
    "    return info_dict"
   ]
  },
  {
   "cell_type": "code",
   "execution_count": 22,
   "metadata": {
    "scrolled": true
   },
   "outputs": [],
   "source": [
    "info_dict = nx_infos(QuarterlyNetworks,OrderedDates,info_name)"
   ]
  },
  {
   "cell_type": "code",
   "execution_count": 23,
   "metadata": {},
   "outputs": [],
   "source": [
    "def plot_info(info_dict,info_name, OrderedDates):\n",
    "    \n",
    "    number_of_infos = len(info_name)\n",
    "    \n",
    "    for i in range(len(info_name)):\n",
    "        plt.figure(figsize=(8,5))\n",
    "        plt.plot(list(info_dict[info_name[i]].values()))\n",
    "\n",
    "        plt.title('Evolution of {}'.format(info_name[i]))\n",
    "        plt.xticks(range(len(OrderedDates)), OrderedDates, rotation=45)\n",
    "        plt.show()"
   ]
  },
  {
   "cell_type": "code",
   "execution_count": 24,
   "metadata": {
    "scrolled": true
   },
   "outputs": [
    {
     "data": {
      "image/png": "[encoded data removed]",
      "text/plain": [
       "<Figure size 576x360 with 1 Axes>"
      ]
     },
     "metadata": {
      "needs_background": "light"
     },
     "output_type": "display_data"
    },
    {
     "data": {
      "image/png": "[encoded data removed]",
      "text/plain": [
       "<Figure size 576x360 with 1 Axes>"
      ]
     },
     "metadata": {
      "needs_background": "light"
     },
     "output_type": "display_data"
    },
    {
     "data": {
      "image/png": "[encoded data removed]",
      "text/plain": [
       "<Figure size 576x360 with 1 Axes>"
      ]
     },
     "metadata": {
      "needs_background": "light"
     },
     "output_type": "display_data"
    },
    {
     "data": {
      "image/png": "[encoded data removed]",
      "text/plain": [
       "<Figure size 576x360 with 1 Axes>"
      ]
     },
     "metadata": {
      "needs_background": "light"
     },
     "output_type": "display_data"
    },
    {
     "data": {
      "image/png": "[encoded data removed]",
      "text/plain": [
       "<Figure size 576x360 with 1 Axes>"
      ]
     },
     "metadata": {
      "needs_background": "light"
     },
     "output_type": "display_data"
    }
   ],
   "source": [
    "plot_info(info_dict,info_name, OrderedDates)"
   ]
  },
  {
   "cell_type": "markdown",
   "metadata": {},
   "source": [
    "### 1.3"
   ]
  },
  {
   "cell_type": "markdown",
   "metadata": {},
   "source": [
    "3. Focusing first on the number of nodes and edges, what trends do you note in these plots? [<span style=\"color:blue\">Analytical</span>] [1]"
   ]
  },
  {
   "cell_type": "markdown",
   "metadata": {},
   "source": [
    "The number of nodes grows quite linearly until reaching a sort of plateau at some point where the expansion slows down"
   ]
  },
  {
   "cell_type": "markdown",
   "metadata": {},
   "source": [
    "### 1.4"
   ]
  },
  {
   "cell_type": "markdown",
   "metadata": {},
   "source": [
    "4. Now focusing on average degree and density, what trend(s) do you note? Are they what you would have expected from what you noted in Question 2. Is this in line with what we would generally expect from an online network (see Lecture 8). [<span style=\"color:blue\">Analytical</span>] [2]"
   ]
  },
  {
   "cell_type": "markdown",
   "metadata": {},
   "source": [
    "As the number of nodes increases, the potential of connections increases twice faster since it is proportional to $n^{2}$. SInce this value is in the denominator, the **density** will decrease very quickly towards zero. Since it is already small, over the time, it is not going to decrease significantly."
   ]
  },
  {
   "cell_type": "markdown",
   "metadata": {},
   "source": [
    "As more nodes appear, the edges will connect to already existing nodes, which obvioulsy will make the ** average degree** value higher"
   ]
  },
  {
   "cell_type": "markdown",
   "metadata": {},
   "source": [
    "In general, it is what we expect from an online network with nodes representing people and edges the friendship."
   ]
  },
  {
   "cell_type": "markdown",
   "metadata": {},
   "source": [
    "### 1.5"
   ]
  },
  {
   "cell_type": "markdown",
   "metadata": {},
   "source": [
    "5. Consider the average cluster coefficient. What is the trend here? Is this consistent with the trends found across the four previous measures? Why? [<span style=\"color:blue\">Analytical</span>] [2]"
   ]
  },
  {
   "cell_type": "markdown",
   "metadata": {},
   "source": [
    "If we take a online social network, the shape of the trend could be explained as such:\n",
    "The first people talk about it in their group of friends, which creates a trend of people joining the network, but there is a high probability that those friends are also friends togethe, which creates a peak.\n",
    "As the word goes around, more and more people are added, which decreases the clustering coefficient at first. With the trend, lot of people join and eventually close the possible triads which gives a rise to the avg clusering coefficient\n",
    "\n",
    "    "
   ]
  },
  {
   "cell_type": "markdown",
   "metadata": {},
   "source": [
    "### 1.6"
   ]
  },
  {
   "cell_type": "markdown",
   "metadata": {},
   "source": [
    " 6. Now let us consider links coming into the network. To do this we will use networkx's built in difference function, but to use that we must make sure we have the same node set across all networks. To get to that point, run the code found below under the heading 1.6. Then use the networkx function \"difference\" find the difference network between each quarter network and its previous quarter. For example, nx.difference(QuarterlyNetworks_AllNodes[\"01-07-2011\"], QuarterlyNetworks_AllNodes[\"01-04-2011\"]) returns a network containing all the links generated between 01-04-2011 and 01-07-2011. Print a brief summary of the statistics of each of these difference networks. [<span style=\"color:red\">Technical</span>] [1]"
   ]
  },
  {
   "cell_type": "code",
   "execution_count": 25,
   "metadata": {},
   "outputs": [],
   "source": [
    "all_nodes = CurrentNetwork.nodes() #All nodes of the final version of the network\n",
    "QuarterlyNetworks_AllNodes = {}\n",
    "\n",
    "for date, graph in QuarterlyNetworks.items(): #For all snapshots used previously, just add all the nodes not already in it\n",
    "    g2 = graph.copy()\n",
    "    for n in CurrentNetwork.nodes():\n",
    "        if n not in g2.nodes():\n",
    "            g2.add_node(n)\n",
    "    \n",
    "    QuarterlyNetworks_AllNodes[date] = g2"
   ]
  },
  {
   "cell_type": "code",
   "execution_count": 26,
   "metadata": {},
   "outputs": [
    {
     "name": "stdout",
     "output_type": "stream",
     "text": [
      "Name: 01-04-2011\n",
      "Type: DiGraph\n",
      "Number of nodes: 5573\n",
      "Number of edges: 533\n",
      "Average in degree:   0.0956\n",
      "Average out degree:   0.0956\n",
      "--------------------------------\n",
      " \n",
      "Name: 01-07-2011\n",
      "Type: DiGraph\n",
      "Number of nodes: 5573\n",
      "Number of edges: 4804\n",
      "Average in degree:   0.8620\n",
      "Average out degree:   0.8620\n",
      "--------------------------------\n",
      " \n",
      "Name: 01-10-2011\n",
      "Type: DiGraph\n",
      "Number of nodes: 5573\n",
      "Number of edges: 1294\n",
      "Average in degree:   0.2322\n",
      "Average out degree:   0.2322\n",
      "--------------------------------\n",
      " \n",
      "Name: 01-01-2012\n",
      "Type: DiGraph\n",
      "Number of nodes: 5573\n",
      "Number of edges: 972\n",
      "Average in degree:   0.1744\n",
      "Average out degree:   0.1744\n",
      "--------------------------------\n",
      " \n",
      "Name: 01-04-2012\n",
      "Type: DiGraph\n",
      "Number of nodes: 5573\n",
      "Number of edges: 1388\n",
      "Average in degree:   0.2491\n",
      "Average out degree:   0.2491\n",
      "--------------------------------\n",
      " \n",
      "Name: 01-07-2012\n",
      "Type: DiGraph\n",
      "Number of nodes: 5573\n",
      "Number of edges: 1890\n",
      "Average in degree:   0.3391\n",
      "Average out degree:   0.3391\n",
      "--------------------------------\n",
      " \n",
      "Name: 01-10-2012\n",
      "Type: DiGraph\n",
      "Number of nodes: 5573\n",
      "Number of edges: 2637\n",
      "Average in degree:   0.4732\n",
      "Average out degree:   0.4732\n",
      "--------------------------------\n",
      " \n",
      "Name: 01-01-2013\n",
      "Type: DiGraph\n",
      "Number of nodes: 5573\n",
      "Number of edges: 2707\n",
      "Average in degree:   0.4857\n",
      "Average out degree:   0.4857\n",
      "--------------------------------\n",
      " \n",
      "Name: 01-04-2013\n",
      "Type: DiGraph\n",
      "Number of nodes: 5573\n",
      "Number of edges: 2771\n",
      "Average in degree:   0.4972\n",
      "Average out degree:   0.4972\n",
      "--------------------------------\n",
      " \n",
      "Name: 01-07-2013\n",
      "Type: DiGraph\n",
      "Number of nodes: 5573\n",
      "Number of edges: 3660\n",
      "Average in degree:   0.6567\n",
      "Average out degree:   0.6567\n",
      "--------------------------------\n",
      " \n",
      "Name: 01-10-2013\n",
      "Type: DiGraph\n",
      "Number of nodes: 5573\n",
      "Number of edges: 2717\n",
      "Average in degree:   0.4875\n",
      "Average out degree:   0.4875\n",
      "--------------------------------\n",
      " \n",
      "Name: 01-01-2014\n",
      "Type: DiGraph\n",
      "Number of nodes: 5573\n",
      "Number of edges: 1990\n",
      "Average in degree:   0.3571\n",
      "Average out degree:   0.3571\n",
      "--------------------------------\n",
      " \n",
      "Name: 01-04-2014\n",
      "Type: DiGraph\n",
      "Number of nodes: 5573\n",
      "Number of edges: 1084\n",
      "Average in degree:   0.1945\n",
      "Average out degree:   0.1945\n",
      "--------------------------------\n",
      " \n",
      "Name: 01-07-2014\n",
      "Type: DiGraph\n",
      "Number of nodes: 5573\n",
      "Number of edges: 1126\n",
      "Average in degree:   0.2020\n",
      "Average out degree:   0.2020\n",
      "--------------------------------\n",
      " \n",
      "Name: 01-10-2014\n",
      "Type: DiGraph\n",
      "Number of nodes: 5573\n",
      "Number of edges: 818\n",
      "Average in degree:   0.1468\n",
      "Average out degree:   0.1468\n",
      "--------------------------------\n",
      " \n",
      "Name: 01-01-2015\n",
      "Type: DiGraph\n",
      "Number of nodes: 5573\n",
      "Number of edges: 527\n",
      "Average in degree:   0.0946\n",
      "Average out degree:   0.0946\n",
      "--------------------------------\n",
      " \n",
      "Name: 01-04-2015\n",
      "Type: DiGraph\n",
      "Number of nodes: 5573\n",
      "Number of edges: 314\n",
      "Average in degree:   0.0563\n",
      "Average out degree:   0.0563\n",
      "--------------------------------\n",
      " \n",
      "Name: 01-07-2015\n",
      "Type: DiGraph\n",
      "Number of nodes: 5573\n",
      "Number of edges: 327\n",
      "Average in degree:   0.0587\n",
      "Average out degree:   0.0587\n",
      "--------------------------------\n",
      " \n",
      "Name: 01-10-2015\n",
      "Type: DiGraph\n",
      "Number of nodes: 5573\n",
      "Number of edges: 186\n",
      "Average in degree:   0.0334\n",
      "Average out degree:   0.0334\n",
      "--------------------------------\n",
      " \n",
      "Name: 01-01-2016\n",
      "Type: DiGraph\n",
      "Number of nodes: 5573\n",
      "Number of edges: 102\n",
      "Average in degree:   0.0183\n",
      "Average out degree:   0.0183\n",
      "--------------------------------\n",
      " \n"
     ]
    }
   ],
   "source": [
    "for i in range(len(OrderedDates)-1):\n",
    "    date1 = OrderedDates[i]\n",
    "    date2 = OrderedDates[i+1]\n",
    "    d = nx.difference(QuarterlyNetworks_AllNodes[date2], QuarterlyNetworks_AllNodes[date1])\n",
    "    \n",
    "    print(nx.info(d))\n",
    "    print('--------------------------------')\n",
    "    print(' ')"
   ]
  },
  {
   "cell_type": "markdown",
   "metadata": {},
   "source": [
    "### 1.7"
   ]
  },
  {
   "cell_type": "markdown",
   "metadata": {},
   "source": [
    "7. Taking the network of links created between 01-04-2011 and 01-07-2011, calculate the average in degree of nodes on the \"in\" side of a new link. To do this, use the in degree of each node as it is in the 01-04-2011 snapshot. Thus, exclude nodes that do not exist yet in the 01-04-2011 snapshot (this requires you use the QuarterlyNetworks[\"01-04-2011\"] network, __not__ QuarterlyNetworks_AllNodes[\"01-04-2011\"]). This quantity should be weighted by the number of times a given node participates in a new link in the \"in\" role. [<span style=\"color:red\">Technical</span>] [3]"
   ]
  },
  {
   "cell_type": "code",
   "execution_count": 27,
   "metadata": {},
   "outputs": [],
   "source": [
    "date1 = '01-04-2011'\n",
    "date2 = '01-07-2011'\n",
    "g1 = QuarterlyNetworks[date1]\n",
    "nodesg1 = g1.nodes()\n",
    "\n",
    "g2 = QuarterlyNetworks[date2]\n",
    "nodesg2 = g2.nodes()\n",
    "\n",
    "newnodes = list(set(nodesg2)-set(nodesg1))\n",
    "indegrees_g2 = g2.in_degree()\n",
    "newnodes_indegree = {node: indegrees_g2[str(node)] for node in newnodes}\n",
    "average_in_degree = np.mean(list(newnodes_indegree.values()))"
   ]
  },
  {
   "cell_type": "code",
   "execution_count": 28,
   "metadata": {},
   "outputs": [
    {
     "name": "stdout",
     "output_type": "stream",
     "text": [
      "Average in degree of new nodes: 3.557\n"
     ]
    }
   ],
   "source": [
    "print('Average in degree of new nodes: {:.3f}'.format(average_in_degree))"
   ]
  },
  {
   "cell_type": "markdown",
   "metadata": {},
   "source": [
    "### 1.8"
   ]
  },
  {
   "cell_type": "code",
   "execution_count": 29,
   "metadata": {},
   "outputs": [
    {
     "name": "stdout",
     "output_type": "stream",
     "text": [
      "Average out degree of new nodes: 3.582\n"
     ]
    }
   ],
   "source": [
    "outdegrees_g2 = g2.out_degree()\n",
    "newnodes_outdegree = {node: outdegrees_g2[str(node)] for node in newnodes}\n",
    "average_out_degree = np.mean(list(newnodes_outdegree.values()))\n",
    "print('Average out degree of new nodes: {:.3f}'.format(average_out_degree))"
   ]
  },
  {
   "cell_type": "markdown",
   "metadata": {},
   "source": [
    "### 1.9"
   ]
  },
  {
   "cell_type": "markdown",
   "metadata": {},
   "source": [
    "9. What do you note about the average in and out degree of nodes participating in new links? How do these quantities compare to the averge degree of the 01-04-2011 quarterly snapshot? Does preferential attachment seem to be in play? [<span style=\"color:blue\">Analytical</span>] [2]"
   ]
  },
  {
   "cell_type": "markdown",
   "metadata": {},
   "source": [
    "The two average degrees are very similar. Since it is an online social network, it seems reasonable that friendship goes in two ways, ths adding a friendship in one way also means in the other way around. They are in the same range (very close)"
   ]
  },
  {
   "cell_type": "markdown",
   "metadata": {},
   "source": [
    "---\n",
    "## Problem 2\n",
    "20 points.\n",
    "\n",
    "Here we will explore the SIR model on the US flight network.\n",
    "\n",
    "1. Install the ndlib package and make sure ndlib imports found below work. We will use this to simulate the SIR process. Documentation and examples for this package can be found [here](http://ndlib.readthedocs.io/en/latest/overview.html). Once ndlib is working, run all of the pre-prepared functions included below. [<span style=\"color:red\">Technical</span>] [1]\n",
    "2. Load the network 'USFlightNetwork.graphml' and print a summary. [<span style=\"color:red\">Technical</span>] [1]\n",
    "3. Using the InitializeSIRModel function below, initialize a SIR model in which Newark airport is the only node initially infected. Use the parameters $\\beta = 0.01$ and $\\gamma = 0.01$. Run this model for a number of iterations sufficient for the infection to die out (_i.e._ no infected nodes are left). Plot the trends using ndlib's DiffusionTrend function. [<span style=\"color:red\">Technical</span>] [1]\n",
    "4. How many iterations did it take for the infection to die out in the previous question? How many nodes did the infection spread to in total? How many iterations did it take for the outbreak peak (in terms of number of nodes infected)? [<span style=\"color:blue\">Analytical</span>] [3]\n",
    "5. Using the AverageOverSimulations and PlotTrends functions provided below, plot the averaged trends for an outbreak beginning at Newark. Use the same model initialized in Question 3. Choose the number of iterations inline with what you identified in Question 4. Average over 100 simulations. [<span style=\"color:red\">Technical</span>] [1]\n",
    "6. In the averaged plots, does the outbreak seem to die out after the same number of iterations as the single run (Question 3)? Is the total fraction of nodes infected the same as what you identified in Question 4. Does the peak in the number of infected nodes occur at the same number of iterations? [<span style=\"color:blue\">Analytical</span>] [3]\n",
    "7. Initialize a model in which the outbreak starts at Minot, North Dakota. Use the same values of $\\beta$ and $\\gamma$ as you have previously. Use the AverageOverSimulations and PlotTrends functions to run this model and plot its averaged trends. Use the same number of iterations and simulation runs as you did for Newark in Question 5. [<span style=\"color:red\">Technical</span>] [1]\n",
    "8. When the outbreak starts at Minot, does it end earlier or later than when it started at Newark? Does it infect more, or less, nodes in total? [<span style=\"color:blue\">Analytical</span>] [2]\n",
    "9. Use the PlotComparison function found below to directly compare the trends obtained for Newark and Minot. First make a plot in which x_max is set to the total number of iterations used in the models. Second, make a plot in which x_max is set to only 25. [<span style=\"color:red\">Technical</span>] [1]\n",
    "10. Read these plots carefully. What does the asymptotic value of the \"recovered curve\" tell us? Which outbreak reaches further? Which outbreak peaks more quickly? Is there a simple statistics/measure that may explain the differences we see between these two outbreaks? [<span style=\"color:blue\">Analytical</span>] [3]\n",
    "11. Now initialize a model in which the outbreak starts at Chicago. Use the same values of $\\beta$ and $\\gamma$ as you have previously. Use the AverageOverSimulations and PlotTrends functions to run this model and plot its averaged trends. Use the same number of iterations and simulation runs as you did for Newark in Questions 5 and 7. [<span style=\"color:red\">Technical</span>] [1]\n",
    "12. Use the PlotComparison function to compare the trends obtained for Newark and Chicago. Is there a significance between the two. If yes, to what do you attribute this. If no, make a guess as to why they are not different. [<span style=\"color:blue\">Analytical</span>] [2]\n"
   ]
  },
  {
   "cell_type": "markdown",
   "metadata": {},
   "source": [
    "#### Problem 2 Grades\n",
    "\n",
    "2.1) None/1\n",
    "\n",
    "2.2) None/1\n",
    "\n",
    "2.3) None/1\n",
    "\n",
    "2.4) None/3\n",
    "\n",
    "2.5) None/1\n",
    "\n",
    "2.6) None/3\n",
    "\n",
    "2.7) None/1\n",
    "\n",
    "2.8) None/2\n",
    "\n",
    "2.9) None/1\n",
    "\n",
    "2.10) None/3\n",
    "\n",
    "2.11) None/1\n",
    "\n",
    "2.12) None/2\n",
    "\n",
    "Total: None/20"
   ]
  },
  {
   "cell_type": "code",
   "execution_count": 30,
   "metadata": {},
   "outputs": [],
   "source": [
    "Problem2Score = None"
   ]
  },
  {
   "cell_type": "markdown",
   "metadata": {},
   "source": [
    "---"
   ]
  },
  {
   "cell_type": "code",
   "execution_count": 31,
   "metadata": {},
   "outputs": [
    {
     "name": "stdout",
     "output_type": "stream",
     "text": [
      "no display found. Using non-interactive Agg backend\n"
     ]
    }
   ],
   "source": [
    "import ndlib.models.ModelConfig as mc\n",
    "import ndlib.models.epidemics.SIRModel as sir\n",
    "from ndlib.viz.mpl.DiffusionTrend import DiffusionTrend "
   ]
  },
  {
   "cell_type": "code",
   "execution_count": 32,
   "metadata": {},
   "outputs": [],
   "source": [
    "def InitializeSIRModel(InitialInfected, Network, beta=0.01, gamma=0.01): #note that InitialInfected is a list of node ids\n",
    "    sir_model = sir.SIRModel(Network) #create the ndlib model object\n",
    "    \n",
    "    #initialize the parameters\n",
    "    sir_cfg = mc.Configuration()\n",
    "    sir_cfg.add_model_parameter('beta', beta)\n",
    "    sir_cfg.add_model_parameter('gamma', gamma)\n",
    "    \n",
    "    sir_cfg.add_model_initial_configuration('Infected', InitialInfected) #infect the nodes at which the infection starts\n",
    "\n",
    "    sir_model.set_initial_status(sir_cfg)\n",
    "\n",
    "    return sir_model#, sir_iter, trends"
   ]
  },
  {
   "cell_type": "code",
   "execution_count": 33,
   "metadata": {},
   "outputs": [],
   "source": [
    "def AverageOverSimulations(model, n_nodes, n_iterations=100, n_simulations = 100): #n_nodes has to be the number of nodes in the network\n",
    "    susceptible_count_mean = np.zeros(n_iterations)\n",
    "    infected_count_mean = np.zeros(n_iterations)\n",
    "    removed_count_mean = np.zeros(n_iterations)\n",
    "    \n",
    "    for i in range(n_simulations):  #execute the simulations n_simulations times\n",
    "        iterations = model.iteration_bunch(n_iterations)  #execute this model n_iterations steps\n",
    "        trends = model.build_trends(iterations)\n",
    "        model.reset()  # reset the model\n",
    "    \n",
    "        susceptible_count_mean = susceptible_count_mean + np.array(trends[0]['trends']['node_count'][0])\n",
    "        infected_count_mean = infected_count_mean + np.array(trends[0]['trends']['node_count'][1])\n",
    "        removed_count_mean = removed_count_mean + np.array(trends[0]['trends']['node_count'][2])\n",
    "        \n",
    "    #Average over simulation runs, normalize by number of nodes and put in a dictionary\n",
    "    Counts = {}\n",
    "    Counts[\"susceptible\"] = susceptible_count_mean/(n_simulations*n_nodes)\n",
    "    Counts[\"infected\"] = infected_count_mean/(n_simulations*n_nodes)\n",
    "    Counts[\"removed\"] = removed_count_mean/(n_simulations*n_nodes)\n",
    "    \n",
    "    return Counts"
   ]
  },
  {
   "cell_type": "code",
   "execution_count": 34,
   "metadata": {},
   "outputs": [],
   "source": [
    "def PlotTrends(CountDictionary, title = None):\n",
    "    n_iterations = len(CountDictionary[\"susceptible\"])\n",
    "    \n",
    "    plt.figure(figsize=(10,6))\n",
    "    plt.xlim(0, n_iterations)\n",
    "    plt.plot(range(n_iterations), CountDictionary[\"susceptible\"], label = 'Susceptible', color = 'steelblue')\n",
    "    plt.plot(range(n_iterations), CountDictionary[\"infected\"], label = 'Infected', color = 'lightblue')\n",
    "    plt.plot(range(n_iterations), CountDictionary[\"removed\"], label = 'Removed', color = 'orange')\n",
    "    plt.xlabel('Iterations', fontsize=25)\n",
    "    plt.ylabel('Fraction of nodes', fontsize=25)\n",
    "    plt.title(title)\n",
    "    plt.legend(fontsize=15)\n",
    "    plt.show()"
   ]
  },
  {
   "cell_type": "code",
   "execution_count": 35,
   "metadata": {},
   "outputs": [],
   "source": [
    "def PlotComparison(CountDictionary_1, CountDictionary_2, title=None, x_max = None):\n",
    "    if x_max == None:\n",
    "        x_max = max(len(CountDictionary_1[\"susceptible\"]),len(CountDictionary_2[\"susceptible\"]))\n",
    "    \n",
    "    DifferencedCountDictionary = {}\n",
    "    for key in CountDictionary_1:\n",
    "        DifferencedCountDictionary[key] = CountDictionary_1[key] - CountDictionary_2[key]\n",
    "    \n",
    "    plt.figure(figsize=(10,6))\n",
    "    #having an x_max that can be independent of the number of iterations allows us to zoom in\n",
    "    plt.xlim(0, x_max)\n",
    "    plt.plot(range(x_max), DifferencedCountDictionary[\"susceptible\"][:x_max], label = 'Susceptible', color = 'steelblue')\n",
    "    plt.plot(range(x_max), DifferencedCountDictionary[\"infected\"][:x_max], label = 'Infected', color = 'lightblue')\n",
    "    plt.plot(range(x_max), DifferencedCountDictionary[\"removed\"][:x_max], label = 'Removed', color = 'orange')\n",
    "    plt.xlabel('Iterations', fontsize=25)\n",
    "    plt.ylabel('Fraction of nodes', fontsize=25)\n",
    "    plt.title(title)\n",
    "    plt.legend(fontsize=15)\n",
    "    plt.plot(range(x_max), x_max*[0.0], color='black')#this just adds a baseline at y=0\n",
    "    plt.show()"
   ]
  },
  {
   "cell_type": "code",
   "execution_count": 36,
   "metadata": {},
   "outputs": [],
   "source": [
    "# These are some specific airports we will use.\n",
    "Newark   = \"11618\"\n",
    "Chicago  = \"13930\"\n",
    "Minot = \"13433\""
   ]
  },
  {
   "cell_type": "markdown",
   "metadata": {},
   "source": [
    "---"
   ]
  },
  {
   "cell_type": "markdown",
   "metadata": {},
   "source": [
    "### 2.1"
   ]
  },
  {
   "cell_type": "code",
   "execution_count": 37,
   "metadata": {
    "scrolled": true
   },
   "outputs": [
    {
     "name": "stdout",
     "output_type": "stream",
     "text": [
      "Requirement already satisfied: ndlib in c:\\users\\yann\\anaconda3\\lib\\site-packages (4.0.2)\n",
      "Requirement already satisfied: networkx in c:\\users\\yann\\anaconda3\\lib\\site-packages (from ndlib) (2.2)\n",
      "Requirement already satisfied: future in c:\\users\\yann\\anaconda3\\lib\\site-packages (from ndlib) (0.17.1)\n",
      "Requirement already satisfied: scipy in c:\\users\\yann\\anaconda3\\lib\\site-packages (from ndlib) (1.1.0)\n",
      "Requirement already satisfied: bokeh in c:\\users\\yann\\anaconda3\\lib\\site-packages (from ndlib) (1.0.2)\n",
      "Requirement already satisfied: numpy in c:\\users\\yann\\anaconda3\\lib\\site-packages (from ndlib) (1.15.4)\n",
      "Requirement already satisfied: dynetx in c:\\users\\yann\\anaconda3\\lib\\site-packages (from ndlib) (0.2.2)\n",
      "Requirement already satisfied: decorator>=4.3.0 in c:\\users\\yann\\anaconda3\\lib\\site-packages (from networkx->ndlib) (4.3.0)\n",
      "Requirement already satisfied: packaging>=16.8 in c:\\users\\yann\\anaconda3\\lib\\site-packages (from bokeh->ndlib) (18.0)\n",
      "Requirement already satisfied: tornado>=4.3 in c:\\users\\yann\\anaconda3\\lib\\site-packages (from bokeh->ndlib) (5.1.1)\n",
      "Requirement already satisfied: six>=1.5.2 in c:\\users\\yann\\anaconda3\\lib\\site-packages (from bokeh->ndlib) (1.12.0)\n",
      "Requirement already satisfied: pillow>=4.0 in c:\\users\\yann\\anaconda3\\lib\\site-packages (from bokeh->ndlib) (5.3.0)\n",
      "Requirement already satisfied: PyYAML>=3.10 in c:\\users\\yann\\anaconda3\\lib\\site-packages (from bokeh->ndlib) (3.13)\n",
      "Requirement already satisfied: python-dateutil>=2.1 in c:\\users\\yann\\anaconda3\\lib\\site-packages (from bokeh->ndlib) (2.7.5)\n",
      "Requirement already satisfied: Jinja2>=2.7 in c:\\users\\yann\\anaconda3\\lib\\site-packages (from bokeh->ndlib) (2.10)\n",
      "Requirement already satisfied: pyparsing>=2.0.2 in c:\\users\\yann\\anaconda3\\lib\\site-packages (from packaging>=16.8->bokeh->ndlib) (2.3.0)\n",
      "Requirement already satisfied: MarkupSafe>=0.23 in c:\\users\\yann\\anaconda3\\lib\\site-packages (from Jinja2>=2.7->bokeh->ndlib) (1.1.0)\n"
     ]
    }
   ],
   "source": [
    "!pip install ndlib"
   ]
  },
  {
   "cell_type": "markdown",
   "metadata": {},
   "source": [
    "### 2.2"
   ]
  },
  {
   "cell_type": "code",
   "execution_count": 38,
   "metadata": {},
   "outputs": [
    {
     "name": "stdout",
     "output_type": "stream",
     "text": [
      "Name: \n",
      "Type: DiGraph\n",
      "Number of nodes: 610\n",
      "Number of edges: 7919\n",
      "Average in degree:  12.9820\n",
      "Average out degree:  12.9820\n"
     ]
    }
   ],
   "source": [
    "G_USFlight = nx.read_graphml('USFlightNetwork.graphml')\n",
    "print(nx.info(G_USFlight))"
   ]
  },
  {
   "cell_type": "markdown",
   "metadata": {},
   "source": [
    "### 2.3"
   ]
  },
  {
   "cell_type": "code",
   "execution_count": 39,
   "metadata": {},
   "outputs": [],
   "source": [
    "def infection_model(infected_node, graph):\n",
    "    \n",
    "    sir_model = InitializeSIRModel(infected_node, graph, beta=0.01, gamma=0.01)\n",
    "    n_infected = len(infected_node)\n",
    "    model_iterations=list()\n",
    "    while n_infected != 0:\n",
    "        iteration = sir_model.iteration()\n",
    "        n_infected = iteration['node_count'][1]\n",
    "        model_iterations.append(iteration)\n",
    "    \n",
    "    n_interation = model_iterations[-1]['iteration']\n",
    "    return sir_model, n_interation, model_iterations\n"
   ]
  },
  {
   "cell_type": "code",
   "execution_count": 40,
   "metadata": {},
   "outputs": [
    {
     "name": "stdout",
     "output_type": "stream",
     "text": [
      "the number of iteration needed is 711\n"
     ]
    }
   ],
   "source": [
    "infected_node = [Newark]\n",
    "graph = G_USFlight\n",
    "sir_model_Newark, n_interation_Newark, model_iterations_Newark = infection_model(infected_node, graph)\n",
    "print('the number of iteration needed is {}' .format(n_interation_Newark))"
   ]
  },
  {
   "cell_type": "code",
   "execution_count": 43,
   "metadata": {},
   "outputs": [],
   "source": [
    "trends_Newark = sir_model_Newark.build_trends(model_iterations_Newark)"
   ]
  },
  {
   "cell_type": "code",
   "execution_count": 44,
   "metadata": {},
   "outputs": [
    {
     "name": "stderr",
     "output_type": "stream",
     "text": [
      "C:\\Users\\Yann\\Anaconda3\\lib\\site-packages\\matplotlib\\figure.py:445: UserWarning: Matplotlib is currently using agg, which is a non-GUI backend, so cannot show the figure.\n",
      "  % get_backend())\n"
     ]
    },
    {
     "data": {
      "image/png": "[encoded data removed]",
      "text/plain": [
       "<Figure size 720x432 with 1 Axes>"
      ]
     },
     "metadata": {
      "needs_background": "light"
     },
     "output_type": "display_data"
    }
   ],
   "source": [
    "viz = DiffusionTrend(sir_model_Newark, trends_Newark)\n",
    "plt.figure(figsize=(10,6))\n",
    "p = viz.plot()\n",
    "plt.show(p)"
   ]
  },
  {
   "cell_type": "markdown",
   "metadata": {},
   "source": [
    "### 2.4"
   ]
  },
  {
   "cell_type": "markdown",
   "metadata": {},
   "source": [
    "4. How many iterations did it take for the infection to die out in the previous question? How many nodes did the infection spread to in total? How many iterations did it take for the outbreak peak (in terms of number of nodes infected)? [<span style=\"color:blue\">Analytical</span>] [3]"
   ]
  },
  {
   "cell_type": "code",
   "execution_count": 87,
   "metadata": {},
   "outputs": [
    {
     "name": "stdout",
     "output_type": "stream",
     "text": [
      "Number of iterations: 711 (as of this model)\n",
      "Number of infected nodes: 453\n",
      "Outbreak peak: 257 nodes indected\n"
     ]
    }
   ],
   "source": [
    "print('Number of iterations: {} (as of this model)'.format(model_iterations_Newark[-1]['iteration']))\n",
    "print('Number of infected nodes: {}'.format(model_iterations_Newark[-1]['node_count'][2]))\n",
    "max_infected_Newark = max([model_iterations_Newark[i]['node_count'][1] for i in range(len(model_iterations_Newark))])\n",
    "print('Outbreak peak: {} nodes indected'.format(max_infected_Newark))"
   ]
  },
  {
   "cell_type": "markdown",
   "metadata": {},
   "source": [
    "### 2.5"
   ]
  },
  {
   "cell_type": "markdown",
   "metadata": {},
   "source": [
    "5. Using the AverageOverSimulations and PlotTrends functions provided below, plot the averaged trends for an outbreak beginning at Newark. Use the same model initialized in Question 3. Choose the number of iterations inline with what you identified in Question 4. Average over 100 simulations. [<span style=\"color:red\">Technical</span>] [1]"
   ]
  },
  {
   "cell_type": "code",
   "execution_count": 45,
   "metadata": {},
   "outputs": [],
   "source": [
    "n_nodes = len(G_USFlight.nodes())"
   ]
  },
  {
   "cell_type": "code",
   "execution_count": 55,
   "metadata": {},
   "outputs": [],
   "source": [
    "CountDictionary_Newark = AverageOverSimulations(sir_model_Newark, n_nodes, n_iterations=n_interation_Newark, n_simulations = 100)"
   ]
  },
  {
   "cell_type": "code",
   "execution_count": 47,
   "metadata": {
    "scrolled": false
   },
   "outputs": [
    {
     "data": {
      "image/png": "[encoded data removed]",
      "text/plain": [
       "<Figure size 720x432 with 1 Axes>"
      ]
     },
     "metadata": {
      "needs_background": "light"
     },
     "output_type": "display_data"
    }
   ],
   "source": [
    "PlotTrends(CountDictionary_Newark, title = None)"
   ]
  },
  {
   "cell_type": "markdown",
   "metadata": {},
   "source": [
    "### 2.6"
   ]
  },
  {
   "cell_type": "markdown",
   "metadata": {},
   "source": [
    "6. In the averaged plots, does the outbreak seem to die out after the same number of iterations as the single run (Question 3)? Is the total fraction of nodes infected the same as what you identified in Question 4. Does the peak in the number of infected nodes occur at the same number of iterations? [<span style=\"color:blue\">Analytical</span>] [3]"
   ]
  },
  {
   "cell_type": "markdown",
   "metadata": {},
   "source": [
    "Yes, very similarly, it dies out after around 700 iterations.\n",
    "With a number of nodes of 610, we see that at its peak, the fraction is abot 38%, which is around the 257 calculated above.\n"
   ]
  },
  {
   "cell_type": "code",
   "execution_count": 92,
   "metadata": {},
   "outputs": [
    {
     "data": {
      "text/plain": [
       "51"
      ]
     },
     "execution_count": 92,
     "metadata": {},
     "output_type": "execute_result"
    }
   ],
   "source": [
    "max_infected_Newark = max([model_iterations_Newark[i]['node_count'][1] for i in range(len(model_iterations_Newark))])\n",
    "infected_Newark = {model_iterations_Newark[i]['iteration']:model_iterations_Newark[i]['node_count'][1] for i in range(len(model_iterations_Newark))}\n",
    "iteration_max = list(infected_Newark.keys())[list(infected_Newark.values()).index(max_infected_Newark)]\n",
    "iteration_max"
   ]
  },
  {
   "cell_type": "markdown",
   "metadata": {},
   "source": [
    "Looking at the graph, the peak value also seem to appear at around 50 iterations"
   ]
  },
  {
   "cell_type": "markdown",
   "metadata": {},
   "source": [
    "### 2.7"
   ]
  },
  {
   "cell_type": "markdown",
   "metadata": {},
   "source": [
    "7. Initialize a model in which the outbreak starts at Minot, North Dakota. Use the same values of $\\beta$ and $\\gamma$ as you have previously. Use the AverageOverSimulations and PlotTrends functions to run this model and plot its averaged trends. Use the same number of iterations and simulation runs as you did for Newark in Question 5. [<span style=\"color:red\">Technical</span>] [1]"
   ]
  },
  {
   "cell_type": "code",
   "execution_count": 48,
   "metadata": {},
   "outputs": [
    {
     "name": "stdout",
     "output_type": "stream",
     "text": [
      "the number of iteration needed is 659\n"
     ]
    }
   ],
   "source": [
    "infected_node = [Minot]\n",
    "graph = G_USFlight\n",
    "sir_model_Minot, n_interation_Minot, model_iterations_Minot = infection_model(infected_node, graph)\n",
    "print('the number of iteration needed is {}' .format(n_interation_Minot))"
   ]
  },
  {
   "cell_type": "code",
   "execution_count": 49,
   "metadata": {},
   "outputs": [],
   "source": [
    "CountDictionary_Minot = AverageOverSimulations(sir_model_Minot, n_nodes, n_iterations=n_interation_Newark, n_simulations = 100)"
   ]
  },
  {
   "cell_type": "code",
   "execution_count": 50,
   "metadata": {
    "scrolled": false
   },
   "outputs": [
    {
     "data": {
      "image/png": "[encoded data removed]",
      "text/plain": [
       "<Figure size 720x432 with 1 Axes>"
      ]
     },
     "metadata": {
      "needs_background": "light"
     },
     "output_type": "display_data"
    }
   ],
   "source": [
    "PlotTrends(CountDictionary_Minot, title = None)"
   ]
  },
  {
   "cell_type": "markdown",
   "metadata": {},
   "source": [
    "### 2.8"
   ]
  },
  {
   "cell_type": "code",
   "execution_count": 88,
   "metadata": {
    "scrolled": true
   },
   "outputs": [
    {
     "name": "stdout",
     "output_type": "stream",
     "text": [
      "Newark: 711 iterations, Minot: 659 iterations\n"
     ]
    }
   ],
   "source": [
    "print('Newark: {} iterations, Minot: {} iterations'.format(n_interation_Newark,n_interation_Minot))"
   ]
  },
  {
   "cell_type": "markdown",
   "metadata": {},
   "source": [
    "Minot needed less iterations"
   ]
  },
  {
   "cell_type": "code",
   "execution_count": 89,
   "metadata": {},
   "outputs": [
    {
     "name": "stdout",
     "output_type": "stream",
     "text": [
      "Outbreak peak: 232 nodes indected\n"
     ]
    }
   ],
   "source": [
    "max_infected_Minot = max([model_iterations_Minot[i]['node_count'][1] for i in range(len(model_iterations_Minot))])\n",
    "print('Outbreak peak: {} nodes indected'.format(max_infected_Minot))"
   ]
  },
  {
   "cell_type": "markdown",
   "metadata": {},
   "source": [
    "Minot had less infected node as well"
   ]
  },
  {
   "cell_type": "markdown",
   "metadata": {},
   "source": [
    "### 2.9"
   ]
  },
  {
   "cell_type": "markdown",
   "metadata": {},
   "source": [
    "9. Use the PlotComparison function found below to directly compare the trends obtained for Newark and Minot. First make a plot in which x_max is set to the total number of iterations used in the models. Second, make a plot in which x_max is set to only 25. [<span style=\"color:red\">Technical</span>] [1]"
   ]
  },
  {
   "cell_type": "code",
   "execution_count": 51,
   "metadata": {},
   "outputs": [
    {
     "data": {
      "image/png": "[encoded data removed]",
      "text/plain": [
       "<Figure size 720x432 with 1 Axes>"
      ]
     },
     "metadata": {
      "needs_background": "light"
     },
     "output_type": "display_data"
    }
   ],
   "source": [
    "PlotComparison(CountDictionary_Newark, CountDictionary_Minot, title=None, x_max = n_interation_Newark)"
   ]
  },
  {
   "cell_type": "code",
   "execution_count": 52,
   "metadata": {},
   "outputs": [
    {
     "data": {
      "image/png": "[encoded data removed]",
      "text/plain": [
       "<Figure size 720x432 with 1 Axes>"
      ]
     },
     "metadata": {
      "needs_background": "light"
     },
     "output_type": "display_data"
    }
   ],
   "source": [
    "PlotComparison(CountDictionary_Newark, CountDictionary_Minot, title=None, x_max = 25)"
   ]
  },
  {
   "cell_type": "markdown",
   "metadata": {},
   "source": [
    "### 2.10"
   ]
  },
  {
   "cell_type": "markdown",
   "metadata": {},
   "source": [
    "10. Read these plots carefully. What does the asymptotic value of the \"recovered curve\" tell us? Which outbreak reaches further? Which outbreak peaks more quickly? Is there a simple statistics/measure that may explain the differences we see between these two outbreaks? [<span style=\"color:blue\">Analytical</span>] [3]"
   ]
  },
  {
   "cell_type": "markdown",
   "metadata": {},
   "source": [
    "The asymptotic value shows that at some point, there is constant number of nodes removed/recovered more in newark than minot. We can see that the difference of nodes infected is null, which means at some point the infection doesn't really depend on the start node anymore. However, we see that the outbreak is much faster in newark than minot, which explains the positivle values.\n",
    "The degree measure is cerainly the cause, Newark being way more connected than Minot\n"
   ]
  },
  {
   "cell_type": "markdown",
   "metadata": {},
   "source": [
    "### 2.11"
   ]
  },
  {
   "cell_type": "markdown",
   "metadata": {},
   "source": [
    "11. Now initialize a model in which the outbreak starts at Chicago. Use the same values of $\\beta$ and $\\gamma$ as you have previously. Use the AverageOverSimulations and PlotTrends functions to run this model and plot its averaged trends. Use the same number of iterations and simulation runs as you did for Newark in Questions 5 and 7. [<span style=\"color:red\">Technical</span>] [1]"
   ]
  },
  {
   "cell_type": "code",
   "execution_count": 53,
   "metadata": {},
   "outputs": [
    {
     "name": "stdout",
     "output_type": "stream",
     "text": [
      "the number of iteration needed is 698\n"
     ]
    }
   ],
   "source": [
    "infected_node = [Chicago]\n",
    "graph = G_USFlight\n",
    "sir_model_Chicago, n_interation_Chicago, model_iterations_Chicago = infection_model(infected_node, graph)\n",
    "print('the number of iteration needed is {}' .format(n_interation_Chicago))"
   ]
  },
  {
   "cell_type": "code",
   "execution_count": 56,
   "metadata": {
    "scrolled": true
   },
   "outputs": [],
   "source": [
    "CountDictionary_Chicago = AverageOverSimulations(sir_model_Chicago, n_nodes, n_iterations=n_interation_Newark, n_simulations = 100)"
   ]
  },
  {
   "cell_type": "code",
   "execution_count": 57,
   "metadata": {},
   "outputs": [
    {
     "data": {
      "image/png": "[encoded data removed]",
      "text/plain": [
       "<Figure size 720x432 with 1 Axes>"
      ]
     },
     "metadata": {
      "needs_background": "light"
     },
     "output_type": "display_data"
    }
   ],
   "source": [
    "PlotTrends(CountDictionary_Chicago, title = None)"
   ]
  },
  {
   "cell_type": "markdown",
   "metadata": {},
   "source": [
    "### 2.12"
   ]
  },
  {
   "cell_type": "code",
   "execution_count": 58,
   "metadata": {},
   "outputs": [
    {
     "data": {
      "image/png": "[encoded data removed]",
      "text/plain": [
       "<Figure size 720x432 with 1 Axes>"
      ]
     },
     "metadata": {
      "needs_background": "light"
     },
     "output_type": "display_data"
    }
   ],
   "source": [
    "PlotComparison(CountDictionary_Newark, CountDictionary_Chicago, title=None, x_max = n_interation_Newark)"
   ]
  },
  {
   "cell_type": "markdown",
   "metadata": {},
   "source": [
    "The ooutbreak is way faster in Chicago than Newark, but it tends to go to 0 slowly.\n",
    "Chicago being in the center of the USA, this could have an impact on the way faster outbreak than in Newark, being the eastside, thus less in the middle"
   ]
  },
  {
   "cell_type": "markdown",
   "metadata": {},
   "source": [
    "----\n",
    "## Problem 3\n",
    "13 points.\n",
    "\n",
    "In this problem you will explore the simple threshold model on the social network: 'fb_combined.txt'.\n",
    "\n",
    "1. Using ndlib, set up a threshold model with $q=0.33$. Initialize the model such that 10% of the nodes start infected. Run for 200 iterations. Plot the diffusion trend. _hint_: See the example [here](http://ndlib.readthedocs.io/en/latest/reference/models/epidemics/Threshold.html) [<span style=\"color:red\">Technical</span>] [2]\n",
    "2. Does the outbreak take over the entire network? Run the simulation two or three more times. Do you get different results? [<span style=\"color:blue\">Analytical</span>] [1]\n",
    "3. Now we will look for the most influential node in the network. To do this, build a loop over all of the nodes in the network. In each iteration of the loop, initialize the model from scratch (this is important! you don't want to carry over any node states) and start the simulation with only the loop node infected. Run the simulation for __20__ (not 200!) iterations and record how many nodes end up infected. [<span style=\"color:red\">Technical</span>] [2]\n",
    "4. Which node is the most influential? What percentage of the network does its cascade infect? What is its degree? Check a couple of other basic node properties (_ex_. closeness, betweenness, PageRank, _etc_.). Is the most influential node unusual in any of these measures? [<span style=\"color:blue\">Analytical</span>] [2]\n",
    "5. We will now look for the set of 5 nodes that are most influential (as a group) by way of a greedy algorithm. Pattern your solution on this pseudo code:\n",
    ">MostInfluentialNodes = [ ]\n",
    ">\n",
    ">while len(MostInfluentialNodes) < 5:\n",
    ">\n",
    ">>MaxNode = None\n",
    ">>\n",
    ">>for LoopNode in Network:\n",
    ">>\n",
    ">>>initialize model\n",
    ">>>\n",
    ">>>infect all nodes already in MostInfluentialNodes\n",
    ">>>\n",
    ">>>infect LoopNode as well\n",
    ">>>\n",
    ">>>run simulation for 20 iterations\n",
    ">>>\n",
    ">>>is the number of infected the largest you've seen in this iteration of the while loop? If so, LoopNode becomes MaxNode\n",
    ">>\n",
    ">>append MaxNode to MostInfluentialNodes\n",
    ">\n",
    ">[<span style=\"color:red\">Technical</span>] [3]\n",
    "6. Which set of 5 nodes emerge as the most influential? What percentage of the network does their cascade infect? How does this compare to the average reach of randomly infecting 10% of the nodes as done in Questions 1 and 2. [<span style=\"color:blue\">Analytical</span>] [1] \n",
    "7. What is the degree of the most influential nodes? How far apart are they in the network (print the pairwise distances)? Do they stand out for any other basic node properties/centrality measures? Test at least 2 or 3 measures. [<span style=\"color:blue\">Analytical</span>] [2]\n"
   ]
  },
  {
   "cell_type": "markdown",
   "metadata": {},
   "source": [
    "#### Problem 3 Grades\n",
    "\n",
    "3.1) None/2\n",
    "\n",
    "3.2) None/1\n",
    "\n",
    "3.3) None/2\n",
    "\n",
    "3.4) None/2\n",
    "\n",
    "3.5) None/3\n",
    "\n",
    "3.6) None/1\n",
    "\n",
    "3.7) None/2\n",
    "\n",
    "Total: None/13"
   ]
  },
  {
   "cell_type": "code",
   "execution_count": null,
   "metadata": {},
   "outputs": [],
   "source": [
    "Problem3Score = None"
   ]
  },
  {
   "cell_type": "markdown",
   "metadata": {},
   "source": [
    "---"
   ]
  },
  {
   "cell_type": "code",
   "execution_count": 4,
   "metadata": {},
   "outputs": [],
   "source": [
    "import ndlib.models.epidemics.ThresholdModel as th\n",
    "import ndlib.models.ModelConfig as mc\n",
    "\n",
    "FB_Network = nx.read_edgelist('fb_combined.txt', create_using=nx.Graph(), nodetype=int)"
   ]
  },
  {
   "cell_type": "markdown",
   "metadata": {},
   "source": [
    "---"
   ]
  },
  {
   "cell_type": "markdown",
   "metadata": {},
   "source": [
    "### 3.1"
   ]
  },
  {
   "cell_type": "markdown",
   "metadata": {},
   "source": [
    "1. Using ndlib, set up a threshold model with $q=0.33$. Initialize the model such that 10% of the nodes start infected. Run for 200 iterations. Plot the diffusion trend. _hint_: See the example [here]"
   ]
  },
  {
   "cell_type": "code",
   "execution_count": 5,
   "metadata": {},
   "outputs": [],
   "source": [
    "def th_model(Graph,perc_infected,threshold, n_iterations,start_infected_nodes):\n",
    "    model = th.ThresholdModel(Graph)\n",
    "    config = mc.Configuration()\n",
    "    if start_infected_nodes == None:\n",
    "        config.add_model_parameter('percentage_infected', perc_infected)\n",
    "    else:\n",
    "        config.add_model_initial_configuration(\"Infected\", start_infected_nodes)\n",
    "\n",
    "    for i in Graph.nodes(): \n",
    "        config.add_node_configuration(\"threshold\", i, threshold)\n",
    "\n",
    "    model.set_initial_status(config)\n",
    "    iterations = model.iteration_bunch(n_iterations)\n",
    "    return iterations"
   ]
  },
  {
   "cell_type": "code",
   "execution_count": 6,
   "metadata": {},
   "outputs": [],
   "source": [
    "Graph = FB_Network\n",
    "perc_infected = 0.1\n",
    "threshold = 0.33\n",
    "start_infected_nodes = None\n",
    "n_iterations = 200\n",
    "iterations1 = th_model(Graph,perc_infected,threshold, n_iterations,start_infected_nodes)\n"
   ]
  },
  {
   "cell_type": "code",
   "execution_count": 65,
   "metadata": {},
   "outputs": [
    {
     "name": "stdout",
     "output_type": "stream",
     "text": [
      "number of infected nodes after 200 iterations: 117\n"
     ]
    }
   ],
   "source": [
    "print('number of infected nodes after {} iterations: {}'.format(n_iterations,iterations1[-1]['node_count'][1]))"
   ]
  },
  {
   "cell_type": "markdown",
   "metadata": {},
   "source": [
    "### 3.2"
   ]
  },
  {
   "cell_type": "code",
   "execution_count": 66,
   "metadata": {},
   "outputs": [
    {
     "name": "stdout",
     "output_type": "stream",
     "text": [
      "Simulation 0\n",
      "number of infected nodes after 200 iterations: 127\n",
      "------------------\n",
      " \n",
      "Simulation 1\n",
      "number of infected nodes after 200 iterations: 107\n",
      "------------------\n",
      " \n",
      "Simulation 2\n",
      "number of infected nodes after 200 iterations: 68\n",
      "------------------\n",
      " \n"
     ]
    }
   ],
   "source": [
    "for i in range(3):\n",
    "    Graph = FB_Network\n",
    "    perc_infected = 0.1\n",
    "    threshold = 0.33\n",
    "    start_infected_nodes = None\n",
    "    n_iterations = 200\n",
    "    iterations1 = th_model(Graph,perc_infected,threshold, n_iterations,start_infected_nodes)\n",
    "    print('Simulation %i' %i)\n",
    "    print('number of infected nodes after {} iterations: {}'.format(n_iterations,iterations1[-1]['node_count'][1]))\n",
    "    print('------------------')\n",
    "    print(' ')"
   ]
  },
  {
   "cell_type": "markdown",
   "metadata": {},
   "source": [
    "It clearly does not affect the whole network but we can see that the number of nodes varies extremely. It probably comes from the randomness of choosing the starting infected nodes."
   ]
  },
  {
   "cell_type": "markdown",
   "metadata": {},
   "source": [
    "### 3.3"
   ]
  },
  {
   "cell_type": "markdown",
   "metadata": {},
   "source": [
    "3. Now we will look for the most influential node in the network. To do this, build a loop over all of the nodes in the network. In each iteration of the loop, initialize the model from scratch (this is important! you don't want to carry over any node states) and start the simulation with only the loop node infected. Run the simulation for __20__ (not 200!) iterations and record how many nodes end up infected. [<span style=\"color:red\">Technical</span>] [2]"
   ]
  },
  {
   "cell_type": "code",
   "execution_count": 67,
   "metadata": {
    "scrolled": true
   },
   "outputs": [],
   "source": [
    "Graph = FB_Network\n",
    "perc_infected = 0.1\n",
    "threshold = 0.33\n",
    "n_iterations = 20\n",
    "influence = {}\n",
    "for start_infected_node in Graph.nodes():\n",
    "    iterations = th_model(Graph,perc_infected,threshold, n_iterations,[start_infected_node])\n",
    "    influence[start_infected_node] = iterations[-1]['node_count'][1]\n"
   ]
  },
  {
   "cell_type": "code",
   "execution_count": 68,
   "metadata": {},
   "outputs": [],
   "source": [
    "import operator"
   ]
  },
  {
   "cell_type": "code",
   "execution_count": 69,
   "metadata": {},
   "outputs": [],
   "source": [
    "influence = sorted(influence.items(),key = operator.itemgetter(1),reverse = True)"
   ]
  },
  {
   "cell_type": "code",
   "execution_count": 70,
   "metadata": {},
   "outputs": [
    {
     "name": "stdout",
     "output_type": "stream",
     "text": [
      "The most influential node is: 348, with 30 nodes infected\n"
     ]
    }
   ],
   "source": [
    "print('The most influential node is: {}, with {} nodes infected'.format(influence[0][0],influence[0][1]))"
   ]
  },
  {
   "cell_type": "markdown",
   "metadata": {},
   "source": [
    "### 3.4"
   ]
  },
  {
   "cell_type": "markdown",
   "metadata": {},
   "source": [
    "4. Which node is the most influential? What percentage of the network does its cascade infect? What is its degree? Check a couple of other basic node properties (_ex_. closeness, betweenness, PageRank, _etc_.). Is the most influential node unusual in any of these measures? [<span style=\"color:blue\">Analytical</span>] [2]"
   ]
  },
  {
   "cell_type": "code",
   "execution_count": 74,
   "metadata": {},
   "outputs": [
    {
     "data": {
      "text/plain": [
       "{1: 16,\n",
       " 48: 21,\n",
       " 53: 30,\n",
       " 54: 7,\n",
       " 73: 9,\n",
       " 88: 19,\n",
       " 92: 20,\n",
       " 119: 61,\n",
       " 126: 6,\n",
       " 133: 17,\n",
       " 194: 18,\n",
       " 236: 36,\n",
       " 280: 42,\n",
       " 299: 19,\n",
       " 315: 55,\n",
       " 322: 71,\n",
       " 346: 26,\n",
       " 2: 9,\n",
       " 20: 14,\n",
       " 115: 20,\n",
       " 116: 16,\n",
       " 149: 13,\n",
       " 226: 13,\n",
       " 312: 25,\n",
       " 326: 18,\n",
       " 333: 7,\n",
       " 343: 17,\n",
       " 3: 16,\n",
       " 9: 56,\n",
       " 25: 68,\n",
       " 26: 67,\n",
       " 67: 75,\n",
       " 72: 23,\n",
       " 85: 13,\n",
       " 122: 62,\n",
       " 142: 42,\n",
       " 170: 45,\n",
       " 188: 47,\n",
       " 200: 56,\n",
       " 228: 2,\n",
       " 274: 13,\n",
       " 283: 4,\n",
       " 323: 38,\n",
       " 4: 9,\n",
       " 78: 8,\n",
       " 152: 4,\n",
       " 181: 9,\n",
       " 195: 8,\n",
       " 218: 8,\n",
       " 273: 8,\n",
       " 275: 9,\n",
       " 306: 8,\n",
       " 328: 8,\n",
       " 5: 12,\n",
       " 87: 12,\n",
       " 156: 11,\n",
       " 158: 24,\n",
       " 169: 37,\n",
       " 180: 19,\n",
       " 187: 15,\n",
       " 204: 21,\n",
       " 213: 38,\n",
       " 235: 4,\n",
       " 316: 1,\n",
       " 6: 5,\n",
       " 89: 7,\n",
       " 95: 5,\n",
       " 147: 5,\n",
       " 219: 5,\n",
       " 319: 7,\n",
       " 7: 19,\n",
       " 22: 10,\n",
       " 31: 22,\n",
       " 38: 8,\n",
       " 65: 11,\n",
       " 103: 15,\n",
       " 129: 6,\n",
       " 136: 21,\n",
       " 168: 10,\n",
       " 246: 13,\n",
       " 291: 35,\n",
       " 304: 54,\n",
       " 308: 23,\n",
       " 339: 26,\n",
       " 340: 5,\n",
       " 347: 6,\n",
       " 8: 7,\n",
       " 91: 7,\n",
       " 110: 4,\n",
       " 193: 4,\n",
       " 201: 3,\n",
       " 245: 4,\n",
       " 259: 7,\n",
       " 264: 4,\n",
       " 21: 64,\n",
       " 30: 16,\n",
       " 56: 77,\n",
       " 66: 14,\n",
       " 69: 9,\n",
       " 75: 13,\n",
       " 79: 11,\n",
       " 105: 13,\n",
       " 113: 39,\n",
       " 128: 27,\n",
       " 134: 18,\n",
       " 141: 27,\n",
       " 148: 19,\n",
       " 161: 24,\n",
       " 176: 13,\n",
       " 185: 25,\n",
       " 186: 43,\n",
       " 199: 46,\n",
       " 203: 56,\n",
       " 224: 27,\n",
       " 231: 20,\n",
       " 232: 24,\n",
       " 252: 64,\n",
       " 258: 14,\n",
       " 271: 72,\n",
       " 272: 44,\n",
       " 276: 17,\n",
       " 277: 64,\n",
       " 285: 46,\n",
       " 295: 9,\n",
       " 297: 24,\n",
       " 329: 29,\n",
       " 334: 27,\n",
       " 341: 11,\n",
       " 342: 33,\n",
       " 10: 9,\n",
       " 332: 42,\n",
       " 13: 30,\n",
       " 59: 18,\n",
       " 82: 33,\n",
       " 98: 48,\n",
       " 109: 36,\n",
       " 118: 35,\n",
       " 172: 40,\n",
       " 211: 29,\n",
       " 223: 26,\n",
       " 238: 22,\n",
       " 239: 58,\n",
       " 261: 37,\n",
       " 265: 26,\n",
       " 313: 36,\n",
       " 325: 38,\n",
       " 14: 14,\n",
       " 28: 12,\n",
       " 41: 23,\n",
       " 144: 14,\n",
       " 151: 6,\n",
       " 214: 16,\n",
       " 310: 12,\n",
       " 16: 8,\n",
       " 29: 12,\n",
       " 331: 19,\n",
       " 17: 12,\n",
       " 19: 15,\n",
       " 111: 13,\n",
       " 137: 15,\n",
       " 140: 10,\n",
       " 112: 2,\n",
       " 138: 1,\n",
       " 174: 3,\n",
       " 175: 16,\n",
       " 227: 14,\n",
       " 289: 3,\n",
       " 293: 2,\n",
       " 44: 5,\n",
       " 162: 7,\n",
       " 39: 14,\n",
       " 40: 43,\n",
       " 55: 16,\n",
       " 104: 31,\n",
       " 108: 12,\n",
       " 121: 11,\n",
       " 123: 17,\n",
       " 127: 15,\n",
       " 159: 13,\n",
       " 165: 10,\n",
       " 184: 17,\n",
       " 197: 15,\n",
       " 212: 17,\n",
       " 248: 20,\n",
       " 251: 13,\n",
       " 281: 15,\n",
       " 284: 15,\n",
       " 345: 15,\n",
       " 324: 25,\n",
       " 23: 16,\n",
       " 51: 6,\n",
       " 61: 2,\n",
       " 83: 6,\n",
       " 99: 12,\n",
       " 124: 3,\n",
       " 155: 2,\n",
       " 190: 3,\n",
       " 230: 8,\n",
       " 237: 6,\n",
       " 240: 2,\n",
       " 267: 1,\n",
       " 24: 15,\n",
       " 57: 14,\n",
       " 80: 22,\n",
       " 94: 21,\n",
       " 101: 18,\n",
       " 242: 23,\n",
       " 249: 23,\n",
       " 266: 17,\n",
       " 302: 19,\n",
       " 76: 2,\n",
       " 84: 12,\n",
       " 130: 15,\n",
       " 221: 7,\n",
       " 257: 17,\n",
       " 270: 3,\n",
       " 288: 3,\n",
       " 290: 13,\n",
       " 336: 2,\n",
       " 62: 25,\n",
       " 298: 10,\n",
       " 27: 4,\n",
       " 106: 7,\n",
       " 247: 2,\n",
       " 338: 6,\n",
       " 178: 12,\n",
       " 303: 20,\n",
       " 32: 5,\n",
       " 93: 7,\n",
       " 167: 6,\n",
       " 337: 8,\n",
       " 33: 1,\n",
       " 42: 1,\n",
       " 34: 4,\n",
       " 173: 9,\n",
       " 348: 156,\n",
       " 414: 31,\n",
       " 428: 49,\n",
       " 35: 1,\n",
       " 143: 11,\n",
       " 36: 10,\n",
       " 135: 9,\n",
       " 309: 9,\n",
       " 320: 20,\n",
       " 117: 5,\n",
       " 77: 5,\n",
       " 132: 15,\n",
       " 307: 3,\n",
       " 317: 6,\n",
       " 243: 7,\n",
       " 45: 11,\n",
       " 46: 4,\n",
       " 177: 10,\n",
       " 278: 9,\n",
       " 47: 1,\n",
       " 301: 2,\n",
       " 330: 15,\n",
       " 49: 3,\n",
       " 192: 4,\n",
       " 241: 1,\n",
       " 255: 1,\n",
       " 50: 10,\n",
       " 146: 9,\n",
       " 314: 12,\n",
       " 52: 1,\n",
       " 191: 2,\n",
       " 196: 12,\n",
       " 254: 16,\n",
       " 260: 7,\n",
       " 60: 7,\n",
       " 63: 5,\n",
       " 207: 2,\n",
       " 222: 10,\n",
       " 58: 3,\n",
       " 107: 14,\n",
       " 171: 7,\n",
       " 269: 5,\n",
       " 250: 4,\n",
       " 268: 10,\n",
       " 96: 8,\n",
       " 318: 10,\n",
       " 64: 6,\n",
       " 100: 8,\n",
       " 150: 10,\n",
       " 189: 6,\n",
       " 217: 7,\n",
       " 344: 8,\n",
       " 68: 8,\n",
       " 225: 9,\n",
       " 263: 6,\n",
       " 296: 6,\n",
       " 70: 1,\n",
       " 71: 2,\n",
       " 294: 2,\n",
       " 300: 6,\n",
       " 81: 2,\n",
       " 286: 1,\n",
       " 86: 5,\n",
       " 164: 2,\n",
       " 327: 3,\n",
       " 90: 1,\n",
       " 179: 2,\n",
       " 97: 2,\n",
       " 182: 2,\n",
       " 102: 5,\n",
       " 131: 6,\n",
       " 163: 5,\n",
       " 353: 36,\n",
       " 363: 35,\n",
       " 366: 34,\n",
       " 376: 68,\n",
       " 389: 15,\n",
       " 420: 16,\n",
       " 475: 61,\n",
       " 483: 48,\n",
       " 484: 33,\n",
       " 229: 5,\n",
       " 279: 1,\n",
       " 220: 3,\n",
       " 262: 3,\n",
       " 125: 3,\n",
       " 208: 6,\n",
       " 120: 3,\n",
       " 206: 3,\n",
       " 157: 2,\n",
       " 139: 8,\n",
       " 311: 6,\n",
       " 183: 1,\n",
       " 321: 2,\n",
       " 145: 1,\n",
       " 153: 1,\n",
       " 154: 1,\n",
       " 160: 1,\n",
       " 166: 3,\n",
       " 198: 8,\n",
       " 202: 3,\n",
       " 427: 7,\n",
       " 464: 4,\n",
       " 253: 2,\n",
       " 205: 1,\n",
       " 351: 4,\n",
       " 364: 7,\n",
       " 393: 5,\n",
       " 399: 6,\n",
       " 441: 6,\n",
       " 476: 5,\n",
       " 216: 1,\n",
       " 233: 1,\n",
       " 256: 1,\n",
       " 234: 1,\n",
       " 244: 1,\n",
       " 282: 1,\n",
       " 305: 1,\n",
       " 349: 3,\n",
       " 350: 11,\n",
       " 352: 17,\n",
       " 354: 19,\n",
       " 355: 26,\n",
       " 356: 3,\n",
       " 357: 11,\n",
       " 358: 1,\n",
       " 359: 19,\n",
       " 360: 24,\n",
       " 361: 15,\n",
       " 362: 14,\n",
       " 365: 3,\n",
       " 367: 22,\n",
       " 368: 24,\n",
       " 369: 19,\n",
       " 370: 43,\n",
       " 371: 4,\n",
       " 372: 8,\n",
       " 373: 52,\n",
       " 374: 36,\n",
       " 375: 13,\n",
       " 377: 2,\n",
       " 378: 38,\n",
       " 379: 1,\n",
       " 380: 6,\n",
       " 381: 8,\n",
       " 382: 9,\n",
       " 383: 3,\n",
       " 384: 3,\n",
       " 385: 6,\n",
       " 386: 2,\n",
       " 387: 20,\n",
       " 388: 27,\n",
       " 390: 5,\n",
       " 391: 35,\n",
       " 392: 23,\n",
       " 394: 18,\n",
       " 395: 40,\n",
       " 396: 17,\n",
       " 397: 28,\n",
       " 398: 21,\n",
       " 400: 41,\n",
       " 401: 2,\n",
       " 402: 35,\n",
       " 403: 13,\n",
       " 404: 34,\n",
       " 405: 7,\n",
       " 406: 3,\n",
       " 407: 8,\n",
       " 408: 37,\n",
       " 409: 23,\n",
       " 410: 10,\n",
       " 411: 3,\n",
       " 412: 56,\n",
       " 413: 15,\n",
       " 415: 19,\n",
       " 416: 15,\n",
       " 417: 36,\n",
       " 418: 12,\n",
       " 419: 38,\n",
       " 421: 19,\n",
       " 422: 23,\n",
       " 423: 27,\n",
       " 424: 11,\n",
       " 425: 13,\n",
       " 426: 9,\n",
       " 429: 5,\n",
       " 430: 26,\n",
       " 431: 46,\n",
       " 432: 32,\n",
       " 433: 5,\n",
       " 434: 22,\n",
       " 435: 6,\n",
       " 436: 31,\n",
       " 437: 8,\n",
       " 438: 40,\n",
       " 439: 25,\n",
       " 440: 11,\n",
       " 442: 8,\n",
       " 443: 2,\n",
       " 444: 32,\n",
       " 445: 22,\n",
       " 446: 14,\n",
       " 447: 1,\n",
       " 448: 3,\n",
       " 449: 6,\n",
       " 450: 16,\n",
       " 451: 13,\n",
       " 452: 27,\n",
       " 453: 5,\n",
       " 454: 2,\n",
       " 455: 19,\n",
       " 456: 41,\n",
       " 457: 13,\n",
       " 458: 19,\n",
       " 459: 6,\n",
       " 460: 42,\n",
       " 461: 30,\n",
       " 462: 13,\n",
       " 463: 30,\n",
       " 465: 46,\n",
       " 466: 4,\n",
       " 467: 2,\n",
       " 468: 2,\n",
       " 469: 14,\n",
       " 470: 10,\n",
       " 471: 18,\n",
       " 472: 3,\n",
       " 473: 22,\n",
       " 474: 15,\n",
       " 477: 8,\n",
       " 478: 6,\n",
       " 479: 22,\n",
       " 480: 3,\n",
       " 481: 20,\n",
       " 482: 25,\n",
       " 485: 3,\n",
       " 486: 11,\n",
       " 487: 27,\n",
       " 488: 19,\n",
       " 489: 17,\n",
       " 490: 10,\n",
       " 491: 9,\n",
       " 492: 38,\n",
       " 493: 37,\n",
       " 494: 15,\n",
       " 495: 16,\n",
       " 496: 24,\n",
       " 497: 55,\n",
       " 498: 5,\n",
       " 499: 2,\n",
       " 500: 47}"
      ]
     },
     "execution_count": 74,
     "metadata": {},
     "output_type": "execute_result"
    }
   ],
   "source": [
    "dict(FB_degree)"
   ]
  },
  {
   "cell_type": "code",
   "execution_count": 76,
   "metadata": {
    "scrolled": true
   },
   "outputs": [
    {
     "name": "stdout",
     "output_type": "stream",
     "text": [
      "Most influential node 348, nodes infected: 30 \n",
      "------------------------\n",
      "Percentage of the network infected: 6.173 %\n",
      "Degree of node 348: 156 \n",
      "Rank in the Network: 1\n",
      "------------------------\n",
      "Closeness of node 348: 0.259 \n",
      "Rank in the Network: 107\n",
      "------------------------\n",
      "Betweenness of node 348: 0.356 \n",
      "Rank in the Network: 1\n",
      "------------------------\n",
      "PageRank of node 348: 0.020 \n",
      "Rank in the Network: 1\n",
      "------------------------\n"
     ]
    }
   ],
   "source": [
    "most_influential = influence[0][0]\n",
    "print('Most influential node {}, nodes infected: {} '.format(influence[0][0],influence[0][1]))\n",
    "print('------------------------')\n",
    "\n",
    "# perc infecected\n",
    "\n",
    "n_nodes = len(influence)\n",
    "perc_infected = float(influence[0][1]/n_nodes)*100\n",
    "print('Percentage of the network infected: {:.3f} %'.format(perc_infected))\n",
    "\n",
    "#degree\n",
    "FB_degree = dict(FB_Network.degree())\n",
    "ranked_degree = [sorted(FB_degree.items(),key = operator.itemgetter(1),reverse = True)[i][0] for i in range(len(FB_degree))]\n",
    "rank_degree_most = ranked_degree.index(most_influential)\n",
    "print('Degree of node {}: {} '.format(most_influential,FB_degree[most_influential]))\n",
    "print('Rank in the Network: {}'.format(rank_degree_most+1))\n",
    "print('------------------------')\n",
    "\n",
    "# closeness\n",
    "FB_closeness = dict(nx.closeness_centrality(FB_Network))\n",
    "ranked_closeness = [sorted(FB_closeness.items(),key = operator.itemgetter(1),reverse = True)[i][0] for i in range(len(FB_degree))]\n",
    "rank_closeness_most = ranked_closeness.index(most_influential)\n",
    "print('Closeness of node {}: {:.3f} '.format(most_influential,FB_closeness[most_influential]))\n",
    "print('Rank in the Network: {}'.format(rank_closeness_most+1))\n",
    "print('------------------------')\n",
    "\n",
    "#betweenness\n",
    "FB_betweenness_centrality = dict(nx.betweenness_centrality(FB_Network))\n",
    "ranked_betweenness = [sorted(FB_betweenness_centrality.items(),key = operator.itemgetter(1),reverse = True)[i][0] for i in range(len(FB_degree))]\n",
    "rank_betweenness_most = ranked_betweenness.index(most_influential)\n",
    "print('Betweenness of node {}: {:.3f} '.format(most_influential,FB_betweenness_centrality[most_influential]))\n",
    "print('Rank in the Network: {}'.format(rank_betweenness_most+1))\n",
    "print('------------------------')\n",
    "\n",
    "# PageRank\n",
    "FB_pagerank = dict(nx.pagerank(FB_Network))\n",
    "ranked_pagerank = [sorted(FB_pagerank.items(),key = operator.itemgetter(1),reverse = True)[i][0] for i in range(len(FB_degree))]\n",
    "rank_pagerank_most = ranked_pagerank.index(most_influential)\n",
    "print('PageRank of node {}: {:.3f} '.format(most_influential,FB_pagerank[most_influential]))\n",
    "print('Rank in the Network: {}'.format(rank_pagerank_most+1))\n",
    "print('------------------------')"
   ]
  },
  {
   "cell_type": "markdown",
   "metadata": {},
   "source": [
    "The most influential is number one in many centrality measure, except for closeness, in which is very far 107."
   ]
  },
  {
   "cell_type": "markdown",
   "metadata": {},
   "source": [
    "### 3.5"
   ]
  },
  {
   "cell_type": "markdown",
   "metadata": {},
   "source": [
    "5. We will now look for the set of 5 nodes that are most influential (as a group) by way of a greedy algorithm. Pattern your solution on this pseudo code:\n",
    ">MostInfluentialNodes = [ ]\n",
    ">\n",
    ">while len(MostInfluentialNodes) < 5:\n",
    ">\n",
    ">>MaxNode = None\n",
    ">>\n",
    ">>for LoopNode in Network:\n",
    ">>\n",
    ">>>initialize model\n",
    ">>>\n",
    ">>>infect all nodes already in MostInfluentialNodes\n",
    ">>>\n",
    ">>>infect LoopNode as well\n",
    ">>>\n",
    ">>>run simulation for 20 iterations\n",
    ">>>\n",
    ">>>is the number of infected the largest you've seen in this iteration of the while loop? If so, LoopNode becomes MaxNode\n",
    ">>\n",
    ">>append MaxNode to MostInfluentialNodes\n",
    ">\n",
    ">[<span style=\"color:red\">Technical</span>] [3]"
   ]
  },
  {
   "cell_type": "code",
   "execution_count": 81,
   "metadata": {},
   "outputs": [
    {
     "data": {
      "text/plain": [
       "[(348, 30), (89, 9), (319, 10), (23, 11), (230, 11)]"
      ]
     },
     "execution_count": 81,
     "metadata": {},
     "output_type": "execute_result"
    }
   ],
   "source": [
    "MostInfluentialNodes = [ ]\n",
    "Graph = FB_Network\n",
    "n_iterations = 20\n",
    "nodelist = list(Graph.nodes())\n",
    "\n",
    "while len(MostInfluentialNodes) < 5:\n",
    "\n",
    "    MaxNode = None\n",
    "    MaxInfected = 0\n",
    "\n",
    "    for node in nodelist:\n",
    "        start_infected_nodes = [node]\n",
    "        \n",
    "        start_infected_nodes.extend(MostInfluentialNodes)\n",
    "        \n",
    "        iterations = th_model(Graph,perc_infected,threshold, n_iterations,start_infected_nodes)\n",
    "        \n",
    "        infected = iterations[-1]['node_count'][1]\n",
    "        \n",
    "        if infected > MaxInfected:\n",
    "            \n",
    "            MaxNode = node\n",
    "            \n",
    "            MaxInfected = infected\n",
    "            \n",
    "    MostInfluentialNodes.append((MaxNode,MaxInfected))\n",
    "    nodelist.remove(MaxNode)\n",
    "    \n",
    "            \n",
    "MostInfluentialNodes\n",
    "        \n",
    "        "
   ]
  },
  {
   "cell_type": "markdown",
   "metadata": {},
   "source": [
    "### 3.6"
   ]
  },
  {
   "cell_type": "markdown",
   "metadata": {},
   "source": [
    "6. Which set of 5 nodes emerge as the most influential? What percentage of the network does their cascade infect? How does this compare to the average reach of randomly infecting 10% of the nodes as done in Questions 1 and 2. [<span style=\"color:blue\">Analytical</span>] [1] "
   ]
  },
  {
   "cell_type": "code",
   "execution_count": null,
   "metadata": {},
   "outputs": [],
   "source": [
    "start_infected_nodes = [MostInfluentialNodes[i][0] for i in range(len(MostInfluentialNodes))]"
   ]
  },
  {
   "cell_type": "code",
   "execution_count": null,
   "metadata": {},
   "outputs": [],
   "source": [
    "Graph = FB_Network\n",
    "n_iterations = 200\n",
    "perc_infected = None\n",
    "threshold = 0.33\n",
    "iterations_influential = th_model(Graph,perc_infected,threshold, n_iterations,start_infected_nodes)"
   ]
  },
  {
   "cell_type": "code",
   "execution_count": null,
   "metadata": {
    "scrolled": true
   },
   "outputs": [],
   "source": [
    "cascade_effect = iterations_influential[-1]['node_count'][1]\n",
    "print('Effect of the most influential nodes: {} infected'.format(cascade_effect))\n",
    "print('Percentage: {:.1f}%'.format(float(cascade_effect/n_nodes)*100))"
   ]
  },
  {
   "cell_type": "markdown",
   "metadata": {},
   "source": [
    "By randomly selecting 10%, the number of infected nodes is higher than taking only the 5 most influencials. Indeed, 10% represents 48 nodes, almost ten times higher than the 5 most influentials"
   ]
  },
  {
   "cell_type": "markdown",
   "metadata": {},
   "source": [
    "### 3.7"
   ]
  },
  {
   "cell_type": "markdown",
   "metadata": {},
   "source": [
    "7. What is the degree of the most influential nodes? How far apart are they in the network (print the pairwise distances)? Do they stand out for any other basic node properties/centrality measures? Test at least 2 or 3 measures. [<span style=\"color:blue\">Analytical</span>] [2]"
   ]
  },
  {
   "cell_type": "code",
   "execution_count": null,
   "metadata": {
    "scrolled": false
   },
   "outputs": [],
   "source": [
    "import pandas as pd\n",
    "colsOD = ['Node']\n",
    "colsOD.extend(start_infected_nodes)\n",
    "OD = pd.DataFrame(columns= colsOD)\n",
    "for i in range(0,len(start_infected_nodes)):\n",
    "    distances = []\n",
    "    origin = start_infected_nodes[i]\n",
    "    distances.append(origin)\n",
    "    for j in range(0,len(start_infected_nodes)):\n",
    "        dest = start_infected_nodes[j]\n",
    "        distances.append(nx.shortest_path_length(FB_Network, source=origin, target=dest))\n",
    "        \n",
    "    OD.loc[i] = distances\n",
    "OD"
   ]
  },
  {
   "cell_type": "code",
   "execution_count": null,
   "metadata": {},
   "outputs": [],
   "source": [
    "measures = ['Degree','Closeness','Betweeness','PageRank']\n",
    "colsM = ['Node','Degree','Closeness','Betweeness','PageRank']\n",
    "DFMeasure = pd.DataFrame(columns= colsM)\n",
    "ranks = {}\n",
    "\n",
    "# degree\n",
    "FB_degree = dict(FB_Network.degree())\n",
    "ranked_degree = [sorted(FB_degree.items(),key = operator.itemgetter(1),reverse = True)[i][0] for i in range(len(FB_degree))]\n",
    "ranks['Degree'] = {node: ranked_degree.index(node)+1 for node in start_infected_nodes}\n",
    "         \n",
    "\n",
    "# closeness\n",
    "FB_closeness = dict(nx.closeness_centrality(FB_Network))\n",
    "ranked_closeness = [sorted(FB_closeness.items(),key = operator.itemgetter(1),reverse = True)[i][0] for i in range(len(FB_degree))]\n",
    "ranks['Closeness'] = {node: ranked_closeness.index(node)+1 for node in start_infected_nodes}\n",
    "\n",
    "#betweenness\n",
    "FB_betweenness_centrality = dict(nx.betweenness_centrality(FB_Network))\n",
    "ranked_betweenness = [sorted(FB_betweenness_centrality.items(),key = operator.itemgetter(1),reverse = True)[i][0] for i in range(len(FB_degree))]\n",
    "ranks['Betweeness'] = {node: ranked_betweenness.index(node)+1 for node in start_infected_nodes}\n",
    "\n",
    "# PageRank\n",
    "FB_pagerank = dict(nx.pagerank(FB_Network))\n",
    "ranked_pagerank = [sorted(FB_pagerank.items(),key = operator.itemgetter(1),reverse = True)[i][0] for i in range(len(FB_degree))]\n",
    "ranks['PageRank'] = {node: ranked_pagerank.index(node)+1 for node in start_infected_nodes}\n",
    "\n",
    "i = 0\n",
    "for node in start_infected_nodes:\n",
    "    measures_line = [node]\n",
    "    measures_node = [ranks[meas][node] for meas in measures]\n",
    "    measures_line.extend(measures_node)\n",
    "    DFMeasure.loc[i] = measures_line\n",
    "    i += 1\n",
    "DFMeasure    "
   ]
  },
  {
   "cell_type": "code",
   "execution_count": null,
   "metadata": {
    "scrolled": true
   },
   "outputs": [],
   "source": [
    "plt.figure(figsize=(10,6))\n",
    "for node in start_infected_nodes:\n",
    "    plt.plot(range(len(measures)),[ranks[meas][node] for meas in measures], label = node)\n",
    "plt.xticks(range(len(measures)), measures)    \n",
    "plt.xlabel('Node', fontsize=25)\n",
    "plt.ylabel('Rank', fontsize=25)\n",
    "plt.legend(fontsize=15)\n",
    "plt.show()"
   ]
  },
  {
   "cell_type": "markdown",
   "metadata": {},
   "source": [
    "From the figure above, it seems like the betweenness is the most important factors, the nodes have a very good rank in it.\n",
    "It also appears that the close nodes (from a distance point of view) tend to have the same centrality measures"
   ]
  },
  {
   "cell_type": "markdown",
   "metadata": {},
   "source": [
    "---"
   ]
  },
  {
   "cell_type": "code",
   "execution_count": null,
   "metadata": {},
   "outputs": [],
   "source": [
    "#FinalScore = Problem1Score + Problem2Score + Problem3Score\n",
    "#print(\"Final score is\",FinalScore,\"out of 50\")"
   ]
  }
 ],
 "metadata": {
  "kernelspec": {
   "display_name": "Python 3",
   "language": "python",
   "name": "python3"
  },
  "language_info": {
   "codemirror_mode": {
    "name": "ipython",
    "version": 3
   },
   "file_extension": ".py",
   "mimetype": "text/x-python",
   "name": "python",
   "nbconvert_exporter": "python",
   "pygments_lexer": "ipython3",
   "version": "3.7.4"
  }
 },
 "nbformat": 4,
 "nbformat_minor": 2
}

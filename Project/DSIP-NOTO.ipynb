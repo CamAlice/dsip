{
 "cells": [
  {
   "cell_type": "markdown",
   "metadata": {},
   "source": [
    "# Project\n",
    "\n",
    "## Initialization"
   ]
  },
  {
   "cell_type": "markdown",
   "metadata": {},
   "source": [
    "Import libraries"
   ]
  },
  {
   "cell_type": "code",
   "execution_count": 1,
   "metadata": {},
   "outputs": [],
   "source": [
    "import pandas as pd\n",
    "import numpy as np"
   ]
  },
  {
   "cell_type": "markdown",
   "metadata": {},
   "source": [
    "Import parallel computing libraries and register processors"
   ]
  },
  {
   "cell_type": "code",
   "execution_count": 2,
   "metadata": {},
   "outputs": [],
   "source": [
    "from ipyparallel import Client\n",
    "from ipyparallel.joblib import IPythonParallelBackend\n",
    "from joblib import Parallel, parallel_backend, register_parallel_backend"
   ]
  },
  {
   "cell_type": "code",
   "execution_count": 3,
   "metadata": {},
   "outputs": [
    {
     "name": "stdout",
     "output_type": "stream",
     "text": [
      "profile: default\n",
      "IDs: [0, 1, 2, 3]\n"
     ]
    }
   ],
   "source": [
    "c = Client(profile='default')\n",
    "print('profile:', c.profile)\n",
    "print(\"IDs:\", c.ids) # Process id numbers\n",
    "bview = c.load_balanced_view()\n",
    "register_parallel_backend('ipyparallel',\n",
    "                          lambda : IPythonParallelBackend(view=bview))"
   ]
  },
  {
   "cell_type": "markdown",
   "metadata": {},
   "source": [
    "Read datasets"
   ]
  },
  {
   "cell_type": "code",
   "execution_count": 4,
   "metadata": {},
   "outputs": [],
   "source": [
    "predictions = pd.read_csv('predicted_covid19_risk_factors.csv')\n",
    "targets = pd.read_csv('https://storage.googleapis.com/open-targets-data-releases/20.02/output/20.02_target_list.csv.gz',\n",
    "                          compression='gzip')\n",
    "diseases = pd.read_csv('https://storage.googleapis.com/open-targets-data-releases/20.02/output/20.02_disease_list.csv.gz',\n",
    "                           compression='gzip')"
   ]
  },
  {
   "cell_type": "markdown",
   "metadata": {},
   "source": [
    "Explore predictions dataset"
   ]
  },
  {
   "cell_type": "code",
   "execution_count": 5,
   "metadata": {},
   "outputs": [
    {
     "data": {
      "text/html": [
       "<div>\n",
       "<style scoped>\n",
       "    .dataframe tbody tr th:only-of-type {\n",
       "        vertical-align: middle;\n",
       "    }\n",
       "\n",
       "    .dataframe tbody tr th {\n",
       "        vertical-align: top;\n",
       "    }\n",
       "\n",
       "    .dataframe thead th {\n",
       "        text-align: right;\n",
       "    }\n",
       "</style>\n",
       "<table border=\"1\" class=\"dataframe\">\n",
       "  <thead>\n",
       "    <tr style=\"text-align: right;\">\n",
       "      <th></th>\n",
       "      <th>Unnamed: 0</th>\n",
       "      <th>Risk Factors</th>\n",
       "      <th>Score</th>\n",
       "    </tr>\n",
       "  </thead>\n",
       "  <tbody>\n",
       "    <tr>\n",
       "      <th>0</th>\n",
       "      <td>0</td>\n",
       "      <td>Platelet storage pool disease</td>\n",
       "      <td>0.852844</td>\n",
       "    </tr>\n",
       "    <tr>\n",
       "      <th>1</th>\n",
       "      <td>1</td>\n",
       "      <td>abnormality of the urinary system physiology</td>\n",
       "      <td>0.828951</td>\n",
       "    </tr>\n",
       "    <tr>\n",
       "      <th>2</th>\n",
       "      <td>2</td>\n",
       "      <td>Bronchiolitis</td>\n",
       "      <td>0.781315</td>\n",
       "    </tr>\n",
       "    <tr>\n",
       "      <th>3</th>\n",
       "      <td>3</td>\n",
       "      <td>endocrine system disease</td>\n",
       "      <td>0.774616</td>\n",
       "    </tr>\n",
       "    <tr>\n",
       "      <th>4</th>\n",
       "      <td>4</td>\n",
       "      <td>Hernia</td>\n",
       "      <td>0.766383</td>\n",
       "    </tr>\n",
       "  </tbody>\n",
       "</table>\n",
       "</div>"
      ],
      "text/plain": [
       "   Unnamed: 0                                  Risk Factors     Score\n",
       "0           0                 Platelet storage pool disease  0.852844\n",
       "1           1  abnormality of the urinary system physiology  0.828951\n",
       "2           2                                 Bronchiolitis  0.781315\n",
       "3           3                      endocrine system disease  0.774616\n",
       "4           4                                        Hernia  0.766383"
      ]
     },
     "execution_count": 5,
     "metadata": {},
     "output_type": "execute_result"
    }
   ],
   "source": [
    "predictions.head()"
   ]
  },
  {
   "cell_type": "markdown",
   "metadata": {},
   "source": [
    "Describe predictions dataset"
   ]
  },
  {
   "cell_type": "code",
   "execution_count": 6,
   "metadata": {},
   "outputs": [
    {
     "data": {
      "text/plain": [
       "count                                     7217\n",
       "unique                                    7217\n",
       "top       adrenocortical carcinoma, hereditary\n",
       "freq                                         1\n",
       "Name: Risk Factors, dtype: object"
      ]
     },
     "execution_count": 6,
     "metadata": {},
     "output_type": "execute_result"
    }
   ],
   "source": [
    "predictions['Risk Factors'].describe()"
   ]
  },
  {
   "cell_type": "code",
   "execution_count": 7,
   "metadata": {},
   "outputs": [
    {
     "data": {
      "text/html": [
       "<div>\n",
       "<style scoped>\n",
       "    .dataframe tbody tr th:only-of-type {\n",
       "        vertical-align: middle;\n",
       "    }\n",
       "\n",
       "    .dataframe tbody tr th {\n",
       "        vertical-align: top;\n",
       "    }\n",
       "\n",
       "    .dataframe thead th {\n",
       "        text-align: right;\n",
       "    }\n",
       "</style>\n",
       "<table border=\"1\" class=\"dataframe\">\n",
       "  <thead>\n",
       "    <tr style=\"text-align: right;\">\n",
       "      <th></th>\n",
       "      <th>efo_id</th>\n",
       "      <th>disease_full_name</th>\n",
       "      <th>number_of_associations</th>\n",
       "    </tr>\n",
       "  </thead>\n",
       "  <tbody>\n",
       "    <tr>\n",
       "      <th>0</th>\n",
       "      <td>EFO_1000984</td>\n",
       "      <td>inflammatory breast carcinoma</td>\n",
       "      <td>174</td>\n",
       "    </tr>\n",
       "    <tr>\n",
       "      <th>1</th>\n",
       "      <td>MONDO_0004093</td>\n",
       "      <td>esophageal basaloid carcinoma</td>\n",
       "      <td>1</td>\n",
       "    </tr>\n",
       "    <tr>\n",
       "      <th>2</th>\n",
       "      <td>EFO_0006352</td>\n",
       "      <td>laryngeal squamous cell carcinoma</td>\n",
       "      <td>796</td>\n",
       "    </tr>\n",
       "    <tr>\n",
       "      <th>3</th>\n",
       "      <td>EFO_1000514</td>\n",
       "      <td>Salivary Gland Adenosquamous Carcinoma</td>\n",
       "      <td>0</td>\n",
       "    </tr>\n",
       "    <tr>\n",
       "      <th>4</th>\n",
       "      <td>EFO_1001965</td>\n",
       "      <td>pharyngeal squamous cell carcinoma</td>\n",
       "      <td>428</td>\n",
       "    </tr>\n",
       "  </tbody>\n",
       "</table>\n",
       "</div>"
      ],
      "text/plain": [
       "          efo_id                       disease_full_name  \\\n",
       "0    EFO_1000984           inflammatory breast carcinoma   \n",
       "1  MONDO_0004093           esophageal basaloid carcinoma   \n",
       "2    EFO_0006352       laryngeal squamous cell carcinoma   \n",
       "3    EFO_1000514  Salivary Gland Adenosquamous Carcinoma   \n",
       "4    EFO_1001965      pharyngeal squamous cell carcinoma   \n",
       "\n",
       "   number_of_associations  \n",
       "0                     174  \n",
       "1                       1  \n",
       "2                     796  \n",
       "3                       0  \n",
       "4                     428  "
      ]
     },
     "execution_count": 7,
     "metadata": {},
     "output_type": "execute_result"
    }
   ],
   "source": [
    "diseases.head()"
   ]
  },
  {
   "cell_type": "markdown",
   "metadata": {},
   "source": [
    "Link disease EFO code to Covid Score."
   ]
  },
  {
   "cell_type": "code",
   "execution_count": 8,
   "metadata": {},
   "outputs": [
    {
     "data": {
      "text/html": [
       "<div>\n",
       "<style scoped>\n",
       "    .dataframe tbody tr th:only-of-type {\n",
       "        vertical-align: middle;\n",
       "    }\n",
       "\n",
       "    .dataframe tbody tr th {\n",
       "        vertical-align: top;\n",
       "    }\n",
       "\n",
       "    .dataframe thead th {\n",
       "        text-align: right;\n",
       "    }\n",
       "</style>\n",
       "<table border=\"1\" class=\"dataframe\">\n",
       "  <thead>\n",
       "    <tr style=\"text-align: right;\">\n",
       "      <th></th>\n",
       "      <th>efo_id</th>\n",
       "      <th>disease_full_name</th>\n",
       "      <th>Score</th>\n",
       "    </tr>\n",
       "  </thead>\n",
       "  <tbody>\n",
       "    <tr>\n",
       "      <th>0</th>\n",
       "      <td>DOID_0050890</td>\n",
       "      <td>synucleinopathy</td>\n",
       "      <td>0.001827</td>\n",
       "    </tr>\n",
       "    <tr>\n",
       "      <th>1</th>\n",
       "      <td>EFO_0000094</td>\n",
       "      <td>B-cell acute lymphoblastic leukemia</td>\n",
       "      <td>0.001435</td>\n",
       "    </tr>\n",
       "    <tr>\n",
       "      <th>2</th>\n",
       "      <td>EFO_0000095</td>\n",
       "      <td>chronic lymphocytic leukemia</td>\n",
       "      <td>0.002511</td>\n",
       "    </tr>\n",
       "    <tr>\n",
       "      <th>3</th>\n",
       "      <td>EFO_0000096</td>\n",
       "      <td>neoplasm of mature B-cells</td>\n",
       "      <td>0.003721</td>\n",
       "    </tr>\n",
       "    <tr>\n",
       "      <th>4</th>\n",
       "      <td>EFO_0000174</td>\n",
       "      <td>Ewing sarcoma</td>\n",
       "      <td>0.000201</td>\n",
       "    </tr>\n",
       "  </tbody>\n",
       "</table>\n",
       "</div>"
      ],
      "text/plain": [
       "         efo_id                    disease_full_name     Score\n",
       "0  DOID_0050890                      synucleinopathy  0.001827\n",
       "1   EFO_0000094  B-cell acute lymphoblastic leukemia  0.001435\n",
       "2   EFO_0000095         chronic lymphocytic leukemia  0.002511\n",
       "3   EFO_0000096           neoplasm of mature B-cells  0.003721\n",
       "4   EFO_0000174                        Ewing sarcoma  0.000201"
      ]
     },
     "execution_count": 8,
     "metadata": {},
     "output_type": "execute_result"
    }
   ],
   "source": [
    "prediction_extended = predictions.merge(diseases,\n",
    "                              how = 'left',\n",
    "                              left_on = 'Risk Factors',\n",
    "                              right_on = 'disease_full_name')[['efo_id', 'disease_full_name', 'Score']]\n",
    "prediction_extended.sort_values(by = 'efo_id', inplace = True, ascending = True)\n",
    "prediction_extended.reset_index(inplace=True, drop = True)\n",
    "prediction_extended.head()"
   ]
  },
  {
   "cell_type": "code",
   "execution_count": 9,
   "metadata": {
    "scrolled": true
   },
   "outputs": [
    {
     "name": "stdout",
     "output_type": "stream",
     "text": [
      "There are 7217 lines (i.e. diseases) in the dataset.\n"
     ]
    }
   ],
   "source": [
    "print('There are {} lines (i.e. diseases) in the dataset.'.format(prediction_extended.shape[0]))"
   ]
  },
  {
   "cell_type": "markdown",
   "metadata": {},
   "source": [
    "---\n",
    "\n",
    "## Function definition"
   ]
  },
  {
   "cell_type": "code",
   "execution_count": 10,
   "metadata": {},
   "outputs": [],
   "source": [
    "import glob\n",
    "\n",
    "def dir_stats(show = True,\n",
    "              directory = \"200_by_100/\",\n",
    "              file_prefix = \"X_raw_disease_200_target_100\",\n",
    "              file_suffix = \".csv\"):\n",
    "    n_files = len(glob.glob(directory + file_prefix + \"*\" + file_suffix))\n",
    "    \n",
    "    if show:\n",
    "        print('There are {} files in directory {}'.format(n_files, directory))\n",
    "        \n",
    "    return n_files"
   ]
  },
  {
   "cell_type": "code",
   "execution_count": 11,
   "metadata": {},
   "outputs": [],
   "source": [
    "def get_csvs(directory = \"200_by_100/\",\n",
    "             file_prefix = \"X_raw_disease_200_target_100\",\n",
    "             file_suffix = \".csv\"):\n",
    "    \n",
    "    n_files = dir_stats(show = True,\n",
    "                        directory = directory,\n",
    "                        file_prefix = file_prefix,\n",
    "                        file_suffix = file_suffix)\n",
    "\n",
    "    if n_files == 0:\n",
    "        done_diseases = []\n",
    "        done_targets = []\n",
    "    else:\n",
    "        for i in range(n_files):\n",
    "            if i == 0:\n",
    "                df = pd.read_csv(directory + file_prefix + str(i) + file_suffix)\n",
    "            else:\n",
    "                tmp_df = pd.read_csv(directory + file_prefix + str(i) + file_suffix)\n",
    "                df = pd.concat([df, tmp_df])\n",
    "        \n",
    "        done_diseases = df.index.tolist()\n",
    "        done_targets = df.columns.tolist()\n",
    "        done_targets.remove('COVID')\n",
    "    \n",
    "    return done_diseases, done_targets, n_files"
   ]
  },
  {
   "cell_type": "code",
   "execution_count": 12,
   "metadata": {},
   "outputs": [],
   "source": [
    "def create_lists(show = False,\n",
    "                 disease_ids = prediction_extended.efo_id,\n",
    "                 target_ids = targets.ensembl_id,\n",
    "                 n_diseases = 200,\n",
    "                 n_targets = 100):\n",
    "\n",
    "    disease_list = np.random.choice(list(disease_ids.tolist()), n_diseases).tolist()\n",
    "    target_list = np.random.choice(list(target_ids.tolist()), n_targets).tolist()\n",
    "\n",
    "    disease_list.sort()\n",
    "    target_list.sort()\n",
    "    \n",
    "    if show:\n",
    "        print('Number of diseases : ', n_diseases)\n",
    "        print('Number of targets :  ', n_targets)\n",
    "\n",
    "    return disease_list, target_list"
   ]
  },
  {
   "cell_type": "code",
   "execution_count": 13,
   "metadata": {},
   "outputs": [],
   "source": [
    "def update_lists(done_diseases: list, done_targets: list):\n",
    "    \n",
    "    disease_ids = prediction_extended[~prediction_extended.efo_id.isin(done_diseases)].efo_id\n",
    "    target_ids = done_targets\n",
    "    \n",
    "    return disease_list, target_list"
   ]
  },
  {
   "cell_type": "code",
   "execution_count": 14,
   "metadata": {},
   "outputs": [],
   "source": [
    "from opentargets import OpenTargetsClient\n",
    "from time import time, ctime\n",
    "\n",
    "def create_dataset(disease_list: list, target_list: list):\n",
    "    \n",
    "    n_diseases = len(disease_list)\n",
    "    n_targets = len(target_list)\n",
    "\n",
    "    X_raw = np.zeros((n_diseases,\n",
    "                      n_targets + 1))\n",
    "\n",
    "    ot = OpenTargetsClient()\n",
    "    start_time = time()\n",
    "    tmp_time = time()\n",
    "\n",
    "    print('Start time : ', ctime())\n",
    "    with parallel_backend('ipyparallel'):\n",
    "        \n",
    "        for disease_id, disease_n in zip(disease_list, range(n_diseases)):\n",
    "            \n",
    "            for target_id,target_n in zip(target_list, range(n_targets)):           \n",
    "                search = ot.filter_associations(disease = disease_id,\n",
    "                                                target = target_id,\n",
    "                                                fields = ['association_score.overall',\n",
    "                                                          'target.id',\n",
    "                                                          'disease.id'])\n",
    "                for i, r in enumerate(search):\n",
    "                    if len(search) > 0 and r['disease']['id'] == disease_id:\n",
    "                        X_raw[disease_n][target_n] = r['association_score']['overall']\n",
    "                        #print(r['disease']['id'], r['target']['id'], r['association_score']['overall'])\n",
    "                #if (target_n + 1) % 200 == 0:\n",
    "                #    print('X_raw line creation : {:.2f} % done. '.format((target_n + 1) / len(target_list) * 100))\n",
    "                #    print(target_n + 1, ' of ', len(target_list))\n",
    "                #    print('Time : {:.2f} seconds.'.format(time() - tmp_time))\n",
    "                #    tmp_time = time()\n",
    "            X_raw[disease_n][n_targets] = prediction_extended.Score[disease_n]\n",
    "            print('-----', disease_n + 1, ' of ', n_diseases)\n",
    "            if (disease_n + 1) % 5 == 0:\n",
    "                print('---Time : {:.2f} seconds.'.format(time() - start_time))\n",
    "                print('---Time since last print : {:.2f} seconds.'.format(time() - tmp_time))\n",
    "                tmp_time = time()\n",
    "            \n",
    "    print('End time : ', ctime())\n",
    "    return X_raw"
   ]
  },
  {
   "cell_type": "code",
   "execution_count": 15,
   "metadata": {
    "scrolled": true
   },
   "outputs": [],
   "source": [
    "def print_dataset(df: pd.DataFrame,\n",
    "                  disease_list: list,\n",
    "                  target_list: list,\n",
    "                  directory = \"200_by_100/\",\n",
    "                  file_prefix = \"X_raw_disease_200_target_100\",\n",
    "                  file_n = \"0\",\n",
    "                  file_suffix = \".csv\"):\n",
    "    \n",
    "    pd.DataFrame(df,\n",
    "                 index = disease_list,\n",
    "                 columns = target_list + ['COVID']\n",
    "                ).to_csv(directory + file_prefix + file_n + file_suffix)"
   ]
  },
  {
   "cell_type": "code",
   "execution_count": null,
   "metadata": {},
   "outputs": [],
   "source": []
  },
  {
   "cell_type": "code",
   "execution_count": null,
   "metadata": {},
   "outputs": [],
   "source": []
  },
  {
   "cell_type": "code",
   "execution_count": null,
   "metadata": {},
   "outputs": [
    {
     "name": "stdout",
     "output_type": "stream",
     "text": [
      "There are 0 files in directory 200_by_100/\n"
     ]
    },
    {
     "name": "stderr",
     "output_type": "stream",
     "text": [
      "c:\\program files\\python37\\lib\\site-packages\\opentargets\\conn.py:299: YAMLLoadWarning: calling yaml.load() without Loader=... is deprecated, as the default Loader is unsafe. Please read https://msg.pyyaml.org/load for full details.\n",
      "  self.api_specs = yaml.load(self.swagger_yaml)\n"
     ]
    },
    {
     "name": "stdout",
     "output_type": "stream",
     "text": [
      "Start time :  Fri May  8 18:23:48 2020\n",
      "----- 1  of  200\n",
      "----- 2  of  200\n",
      "----- 3  of  200\n",
      "----- 4  of  200\n",
      "----- 5  of  200\n",
      "---Time : 39.15 seconds.\n",
      "---Time since last print : 39.15 seconds.\n",
      "----- 6  of  200\n",
      "----- 7  of  200\n",
      "----- 8  of  200\n",
      "----- 9  of  200\n",
      "----- 10  of  200\n",
      "---Time : 79.79 seconds.\n",
      "---Time since last print : 40.64 seconds.\n",
      "----- 11  of  200\n",
      "----- 12  of  200\n",
      "----- 13  of  200\n",
      "----- 14  of  200\n",
      "----- 15  of  200\n",
      "---Time : 121.57 seconds.\n",
      "---Time since last print : 41.78 seconds.\n",
      "----- 16  of  200\n",
      "----- 17  of  200\n",
      "----- 18  of  200\n",
      "----- 19  of  200\n",
      "----- 20  of  200\n",
      "---Time : 159.18 seconds.\n",
      "---Time since last print : 37.61 seconds.\n",
      "----- 21  of  200\n",
      "----- 22  of  200\n",
      "----- 23  of  200\n",
      "----- 24  of  200\n",
      "----- 25  of  200\n",
      "---Time : 202.29 seconds.\n",
      "---Time since last print : 43.11 seconds.\n",
      "----- 26  of  200\n",
      "----- 27  of  200\n",
      "----- 28  of  200\n",
      "----- 29  of  200\n",
      "----- 30  of  200\n",
      "---Time : 244.18 seconds.\n",
      "---Time since last print : 41.89 seconds.\n",
      "----- 31  of  200\n",
      "----- 32  of  200\n",
      "----- 33  of  200\n",
      "----- 34  of  200\n",
      "----- 35  of  200\n",
      "---Time : 284.05 seconds.\n",
      "---Time since last print : 39.87 seconds.\n",
      "----- 36  of  200\n",
      "----- 37  of  200\n",
      "----- 38  of  200\n",
      "----- 39  of  200\n",
      "----- 40  of  200\n",
      "---Time : 322.79 seconds.\n",
      "---Time since last print : 38.74 seconds.\n",
      "----- 41  of  200\n",
      "----- 42  of  200\n",
      "----- 43  of  200\n",
      "----- 44  of  200\n",
      "----- 45  of  200\n",
      "---Time : 364.23 seconds.\n",
      "---Time since last print : 41.44 seconds.\n",
      "----- 46  of  200\n",
      "----- 47  of  200\n",
      "----- 48  of  200\n",
      "----- 49  of  200\n",
      "----- 50  of  200\n",
      "---Time : 400.62 seconds.\n",
      "---Time since last print : 36.39 seconds.\n",
      "----- 51  of  200\n",
      "----- 52  of  200\n",
      "----- 53  of  200\n",
      "----- 54  of  200\n",
      "----- 55  of  200\n",
      "---Time : 438.78 seconds.\n",
      "---Time since last print : 38.16 seconds.\n",
      "----- 56  of  200\n",
      "----- 57  of  200\n",
      "----- 58  of  200\n",
      "----- 59  of  200\n",
      "----- 60  of  200\n",
      "---Time : 475.42 seconds.\n",
      "---Time since last print : 36.64 seconds.\n",
      "----- 61  of  200\n",
      "----- 62  of  200\n",
      "----- 63  of  200\n",
      "----- 64  of  200\n",
      "----- 65  of  200\n",
      "---Time : 516.76 seconds.\n",
      "---Time since last print : 41.34 seconds.\n",
      "----- 66  of  200\n",
      "----- 67  of  200\n",
      "----- 68  of  200\n",
      "----- 69  of  200\n",
      "----- 70  of  200\n",
      "---Time : 551.78 seconds.\n",
      "---Time since last print : 35.02 seconds.\n",
      "----- 71  of  200\n",
      "----- 72  of  200\n",
      "----- 73  of  200\n",
      "----- 74  of  200\n",
      "----- 75  of  200\n",
      "---Time : 588.87 seconds.\n",
      "---Time since last print : 37.10 seconds.\n",
      "----- 76  of  200\n",
      "----- 77  of  200\n",
      "----- 78  of  200\n",
      "----- 79  of  200\n",
      "----- 80  of  200\n",
      "---Time : 627.54 seconds.\n",
      "---Time since last print : 38.67 seconds.\n",
      "----- 81  of  200\n",
      "----- 82  of  200\n",
      "----- 83  of  200\n",
      "----- 84  of  200\n",
      "----- 85  of  200\n",
      "---Time : 665.45 seconds.\n",
      "---Time since last print : 37.91 seconds.\n",
      "----- 86  of  200\n",
      "----- 87  of  200\n",
      "----- 88  of  200\n",
      "----- 89  of  200\n",
      "----- 90  of  200\n",
      "---Time : 700.85 seconds.\n",
      "---Time since last print : 35.40 seconds.\n",
      "----- 91  of  200\n",
      "----- 92  of  200\n",
      "----- 93  of  200\n",
      "----- 94  of  200\n",
      "----- 95  of  200\n",
      "---Time : 740.61 seconds.\n",
      "---Time since last print : 39.76 seconds.\n",
      "----- 96  of  200\n",
      "----- 97  of  200\n",
      "----- 98  of  200\n",
      "----- 99  of  200\n",
      "----- 100  of  200\n",
      "---Time : 780.57 seconds.\n",
      "---Time since last print : 39.97 seconds.\n",
      "----- 101  of  200\n",
      "----- 102  of  200\n",
      "----- 103  of  200\n",
      "----- 104  of  200\n",
      "----- 105  of  200\n",
      "---Time : 818.92 seconds.\n",
      "---Time since last print : 38.34 seconds.\n",
      "----- 106  of  200\n",
      "----- 107  of  200\n",
      "----- 108  of  200\n",
      "----- 109  of  200\n",
      "----- 110  of  200\n",
      "---Time : 859.77 seconds.\n",
      "---Time since last print : 40.85 seconds.\n",
      "----- 111  of  200\n",
      "----- 112  of  200\n",
      "----- 113  of  200\n",
      "----- 114  of  200\n",
      "----- 115  of  200\n",
      "---Time : 902.74 seconds.\n",
      "---Time since last print : 42.97 seconds.\n",
      "----- 116  of  200\n",
      "----- 117  of  200\n",
      "----- 118  of  200\n",
      "----- 119  of  200\n",
      "----- 120  of  200\n",
      "---Time : 933.01 seconds.\n",
      "---Time since last print : 30.27 seconds.\n",
      "----- 121  of  200\n",
      "----- 122  of  200\n",
      "----- 123  of  200\n",
      "----- 124  of  200\n",
      "----- 125  of  200\n",
      "---Time : 969.94 seconds.\n",
      "---Time since last print : 36.93 seconds.\n",
      "----- 126  of  200\n",
      "----- 127  of  200\n",
      "----- 128  of  200\n",
      "----- 129  of  200\n",
      "----- 130  of  200\n",
      "---Time : 1007.82 seconds.\n",
      "---Time since last print : 37.88 seconds.\n",
      "----- 131  of  200\n",
      "----- 132  of  200\n",
      "----- 133  of  200\n",
      "----- 134  of  200\n",
      "----- 135  of  200\n",
      "---Time : 1048.60 seconds.\n",
      "---Time since last print : 40.78 seconds.\n",
      "----- 136  of  200\n",
      "----- 137  of  200\n",
      "----- 138  of  200\n",
      "----- 139  of  200\n",
      "----- 140  of  200\n",
      "---Time : 1085.62 seconds.\n",
      "---Time since last print : 37.02 seconds.\n",
      "----- 141  of  200\n",
      "----- 142  of  200\n",
      "----- 143  of  200\n",
      "----- 144  of  200\n",
      "----- 145  of  200\n",
      "---Time : 1125.11 seconds.\n",
      "---Time since last print : 39.49 seconds.\n",
      "----- 146  of  200\n",
      "----- 147  of  200\n",
      "----- 148  of  200\n",
      "----- 149  of  200\n",
      "----- 150  of  200\n",
      "---Time : 1165.89 seconds.\n",
      "---Time since last print : 40.78 seconds.\n"
     ]
    }
   ],
   "source": [
    "# MAIN\n",
    "\n",
    "directory = \"200_by_100/\"\n",
    "file_prefix = \"X_raw_disease_200_target_100\"\n",
    "file_suffix = \".csv\"\n",
    "\n",
    "done_diseases, done_targets, n_files = get_csvs(directory = directory,\n",
    "                                                file_prefix = file_prefix,\n",
    "                                                file_suffix = file_suffix)\n",
    "\n",
    "show = False\n",
    "disease_ids = prediction_extended.efo_id\n",
    "target_ids = targets.ensembl_id\n",
    "n_diseases = 200\n",
    "n_targets = 100\n",
    "\n",
    "if n_files == 0:\n",
    "    disease_list, target_list = create_lists(show = False,\n",
    "                                             disease_ids = disease_ids,\n",
    "                                             target_ids = target_ids,\n",
    "                                             n_diseases = n_diseases,\n",
    "                                             n_targets = n_targets)\n",
    "else:\n",
    "    disease_list, target_list = update_lists(done_diseases = done_diseases,\n",
    "                                             done_targets = done_targets)\n",
    "\n",
    "X_raw = create_dataset(disease_list, target_list)\n",
    "\n",
    "print_dataset(df = X_raw,\n",
    "              disease_list = disease_list,\n",
    "              target_list = target_list,\n",
    "              directory = directory,\n",
    "              file_prefix = file_prefix,\n",
    "              file_n = n_files,\n",
    "              file_suffix = file_suffix)"
   ]
  },
  {
   "cell_type": "code",
   "execution_count": null,
   "metadata": {},
   "outputs": [],
   "source": []
  }
 ],
 "metadata": {
  "kernelspec": {
   "display_name": "Python 3",
   "language": "python",
   "name": "python3"
  },
  "language_info": {
   "codemirror_mode": {
    "name": "ipython",
    "version": 3
   },
   "file_extension": ".py",
   "mimetype": "text/x-python",
   "name": "python",
   "nbconvert_exporter": "python",
   "pygments_lexer": "ipython3",
   "version": "3.7.6"
  }
 },
 "nbformat": 4,
 "nbformat_minor": 4
}

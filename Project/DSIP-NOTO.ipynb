{
 "cells": [
  {
   "cell_type": "markdown",
   "metadata": {},
   "source": [
    "# Project"
   ]
  },
  {
   "cell_type": "markdown",
   "metadata": {},
   "source": [
    "Import libraries"
   ]
  },
  {
   "cell_type": "code",
   "execution_count": null,
   "metadata": {},
   "outputs": [],
   "source": [
    "import pandas as pd\n",
    "import numpy as np"
   ]
  },
  {
   "cell_type": "markdown",
   "metadata": {},
   "source": [
    "Import parallel computing libraries"
   ]
  },
  {
   "cell_type": "code",
   "execution_count": null,
   "metadata": {},
   "outputs": [],
   "source": [
    "from ipyparallel import Client\n",
    "from ipyparallel.joblib import IPythonParallelBackend\n",
    "from joblib import Parallel, parallel_backend, register_parallel_backend"
   ]
  },
  {
   "cell_type": "code",
   "execution_count": null,
   "metadata": {},
   "outputs": [],
   "source": [
    "c = Client(profile='default')\n",
    "print('profile:', c.profile)\n",
    "print(\"IDs:\", c.ids) # Process id numbers\n",
    "bview = c.load_balanced_view()\n",
    "register_parallel_backend('ipyparallel',\n",
    "                          lambda : IPythonParallelBackend(view=bview))"
   ]
  },
  {
   "cell_type": "markdown",
   "metadata": {},
   "source": [
    "Read datasets"
   ]
  },
  {
   "cell_type": "code",
   "execution_count": null,
   "metadata": {},
   "outputs": [],
   "source": [
    "predictions = pd.read_csv('predicted_covid19_risk_factors.csv')\n",
    "targets = pd.read_csv('https://storage.googleapis.com/open-targets-data-releases/20.02/output/20.02_target_list.csv.gz',\n",
    "                          compression='gzip')\n",
    "diseases = pd.read_csv('https://storage.googleapis.com/open-targets-data-releases/20.02/output/20.02_disease_list.csv.gz',\n",
    "                           compression='gzip')"
   ]
  },
  {
   "cell_type": "markdown",
   "metadata": {},
   "source": [
    "Explore predictions dataset"
   ]
  },
  {
   "cell_type": "code",
   "execution_count": null,
   "metadata": {},
   "outputs": [],
   "source": [
    "predictions.head()"
   ]
  },
  {
   "cell_type": "markdown",
   "metadata": {},
   "source": [
    "Describe predictions dataset"
   ]
  },
  {
   "cell_type": "code",
   "execution_count": null,
   "metadata": {},
   "outputs": [],
   "source": [
    "predictions['Risk Factors'].describe()"
   ]
  },
  {
   "cell_type": "code",
   "execution_count": null,
   "metadata": {},
   "outputs": [],
   "source": [
    "diseases.head()"
   ]
  },
  {
   "cell_type": "code",
   "execution_count": null,
   "metadata": {},
   "outputs": [],
   "source": [
    "prediction_extended = predictions.merge(diseases,\n",
    "                              how = 'left',\n",
    "                              left_on = 'Risk Factors',\n",
    "                              right_on = 'disease_full_name')[['efo_id', 'disease_full_name', 'Score']]\n",
    "prediction_extended.sort_values(by = 'efo_id', inplace = True, ascending = True)\n",
    "prediction_extended.reset_index(inplace=True, drop = True)\n",
    "prediction_extended.head()"
   ]
  },
  {
   "cell_type": "code",
   "execution_count": null,
   "metadata": {},
   "outputs": [],
   "source": [
    "target_list = np.random.choice(list(targets.ensembl_id.tolist()), 100).tolist()\n",
    "disease_list = np.random.choice(list(prediction_extended.efo_id.tolist()), 200).tolist()\n",
    "#disease_list = prediction_extended.efo_id.tolist()\n",
    "\n",
    "target_list.sort()\n",
    "disease_list.sort()\n",
    "\n",
    "print(len(target_list))\n",
    "print(len(disease_list))\n",
    "\n",
    "features = target_list + disease_list"
   ]
  },
  {
   "cell_type": "code",
   "execution_count": null,
   "metadata": {
    "scrolled": true
   },
   "outputs": [],
   "source": [
    "X_raw = np.zeros((len(disease_list),\n",
    "                  len(target_list) + 1))\n",
    "\n",
    "from opentargets import OpenTargetsClient\n",
    "from time import time, ctime\n",
    "\n",
    "ot = OpenTargetsClient()\n",
    "start_time = time()\n",
    "tmp_time = time()\n",
    "\n",
    "print('Start time : ', ctime())\n",
    "with parallel_backend('ipyparallel'):\n",
    "    for disease_id, disease_n in zip(disease_list, range(len(disease_list))):\n",
    "        for target_id,target_n in zip(target_list, range(len(target_list))):           \n",
    "            search = ot.filter_associations(disease = disease_id,\n",
    "                                        target = target_id,\n",
    "                                        fields = ['association_score.overall', 'target.id', 'disease.id'])\n",
    "            for i, r in enumerate(search):\n",
    "                if len(search) > 0 and r['disease']['id'] == disease_id:\n",
    "                    X_raw[disease_n][target_n] = r['association_score']['overall']\n",
    "                    #print(r['disease']['id'], r['target']['id'], r['association_score']['overall'])\n",
    "            #if (target_n + 1) % 200 == 0:\n",
    "            #    print('X_raw line creation : {:.2f} % done. '.format((target_n + 1) / len(target_list) * 100))\n",
    "            #    print(target_n + 1, ' of ', len(target_list))\n",
    "            #    print('Time : {:.2f} seconds.'.format(time() - tmp_time))\n",
    "            #    tmp_time = time()\n",
    "        X_raw[disease_n][len(target_list)] = prediction_extended.Score[disease_n]\n",
    "        print('-----', disease_n + 1, ' of ', len(disease_list))\n",
    "        if (disease_n + 1) % 5 == 0:\n",
    "            print('---Time : {:.2f} seconds.'.format(time() - start_time))\n",
    "            print('---Time since last print : {:.2f} seconds.'.format(time() - tmp_time))\n",
    "            tmp_time = time()\n",
    "            \n",
    "print('End time : ', ctime())"
   ]
  },
  {
   "cell_type": "code",
   "execution_count": null,
   "metadata": {},
   "outputs": [],
   "source": [
    "pd.DataFrame(X_raw, index = disease_list, columns = target_list + ['COVID']).to_csv(\"test/X_raw_disease_200_target_100.csv\")"
   ]
  },
  {
   "cell_type": "code",
   "execution_count": null,
   "metadata": {
    "scrolled": true
   },
   "outputs": [],
   "source": [
    "pd.DataFrame(X_raw).head()"
   ]
  },
  {
   "cell_type": "code",
   "execution_count": null,
   "metadata": {},
   "outputs": [],
   "source": []
  }
 ],
 "metadata": {
  "kernelspec": {
   "display_name": "P3_dsip",
   "language": "python",
   "name": "dsip"
  },
  "language_info": {
   "codemirror_mode": {
    "name": "ipython",
    "version": 3
   },
   "file_extension": ".py",
   "mimetype": "text/x-python",
   "name": "python",
   "nbconvert_exporter": "python",
   "pygments_lexer": "ipython3",
   "version": "3.6.9"
  }
 },
 "nbformat": 4,
 "nbformat_minor": 4
}

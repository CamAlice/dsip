{
 "cells": [
  {
   "cell_type": "markdown",
   "metadata": {},
   "source": [
    "# Data Science in Practice 2020\n",
    "\n",
    "## Problem Set 2\n",
    "\n",
    "### Descriptive report\n",
    "\n",
    "Authors :\n",
    "- Rayan Chaouche\n",
    "- Yann Martinson\n",
    "- Christopher Padovani\n",
    "- Jules Triomphe\n",
    "\n",
    "### 1. Initialization\n",
    "\n",
    "#### 1.1 Primary analysis\n",
    "\n",
    "Loading modules :"
   ]
  },
  {
   "cell_type": "code",
   "execution_count": 1,
   "metadata": {},
   "outputs": [],
   "source": [
    "import seaborn as sns\n",
    "import numpy as np\n",
    "import pandas as pd\n",
    "from sklearn.model_selection import GridSearchCV, RandomizedSearchCV\n",
    "from sklearn.metrics import log_loss, classification_report, confusion_matrix\n",
    "from sklearn.ensemble import RandomForestClassifier\n",
    "from sklearn.model_selection import cross_val_score\n",
    "import time\n",
    "from sklearn.metrics import accuracy_score, precision_recall_fscore_support\n",
    "import matplotlib.pyplot as plt\n",
    "import matplotlib\n",
    "from matplotlib import pyplot\n",
    "from operator import itemgetter, attrgetter\n",
    "from scipy.stats import randint as sp_randint\n",
    "from sklearn import metrics"
   ]
  },
  {
   "cell_type": "markdown",
   "metadata": {},
   "source": [
    "## Functions"
   ]
  },
  {
   "cell_type": "code",
   "execution_count": 4,
   "metadata": {},
   "outputs": [],
   "source": [
    "def df_preprocessing() :\n",
    "    \n",
    "    df_raw = pd.read_csv('customers.csv')\n",
    "    \n",
    "    # clean up lines\n",
    "    \n",
    "    total_length = len(df_raw)\n",
    "    df_raw = df_raw[df_raw['TotalCharges'] != ' ']\n",
    "    df_raw.TotalCharges = df_raw.TotalCharges.astype('float')\n",
    "    cleanup_length = len(df_raw)\n",
    "    print('%s lines were deleted.' %(total_length - cleanup_length))\n",
    "    \n",
    "    # output into dummies\n",
    "    \n",
    "    churn_dummy_dict = {'Yes': 1, 'No': 0}\n",
    "    df_raw.Churn.replace(churn_dummy_dict, inplace = True)\n",
    "    \n",
    "    # X y splitting\n",
    "    \n",
    "    y = df_raw.Churn.copy()\n",
    "    X_raw = df_raw.drop(columns ='Churn').copy()\n",
    "    \n",
    "    # input into dummies\n",
    "    \n",
    "    X_raw_types = dict(X_raw.dtypes)\n",
    "    features = list(X_raw.columns)\n",
    "    categorical_features = [feat for feat in features if X_raw_types[feat] == 'O']\n",
    "    categorical_features.remove('customerID')\n",
    "    \n",
    "    X = pd.get_dummies(X_raw, columns = categorical_features,prefix_sep=':')\n",
    "    X = X.drop(columns = 'customerID').copy()\n",
    "    \n",
    "    # train val splitting\n",
    "    \n",
    "    train = np.random.rand(cleanup_length)> 0.2\n",
    "\n",
    "    X_train = X[train]\n",
    "    X_val = X[~train]\n",
    "\n",
    "    y_train = y[train].tolist()\n",
    "    y_val = y[~train].tolist()\n",
    "\n",
    "    \n",
    "    return df_raw,categorical_features, X, X_train, X_val, y, y_train, y_val"
   ]
  },
  {
   "cell_type": "code",
   "execution_count": 119,
   "metadata": {},
   "outputs": [],
   "source": [
    "def plot_importance(feature_importance_sorted, n, type_of_search):\n",
    "    \n",
    "    plt.figure(figsize=(15,5))\n",
    "    x = np.arange(n)\n",
    "    y = [feature_importance_sorted[i][1] for i in range(n)]\n",
    "    labels = [feature_importance_sorted[i][0] for i in range(n)]\n",
    "    sns.barplot(x,y);\n",
    "    plt.xticks(x,labels, rotation=90, fontsize = 15)\n",
    "    plt.title('Most important feature: {}'.format(type_of_search), fontsize = 15)\n",
    "    plt.show()"
   ]
  },
  {
   "cell_type": "code",
   "execution_count": 5,
   "metadata": {},
   "outputs": [
    {
     "name": "stdout",
     "output_type": "stream",
     "text": [
      "11 lines were deleted.\n"
     ]
    }
   ],
   "source": [
    "df_raw,categorical_features, X, X_train, X_val, y, y_train, y_val = df_preprocessing()"
   ]
  },
  {
   "cell_type": "markdown",
   "metadata": {},
   "source": [
    "As we want to avoid some over fitting, we will first separate the set in two distinct set, train and validate, which will allow us to test the model on some unseen data. We make a random 80% - 20% split of the data"
   ]
  },
  {
   "cell_type": "markdown",
   "metadata": {},
   "source": [
    "#### Random Forest Classifier\n",
    "\n",
    "We will compare two methods, which are grid search and random search"
   ]
  },
  {
   "cell_type": "code",
   "execution_count": 6,
   "metadata": {},
   "outputs": [],
   "source": [
    "clf = RandomForestClassifier(n_jobs=-1)"
   ]
  },
  {
   "cell_type": "markdown",
   "metadata": {},
   "source": [
    "# Grid search\n",
    "To avoid a too high computational time, we will focus on 2 of the mot important parameters that are max depth and the number of estimators"
   ]
  },
  {
   "cell_type": "markdown",
   "metadata": {},
   "source": [
    "#### Max Depth\n",
    "this parameter is the depth of the trees, which is one of the most important. We range it between 4, anything lower seems too low and imcreas computational time for not much, and 15.\n",
    "\n",
    "#### Number of estimators\n",
    "this parameter is the number of trees that are going to be generated, here the choice of of number of trees will mostly affect the computational time. let's set them values between 10 and 500 and see the effects"
   ]
  },
  {
   "cell_type": "code",
   "execution_count": 7,
   "metadata": {},
   "outputs": [],
   "source": [
    "max_depth = list(range(4,16))"
   ]
  },
  {
   "cell_type": "code",
   "execution_count": 8,
   "metadata": {},
   "outputs": [],
   "source": [
    "n_estimators = [10, 15, 20, 50, 100, 200, 500]"
   ]
  },
  {
   "cell_type": "markdown",
   "metadata": {},
   "source": [
    "Let's use the default 5 folds of cross validation"
   ]
  },
  {
   "cell_type": "code",
   "execution_count": 9,
   "metadata": {},
   "outputs": [],
   "source": [
    "grid_parameters = {'max_depth':max_depth, 'n_estimators': n_estimators }"
   ]
  },
  {
   "cell_type": "code",
   "execution_count": 11,
   "metadata": {},
   "outputs": [],
   "source": [
    "grid_clf = GridSearchCV(clf, param_grid = grid_parameters, verbose = 3)"
   ]
  },
  {
   "cell_type": "code",
   "execution_count": 12,
   "metadata": {
    "scrolled": true
   },
   "outputs": [
    {
     "name": "stderr",
     "output_type": "stream",
     "text": [
      "C:\\Users\\Yann\\Anaconda3\\lib\\site-packages\\sklearn\\model_selection\\_split.py:1978: FutureWarning: The default value of cv will change from 3 to 5 in version 0.22. Specify it explicitly to silence this warning.\n",
      "  warnings.warn(CV_WARNING, FutureWarning)\n",
      "[Parallel(n_jobs=1)]: Using backend SequentialBackend with 1 concurrent workers.\n"
     ]
    },
    {
     "name": "stdout",
     "output_type": "stream",
     "text": [
      "Fitting 3 folds for each of 84 candidates, totalling 252 fits\n",
      "[CV] max_depth=4, n_estimators=10 ....................................\n",
      "[CV] ........ max_depth=4, n_estimators=10, score=0.785, total=   4.5s\n",
      "[CV] max_depth=4, n_estimators=10 ....................................\n",
      "[CV] ........ max_depth=4, n_estimators=10, score=0.784, total=   0.2s\n",
      "[CV] max_depth=4, n_estimators=10 ....................................\n"
     ]
    },
    {
     "name": "stderr",
     "output_type": "stream",
     "text": [
      "[Parallel(n_jobs=1)]: Done   1 out of   1 | elapsed:    4.4s remaining:    0.0s\n",
      "[Parallel(n_jobs=1)]: Done   2 out of   2 | elapsed:    4.5s remaining:    0.0s\n"
     ]
    },
    {
     "name": "stdout",
     "output_type": "stream",
     "text": [
      "[CV] ........ max_depth=4, n_estimators=10, score=0.787, total=   0.2s\n",
      "[CV] max_depth=4, n_estimators=15 ....................................\n",
      "[CV] ........ max_depth=4, n_estimators=15, score=0.790, total=   0.2s\n",
      "[CV] max_depth=4, n_estimators=15 ....................................\n",
      "[CV] ........ max_depth=4, n_estimators=15, score=0.786, total=   0.2s\n",
      "[CV] max_depth=4, n_estimators=15 ....................................\n",
      "[CV] ........ max_depth=4, n_estimators=15, score=0.791, total=   0.3s\n",
      "[CV] max_depth=4, n_estimators=20 ....................................\n",
      "[CV] ........ max_depth=4, n_estimators=20, score=0.785, total=   0.2s\n",
      "[CV] max_depth=4, n_estimators=20 ....................................\n",
      "[CV] ........ max_depth=4, n_estimators=20, score=0.787, total=   0.3s\n",
      "[CV] max_depth=4, n_estimators=20 ....................................\n",
      "[CV] ........ max_depth=4, n_estimators=20, score=0.791, total=   0.2s\n",
      "[CV] max_depth=4, n_estimators=50 ....................................\n",
      "[CV] ........ max_depth=4, n_estimators=50, score=0.787, total=   0.3s\n",
      "[CV] max_depth=4, n_estimators=50 ....................................\n",
      "[CV] ........ max_depth=4, n_estimators=50, score=0.790, total=   0.3s\n",
      "[CV] max_depth=4, n_estimators=50 ....................................\n",
      "[CV] ........ max_depth=4, n_estimators=50, score=0.788, total=   0.3s\n",
      "[CV] max_depth=4, n_estimators=100 ...................................\n",
      "[CV] ....... max_depth=4, n_estimators=100, score=0.788, total=   0.3s\n",
      "[CV] max_depth=4, n_estimators=100 ...................................\n",
      "[CV] ....... max_depth=4, n_estimators=100, score=0.791, total=   0.4s\n",
      "[CV] max_depth=4, n_estimators=100 ...................................\n",
      "[CV] ....... max_depth=4, n_estimators=100, score=0.795, total=   0.3s\n",
      "[CV] max_depth=4, n_estimators=200 ...................................\n",
      "[CV] ....... max_depth=4, n_estimators=200, score=0.790, total=   0.5s\n",
      "[CV] max_depth=4, n_estimators=200 ...................................\n",
      "[CV] ....... max_depth=4, n_estimators=200, score=0.792, total=   0.5s\n",
      "[CV] max_depth=4, n_estimators=200 ...................................\n",
      "[CV] ....... max_depth=4, n_estimators=200, score=0.795, total=   0.5s\n",
      "[CV] max_depth=4, n_estimators=500 ...................................\n",
      "[CV] ....... max_depth=4, n_estimators=500, score=0.788, total=   1.2s\n",
      "[CV] max_depth=4, n_estimators=500 ...................................\n",
      "[CV] ....... max_depth=4, n_estimators=500, score=0.789, total=   1.3s\n",
      "[CV] max_depth=4, n_estimators=500 ...................................\n",
      "[CV] ....... max_depth=4, n_estimators=500, score=0.795, total=   2.3s\n",
      "[CV] max_depth=5, n_estimators=10 ....................................\n",
      "[CV] ........ max_depth=5, n_estimators=10, score=0.787, total=   0.2s\n",
      "[CV] max_depth=5, n_estimators=10 ....................................\n",
      "[CV] ........ max_depth=5, n_estimators=10, score=0.789, total=   0.3s\n",
      "[CV] max_depth=5, n_estimators=10 ....................................\n",
      "[CV] ........ max_depth=5, n_estimators=10, score=0.793, total=   0.2s\n",
      "[CV] max_depth=5, n_estimators=15 ....................................\n",
      "[CV] ........ max_depth=5, n_estimators=15, score=0.789, total=   0.2s\n",
      "[CV] max_depth=5, n_estimators=15 ....................................\n",
      "[CV] ........ max_depth=5, n_estimators=15, score=0.797, total=   0.3s\n",
      "[CV] max_depth=5, n_estimators=15 ....................................\n",
      "[CV] ........ max_depth=5, n_estimators=15, score=0.798, total=   0.2s\n",
      "[CV] max_depth=5, n_estimators=20 ....................................\n",
      "[CV] ........ max_depth=5, n_estimators=20, score=0.796, total=   0.2s\n",
      "[CV] max_depth=5, n_estimators=20 ....................................\n",
      "[CV] ........ max_depth=5, n_estimators=20, score=0.788, total=   0.3s\n",
      "[CV] max_depth=5, n_estimators=20 ....................................\n",
      "[CV] ........ max_depth=5, n_estimators=20, score=0.796, total=   0.3s\n",
      "[CV] max_depth=5, n_estimators=50 ....................................\n",
      "[CV] ........ max_depth=5, n_estimators=50, score=0.788, total=   0.4s\n",
      "[CV] max_depth=5, n_estimators=50 ....................................\n",
      "[CV] ........ max_depth=5, n_estimators=50, score=0.792, total=   0.7s\n",
      "[CV] max_depth=5, n_estimators=50 ....................................\n",
      "[CV] ........ max_depth=5, n_estimators=50, score=0.800, total=   0.4s\n",
      "[CV] max_depth=5, n_estimators=100 ...................................\n",
      "[CV] ....... max_depth=5, n_estimators=100, score=0.788, total=   0.4s\n",
      "[CV] max_depth=5, n_estimators=100 ...................................\n",
      "[CV] ....... max_depth=5, n_estimators=100, score=0.790, total=   0.4s\n",
      "[CV] max_depth=5, n_estimators=100 ...................................\n",
      "[CV] ....... max_depth=5, n_estimators=100, score=0.799, total=   0.4s\n",
      "[CV] max_depth=5, n_estimators=200 ...................................\n",
      "[CV] ....... max_depth=5, n_estimators=200, score=0.787, total=   1.1s\n",
      "[CV] max_depth=5, n_estimators=200 ...................................\n",
      "[CV] ....... max_depth=5, n_estimators=200, score=0.792, total=   0.9s\n",
      "[CV] max_depth=5, n_estimators=200 ...................................\n",
      "[CV] ....... max_depth=5, n_estimators=200, score=0.798, total=   0.9s\n",
      "[CV] max_depth=5, n_estimators=500 ...................................\n",
      "[CV] ....... max_depth=5, n_estimators=500, score=0.789, total=   1.6s\n",
      "[CV] max_depth=5, n_estimators=500 ...................................\n",
      "[CV] ....... max_depth=5, n_estimators=500, score=0.790, total=   1.4s\n",
      "[CV] max_depth=5, n_estimators=500 ...................................\n",
      "[CV] ....... max_depth=5, n_estimators=500, score=0.798, total=   1.2s\n",
      "[CV] max_depth=6, n_estimators=10 ....................................\n",
      "[CV] ........ max_depth=6, n_estimators=10, score=0.782, total=   0.2s\n",
      "[CV] max_depth=6, n_estimators=10 ....................................\n",
      "[CV] ........ max_depth=6, n_estimators=10, score=0.786, total=   0.2s\n",
      "[CV] max_depth=6, n_estimators=10 ....................................\n",
      "[CV] ........ max_depth=6, n_estimators=10, score=0.794, total=   0.2s\n",
      "[CV] max_depth=6, n_estimators=15 ....................................\n",
      "[CV] ........ max_depth=6, n_estimators=15, score=0.796, total=   0.2s\n",
      "[CV] max_depth=6, n_estimators=15 ....................................\n",
      "[CV] ........ max_depth=6, n_estimators=15, score=0.787, total=   0.2s\n",
      "[CV] max_depth=6, n_estimators=15 ....................................\n",
      "[CV] ........ max_depth=6, n_estimators=15, score=0.798, total=   0.2s\n",
      "[CV] max_depth=6, n_estimators=20 ....................................\n",
      "[CV] ........ max_depth=6, n_estimators=20, score=0.795, total=   0.2s\n",
      "[CV] max_depth=6, n_estimators=20 ....................................\n",
      "[CV] ........ max_depth=6, n_estimators=20, score=0.789, total=   0.2s\n",
      "[CV] max_depth=6, n_estimators=20 ....................................\n",
      "[CV] ........ max_depth=6, n_estimators=20, score=0.795, total=   0.2s\n",
      "[CV] max_depth=6, n_estimators=50 ....................................\n",
      "[CV] ........ max_depth=6, n_estimators=50, score=0.795, total=   0.3s\n",
      "[CV] max_depth=6, n_estimators=50 ....................................\n",
      "[CV] ........ max_depth=6, n_estimators=50, score=0.799, total=   0.3s\n",
      "[CV] max_depth=6, n_estimators=50 ....................................\n",
      "[CV] ........ max_depth=6, n_estimators=50, score=0.799, total=   0.3s\n",
      "[CV] max_depth=6, n_estimators=100 ...................................\n",
      "[CV] ....... max_depth=6, n_estimators=100, score=0.792, total=   0.4s\n",
      "[CV] max_depth=6, n_estimators=100 ...................................\n",
      "[CV] ....... max_depth=6, n_estimators=100, score=0.785, total=   0.4s\n",
      "[CV] max_depth=6, n_estimators=100 ...................................\n",
      "[CV] ....... max_depth=6, n_estimators=100, score=0.804, total=   0.4s\n",
      "[CV] max_depth=6, n_estimators=200 ...................................\n",
      "[CV] ....... max_depth=6, n_estimators=200, score=0.792, total=   0.9s\n",
      "[CV] max_depth=6, n_estimators=200 ...................................\n",
      "[CV] ....... max_depth=6, n_estimators=200, score=0.795, total=   0.6s\n",
      "[CV] max_depth=6, n_estimators=200 ...................................\n",
      "[CV] ....... max_depth=6, n_estimators=200, score=0.799, total=   0.5s\n",
      "[CV] max_depth=6, n_estimators=500 ...................................\n"
     ]
    },
    {
     "name": "stdout",
     "output_type": "stream",
     "text": [
      "[CV] ....... max_depth=6, n_estimators=500, score=0.793, total=   1.9s\n",
      "[CV] max_depth=6, n_estimators=500 ...................................\n",
      "[CV] ....... max_depth=6, n_estimators=500, score=0.791, total=   1.4s\n",
      "[CV] max_depth=6, n_estimators=500 ...................................\n",
      "[CV] ....... max_depth=6, n_estimators=500, score=0.800, total=   1.4s\n",
      "[CV] max_depth=7, n_estimators=10 ....................................\n",
      "[CV] ........ max_depth=7, n_estimators=10, score=0.792, total=   0.2s\n",
      "[CV] max_depth=7, n_estimators=10 ....................................\n",
      "[CV] ........ max_depth=7, n_estimators=10, score=0.790, total=   0.2s\n",
      "[CV] max_depth=7, n_estimators=10 ....................................\n",
      "[CV] ........ max_depth=7, n_estimators=10, score=0.795, total=   0.2s\n",
      "[CV] max_depth=7, n_estimators=15 ....................................\n",
      "[CV] ........ max_depth=7, n_estimators=15, score=0.800, total=   0.2s\n",
      "[CV] max_depth=7, n_estimators=15 ....................................\n",
      "[CV] ........ max_depth=7, n_estimators=15, score=0.790, total=   0.2s\n",
      "[CV] max_depth=7, n_estimators=15 ....................................\n",
      "[CV] ........ max_depth=7, n_estimators=15, score=0.802, total=   0.2s\n",
      "[CV] max_depth=7, n_estimators=20 ....................................\n",
      "[CV] ........ max_depth=7, n_estimators=20, score=0.791, total=   0.2s\n",
      "[CV] max_depth=7, n_estimators=20 ....................................\n",
      "[CV] ........ max_depth=7, n_estimators=20, score=0.792, total=   0.2s\n",
      "[CV] max_depth=7, n_estimators=20 ....................................\n",
      "[CV] ........ max_depth=7, n_estimators=20, score=0.798, total=   0.2s\n",
      "[CV] max_depth=7, n_estimators=50 ....................................\n",
      "[CV] ........ max_depth=7, n_estimators=50, score=0.795, total=   0.3s\n",
      "[CV] max_depth=7, n_estimators=50 ....................................\n",
      "[CV] ........ max_depth=7, n_estimators=50, score=0.799, total=   0.3s\n",
      "[CV] max_depth=7, n_estimators=50 ....................................\n",
      "[CV] ........ max_depth=7, n_estimators=50, score=0.801, total=   0.3s\n",
      "[CV] max_depth=7, n_estimators=100 ...................................\n",
      "[CV] ....... max_depth=7, n_estimators=100, score=0.798, total=   0.4s\n",
      "[CV] max_depth=7, n_estimators=100 ...................................\n",
      "[CV] ....... max_depth=7, n_estimators=100, score=0.793, total=   0.4s\n",
      "[CV] max_depth=7, n_estimators=100 ...................................\n",
      "[CV] ....... max_depth=7, n_estimators=100, score=0.801, total=   0.4s\n",
      "[CV] max_depth=7, n_estimators=200 ...................................\n",
      "[CV] ....... max_depth=7, n_estimators=200, score=0.795, total=   0.6s\n",
      "[CV] max_depth=7, n_estimators=200 ...................................\n",
      "[CV] ....... max_depth=7, n_estimators=200, score=0.796, total=   0.7s\n",
      "[CV] max_depth=7, n_estimators=200 ...................................\n",
      "[CV] ....... max_depth=7, n_estimators=200, score=0.801, total=   0.6s\n",
      "[CV] max_depth=7, n_estimators=500 ...................................\n",
      "[CV] ....... max_depth=7, n_estimators=500, score=0.799, total=   1.4s\n",
      "[CV] max_depth=7, n_estimators=500 ...................................\n",
      "[CV] ....... max_depth=7, n_estimators=500, score=0.797, total=   1.3s\n",
      "[CV] max_depth=7, n_estimators=500 ...................................\n",
      "[CV] ....... max_depth=7, n_estimators=500, score=0.802, total=   1.3s\n",
      "[CV] max_depth=8, n_estimators=10 ....................................\n",
      "[CV] ........ max_depth=8, n_estimators=10, score=0.801, total=   0.2s\n",
      "[CV] max_depth=8, n_estimators=10 ....................................\n",
      "[CV] ........ max_depth=8, n_estimators=10, score=0.794, total=   0.2s\n",
      "[CV] max_depth=8, n_estimators=10 ....................................\n",
      "[CV] ........ max_depth=8, n_estimators=10, score=0.786, total=   0.2s\n",
      "[CV] max_depth=8, n_estimators=15 ....................................\n",
      "[CV] ........ max_depth=8, n_estimators=15, score=0.802, total=   0.2s\n",
      "[CV] max_depth=8, n_estimators=15 ....................................\n",
      "[CV] ........ max_depth=8, n_estimators=15, score=0.791, total=   0.2s\n",
      "[CV] max_depth=8, n_estimators=15 ....................................\n",
      "[CV] ........ max_depth=8, n_estimators=15, score=0.796, total=   0.2s\n",
      "[CV] max_depth=8, n_estimators=20 ....................................\n",
      "[CV] ........ max_depth=8, n_estimators=20, score=0.793, total=   0.2s\n",
      "[CV] max_depth=8, n_estimators=20 ....................................\n",
      "[CV] ........ max_depth=8, n_estimators=20, score=0.800, total=   0.2s\n",
      "[CV] max_depth=8, n_estimators=20 ....................................\n",
      "[CV] ........ max_depth=8, n_estimators=20, score=0.795, total=   0.2s\n",
      "[CV] max_depth=8, n_estimators=50 ....................................\n",
      "[CV] ........ max_depth=8, n_estimators=50, score=0.801, total=   0.3s\n",
      "[CV] max_depth=8, n_estimators=50 ....................................\n",
      "[CV] ........ max_depth=8, n_estimators=50, score=0.796, total=   0.3s\n",
      "[CV] max_depth=8, n_estimators=50 ....................................\n",
      "[CV] ........ max_depth=8, n_estimators=50, score=0.799, total=   0.3s\n",
      "[CV] max_depth=8, n_estimators=100 ...................................\n",
      "[CV] ....... max_depth=8, n_estimators=100, score=0.799, total=   0.4s\n",
      "[CV] max_depth=8, n_estimators=100 ...................................\n",
      "[CV] ....... max_depth=8, n_estimators=100, score=0.797, total=   0.4s\n",
      "[CV] max_depth=8, n_estimators=100 ...................................\n",
      "[CV] ....... max_depth=8, n_estimators=100, score=0.799, total=   0.4s\n",
      "[CV] max_depth=8, n_estimators=200 ...................................\n",
      "[CV] ....... max_depth=8, n_estimators=200, score=0.802, total=   0.7s\n",
      "[CV] max_depth=8, n_estimators=200 ...................................\n",
      "[CV] ....... max_depth=8, n_estimators=200, score=0.799, total=   0.6s\n",
      "[CV] max_depth=8, n_estimators=200 ...................................\n",
      "[CV] ....... max_depth=8, n_estimators=200, score=0.802, total=   0.6s\n",
      "[CV] max_depth=8, n_estimators=500 ...................................\n",
      "[CV] ....... max_depth=8, n_estimators=500, score=0.801, total=   1.6s\n",
      "[CV] max_depth=8, n_estimators=500 ...................................\n",
      "[CV] ....... max_depth=8, n_estimators=500, score=0.794, total=   1.5s\n",
      "[CV] max_depth=8, n_estimators=500 ...................................\n",
      "[CV] ....... max_depth=8, n_estimators=500, score=0.799, total=   1.6s\n",
      "[CV] max_depth=9, n_estimators=10 ....................................\n",
      "[CV] ........ max_depth=9, n_estimators=10, score=0.801, total=   0.2s\n",
      "[CV] max_depth=9, n_estimators=10 ....................................\n",
      "[CV] ........ max_depth=9, n_estimators=10, score=0.783, total=   0.2s\n",
      "[CV] max_depth=9, n_estimators=10 ....................................\n",
      "[CV] ........ max_depth=9, n_estimators=10, score=0.790, total=   0.2s\n",
      "[CV] max_depth=9, n_estimators=15 ....................................\n",
      "[CV] ........ max_depth=9, n_estimators=15, score=0.797, total=   0.2s\n",
      "[CV] max_depth=9, n_estimators=15 ....................................\n",
      "[CV] ........ max_depth=9, n_estimators=15, score=0.794, total=   0.2s\n",
      "[CV] max_depth=9, n_estimators=15 ....................................\n",
      "[CV] ........ max_depth=9, n_estimators=15, score=0.799, total=   0.2s\n",
      "[CV] max_depth=9, n_estimators=20 ....................................\n",
      "[CV] ........ max_depth=9, n_estimators=20, score=0.795, total=   0.2s\n",
      "[CV] max_depth=9, n_estimators=20 ....................................\n",
      "[CV] ........ max_depth=9, n_estimators=20, score=0.793, total=   0.2s\n",
      "[CV] max_depth=9, n_estimators=20 ....................................\n",
      "[CV] ........ max_depth=9, n_estimators=20, score=0.795, total=   0.2s\n",
      "[CV] max_depth=9, n_estimators=50 ....................................\n",
      "[CV] ........ max_depth=9, n_estimators=50, score=0.803, total=   0.3s\n",
      "[CV] max_depth=9, n_estimators=50 ....................................\n",
      "[CV] ........ max_depth=9, n_estimators=50, score=0.793, total=   0.3s\n",
      "[CV] max_depth=9, n_estimators=50 ....................................\n",
      "[CV] ........ max_depth=9, n_estimators=50, score=0.796, total=   0.3s\n",
      "[CV] max_depth=9, n_estimators=100 ...................................\n",
      "[CV] ....... max_depth=9, n_estimators=100, score=0.800, total=   0.4s\n",
      "[CV] max_depth=9, n_estimators=100 ...................................\n"
     ]
    },
    {
     "name": "stdout",
     "output_type": "stream",
     "text": [
      "[CV] ....... max_depth=9, n_estimators=100, score=0.791, total=   0.4s\n",
      "[CV] max_depth=9, n_estimators=100 ...................................\n",
      "[CV] ....... max_depth=9, n_estimators=100, score=0.798, total=   0.4s\n",
      "[CV] max_depth=9, n_estimators=200 ...................................\n",
      "[CV] ....... max_depth=9, n_estimators=200, score=0.795, total=   0.6s\n",
      "[CV] max_depth=9, n_estimators=200 ...................................\n",
      "[CV] ....... max_depth=9, n_estimators=200, score=0.793, total=   0.6s\n",
      "[CV] max_depth=9, n_estimators=200 ...................................\n",
      "[CV] ....... max_depth=9, n_estimators=200, score=0.800, total=   0.7s\n",
      "[CV] max_depth=9, n_estimators=500 ...................................\n",
      "[CV] ....... max_depth=9, n_estimators=500, score=0.798, total=   1.6s\n",
      "[CV] max_depth=9, n_estimators=500 ...................................\n",
      "[CV] ....... max_depth=9, n_estimators=500, score=0.793, total=   1.5s\n",
      "[CV] max_depth=9, n_estimators=500 ...................................\n",
      "[CV] ....... max_depth=9, n_estimators=500, score=0.798, total=   1.9s\n",
      "[CV] max_depth=10, n_estimators=10 ...................................\n",
      "[CV] ....... max_depth=10, n_estimators=10, score=0.786, total=   0.2s\n",
      "[CV] max_depth=10, n_estimators=10 ...................................\n",
      "[CV] ....... max_depth=10, n_estimators=10, score=0.782, total=   0.2s\n",
      "[CV] max_depth=10, n_estimators=10 ...................................\n",
      "[CV] ....... max_depth=10, n_estimators=10, score=0.779, total=   0.2s\n",
      "[CV] max_depth=10, n_estimators=15 ...................................\n",
      "[CV] ....... max_depth=10, n_estimators=15, score=0.796, total=   0.2s\n",
      "[CV] max_depth=10, n_estimators=15 ...................................\n",
      "[CV] ....... max_depth=10, n_estimators=15, score=0.783, total=   0.2s\n",
      "[CV] max_depth=10, n_estimators=15 ...................................\n",
      "[CV] ....... max_depth=10, n_estimators=15, score=0.791, total=   0.2s\n",
      "[CV] max_depth=10, n_estimators=20 ...................................\n",
      "[CV] ....... max_depth=10, n_estimators=20, score=0.789, total=   0.2s\n",
      "[CV] max_depth=10, n_estimators=20 ...................................\n",
      "[CV] ....... max_depth=10, n_estimators=20, score=0.794, total=   0.2s\n",
      "[CV] max_depth=10, n_estimators=20 ...................................\n",
      "[CV] ....... max_depth=10, n_estimators=20, score=0.794, total=   0.2s\n",
      "[CV] max_depth=10, n_estimators=50 ...................................\n",
      "[CV] ....... max_depth=10, n_estimators=50, score=0.798, total=   0.3s\n",
      "[CV] max_depth=10, n_estimators=50 ...................................\n",
      "[CV] ....... max_depth=10, n_estimators=50, score=0.792, total=   0.3s\n",
      "[CV] max_depth=10, n_estimators=50 ...................................\n",
      "[CV] ....... max_depth=10, n_estimators=50, score=0.799, total=   0.3s\n",
      "[CV] max_depth=10, n_estimators=100 ..................................\n",
      "[CV] ...... max_depth=10, n_estimators=100, score=0.796, total=   0.5s\n",
      "[CV] max_depth=10, n_estimators=100 ..................................\n",
      "[CV] ...... max_depth=10, n_estimators=100, score=0.793, total=   0.5s\n",
      "[CV] max_depth=10, n_estimators=100 ..................................\n",
      "[CV] ...... max_depth=10, n_estimators=100, score=0.795, total=   0.4s\n",
      "[CV] max_depth=10, n_estimators=200 ..................................\n",
      "[CV] ...... max_depth=10, n_estimators=200, score=0.800, total=   0.8s\n",
      "[CV] max_depth=10, n_estimators=200 ..................................\n",
      "[CV] ...... max_depth=10, n_estimators=200, score=0.788, total=   0.7s\n",
      "[CV] max_depth=10, n_estimators=200 ..................................\n",
      "[CV] ...... max_depth=10, n_estimators=200, score=0.795, total=   0.7s\n",
      "[CV] max_depth=10, n_estimators=500 ..................................\n",
      "[CV] ...... max_depth=10, n_estimators=500, score=0.794, total=   1.7s\n",
      "[CV] max_depth=10, n_estimators=500 ..................................\n",
      "[CV] ...... max_depth=10, n_estimators=500, score=0.793, total=   1.8s\n",
      "[CV] max_depth=10, n_estimators=500 ..................................\n",
      "[CV] ...... max_depth=10, n_estimators=500, score=0.797, total=   1.6s\n",
      "[CV] max_depth=11, n_estimators=10 ...................................\n",
      "[CV] ....... max_depth=11, n_estimators=10, score=0.787, total=   0.2s\n",
      "[CV] max_depth=11, n_estimators=10 ...................................\n",
      "[CV] ....... max_depth=11, n_estimators=10, score=0.787, total=   0.2s\n",
      "[CV] max_depth=11, n_estimators=10 ...................................\n",
      "[CV] ....... max_depth=11, n_estimators=10, score=0.775, total=   0.2s\n",
      "[CV] max_depth=11, n_estimators=15 ...................................\n",
      "[CV] ....... max_depth=11, n_estimators=15, score=0.792, total=   0.2s\n",
      "[CV] max_depth=11, n_estimators=15 ...................................\n",
      "[CV] ....... max_depth=11, n_estimators=15, score=0.790, total=   0.2s\n",
      "[CV] max_depth=11, n_estimators=15 ...................................\n",
      "[CV] ....... max_depth=11, n_estimators=15, score=0.792, total=   0.2s\n",
      "[CV] max_depth=11, n_estimators=20 ...................................\n",
      "[CV] ....... max_depth=11, n_estimators=20, score=0.791, total=   0.2s\n",
      "[CV] max_depth=11, n_estimators=20 ...................................\n",
      "[CV] ....... max_depth=11, n_estimators=20, score=0.782, total=   0.3s\n",
      "[CV] max_depth=11, n_estimators=20 ...................................\n",
      "[CV] ....... max_depth=11, n_estimators=20, score=0.786, total=   0.3s\n",
      "[CV] max_depth=11, n_estimators=50 ...................................\n",
      "[CV] ....... max_depth=11, n_estimators=50, score=0.794, total=   0.3s\n",
      "[CV] max_depth=11, n_estimators=50 ...................................\n",
      "[CV] ....... max_depth=11, n_estimators=50, score=0.790, total=   0.4s\n",
      "[CV] max_depth=11, n_estimators=50 ...................................\n",
      "[CV] ....... max_depth=11, n_estimators=50, score=0.795, total=   0.4s\n",
      "[CV] max_depth=11, n_estimators=100 ..................................\n",
      "[CV] ...... max_depth=11, n_estimators=100, score=0.792, total=   0.5s\n",
      "[CV] max_depth=11, n_estimators=100 ..................................\n",
      "[CV] ...... max_depth=11, n_estimators=100, score=0.786, total=   0.6s\n",
      "[CV] max_depth=11, n_estimators=100 ..................................\n",
      "[CV] ...... max_depth=11, n_estimators=100, score=0.794, total=   0.6s\n",
      "[CV] max_depth=11, n_estimators=200 ..................................\n",
      "[CV] ...... max_depth=11, n_estimators=200, score=0.795, total=   0.8s\n",
      "[CV] max_depth=11, n_estimators=200 ..................................\n",
      "[CV] ...... max_depth=11, n_estimators=200, score=0.789, total=   0.9s\n",
      "[CV] max_depth=11, n_estimators=200 ..................................\n",
      "[CV] ...... max_depth=11, n_estimators=200, score=0.794, total=   1.3s\n",
      "[CV] max_depth=11, n_estimators=500 ..................................\n",
      "[CV] ...... max_depth=11, n_estimators=500, score=0.793, total=   1.8s\n",
      "[CV] max_depth=11, n_estimators=500 ..................................\n",
      "[CV] ...... max_depth=11, n_estimators=500, score=0.793, total=   1.9s\n",
      "[CV] max_depth=11, n_estimators=500 ..................................\n",
      "[CV] ...... max_depth=11, n_estimators=500, score=0.798, total=   2.3s\n",
      "[CV] max_depth=12, n_estimators=10 ...................................\n",
      "[CV] ....... max_depth=12, n_estimators=10, score=0.790, total=   0.2s\n",
      "[CV] max_depth=12, n_estimators=10 ...................................\n",
      "[CV] ....... max_depth=12, n_estimators=10, score=0.784, total=   0.2s\n",
      "[CV] max_depth=12, n_estimators=10 ...................................\n",
      "[CV] ....... max_depth=12, n_estimators=10, score=0.780, total=   0.2s\n",
      "[CV] max_depth=12, n_estimators=15 ...................................\n",
      "[CV] ....... max_depth=12, n_estimators=15, score=0.782, total=   0.2s\n",
      "[CV] max_depth=12, n_estimators=15 ...................................\n",
      "[CV] ....... max_depth=12, n_estimators=15, score=0.781, total=   0.2s\n",
      "[CV] max_depth=12, n_estimators=15 ...................................\n",
      "[CV] ....... max_depth=12, n_estimators=15, score=0.783, total=   0.2s\n",
      "[CV] max_depth=12, n_estimators=20 ...................................\n",
      "[CV] ....... max_depth=12, n_estimators=20, score=0.792, total=   0.3s\n",
      "[CV] max_depth=12, n_estimators=20 ...................................\n",
      "[CV] ....... max_depth=12, n_estimators=20, score=0.787, total=   0.4s\n",
      "[CV] max_depth=12, n_estimators=20 ...................................\n"
     ]
    },
    {
     "name": "stdout",
     "output_type": "stream",
     "text": [
      "[CV] ....... max_depth=12, n_estimators=20, score=0.787, total=   0.3s\n",
      "[CV] max_depth=12, n_estimators=50 ...................................\n",
      "[CV] ....... max_depth=12, n_estimators=50, score=0.793, total=   0.6s\n",
      "[CV] max_depth=12, n_estimators=50 ...................................\n",
      "[CV] ....... max_depth=12, n_estimators=50, score=0.782, total=   0.4s\n",
      "[CV] max_depth=12, n_estimators=50 ...................................\n",
      "[CV] ....... max_depth=12, n_estimators=50, score=0.786, total=   0.4s\n",
      "[CV] max_depth=12, n_estimators=100 ..................................\n",
      "[CV] ...... max_depth=12, n_estimators=100, score=0.789, total=   0.5s\n",
      "[CV] max_depth=12, n_estimators=100 ..................................\n",
      "[CV] ...... max_depth=12, n_estimators=100, score=0.788, total=   0.5s\n",
      "[CV] max_depth=12, n_estimators=100 ..................................\n",
      "[CV] ...... max_depth=12, n_estimators=100, score=0.794, total=   0.5s\n",
      "[CV] max_depth=12, n_estimators=200 ..................................\n",
      "[CV] ...... max_depth=12, n_estimators=200, score=0.789, total=   0.9s\n",
      "[CV] max_depth=12, n_estimators=200 ..................................\n",
      "[CV] ...... max_depth=12, n_estimators=200, score=0.793, total=   0.9s\n",
      "[CV] max_depth=12, n_estimators=200 ..................................\n",
      "[CV] ...... max_depth=12, n_estimators=200, score=0.790, total=   0.8s\n",
      "[CV] max_depth=12, n_estimators=500 ..................................\n",
      "[CV] ...... max_depth=12, n_estimators=500, score=0.792, total=   2.2s\n",
      "[CV] max_depth=12, n_estimators=500 ..................................\n",
      "[CV] ...... max_depth=12, n_estimators=500, score=0.793, total=   1.8s\n",
      "[CV] max_depth=12, n_estimators=500 ..................................\n",
      "[CV] ...... max_depth=12, n_estimators=500, score=0.795, total=   1.7s\n",
      "[CV] max_depth=13, n_estimators=10 ...................................\n",
      "[CV] ....... max_depth=13, n_estimators=10, score=0.783, total=   0.2s\n",
      "[CV] max_depth=13, n_estimators=10 ...................................\n",
      "[CV] ....... max_depth=13, n_estimators=10, score=0.778, total=   0.2s\n",
      "[CV] max_depth=13, n_estimators=10 ...................................\n",
      "[CV] ....... max_depth=13, n_estimators=10, score=0.788, total=   0.2s\n",
      "[CV] max_depth=13, n_estimators=15 ...................................\n",
      "[CV] ....... max_depth=13, n_estimators=15, score=0.786, total=   0.2s\n",
      "[CV] max_depth=13, n_estimators=15 ...................................\n",
      "[CV] ....... max_depth=13, n_estimators=15, score=0.789, total=   0.2s\n",
      "[CV] max_depth=13, n_estimators=15 ...................................\n",
      "[CV] ....... max_depth=13, n_estimators=15, score=0.785, total=   0.2s\n",
      "[CV] max_depth=13, n_estimators=20 ...................................\n",
      "[CV] ....... max_depth=13, n_estimators=20, score=0.779, total=   0.2s\n",
      "[CV] max_depth=13, n_estimators=20 ...................................\n",
      "[CV] ....... max_depth=13, n_estimators=20, score=0.778, total=   0.2s\n",
      "[CV] max_depth=13, n_estimators=20 ...................................\n",
      "[CV] ....... max_depth=13, n_estimators=20, score=0.782, total=   0.2s\n",
      "[CV] max_depth=13, n_estimators=50 ...................................\n",
      "[CV] ....... max_depth=13, n_estimators=50, score=0.787, total=   0.4s\n",
      "[CV] max_depth=13, n_estimators=50 ...................................\n",
      "[CV] ....... max_depth=13, n_estimators=50, score=0.783, total=   0.4s\n",
      "[CV] max_depth=13, n_estimators=50 ...................................\n",
      "[CV] ....... max_depth=13, n_estimators=50, score=0.785, total=   0.3s\n",
      "[CV] max_depth=13, n_estimators=100 ..................................\n",
      "[CV] ...... max_depth=13, n_estimators=100, score=0.791, total=   0.5s\n",
      "[CV] max_depth=13, n_estimators=100 ..................................\n",
      "[CV] ...... max_depth=13, n_estimators=100, score=0.795, total=   0.5s\n",
      "[CV] max_depth=13, n_estimators=100 ..................................\n",
      "[CV] ...... max_depth=13, n_estimators=100, score=0.787, total=   0.5s\n",
      "[CV] max_depth=13, n_estimators=200 ..................................\n",
      "[CV] ...... max_depth=13, n_estimators=200, score=0.788, total=   0.8s\n",
      "[CV] max_depth=13, n_estimators=200 ..................................\n",
      "[CV] ...... max_depth=13, n_estimators=200, score=0.790, total=   0.9s\n",
      "[CV] max_depth=13, n_estimators=200 ..................................\n",
      "[CV] ...... max_depth=13, n_estimators=200, score=0.791, total=   1.2s\n",
      "[CV] max_depth=13, n_estimators=500 ..................................\n",
      "[CV] ...... max_depth=13, n_estimators=500, score=0.790, total=   2.6s\n",
      "[CV] max_depth=13, n_estimators=500 ..................................\n",
      "[CV] ...... max_depth=13, n_estimators=500, score=0.788, total=   3.1s\n",
      "[CV] max_depth=13, n_estimators=500 ..................................\n",
      "[CV] ...... max_depth=13, n_estimators=500, score=0.788, total=   3.0s\n",
      "[CV] max_depth=14, n_estimators=10 ...................................\n",
      "[CV] ....... max_depth=14, n_estimators=10, score=0.777, total=   0.2s\n",
      "[CV] max_depth=14, n_estimators=10 ...................................\n",
      "[CV] ....... max_depth=14, n_estimators=10, score=0.778, total=   0.2s\n",
      "[CV] max_depth=14, n_estimators=10 ...................................\n",
      "[CV] ....... max_depth=14, n_estimators=10, score=0.776, total=   0.2s\n",
      "[CV] max_depth=14, n_estimators=15 ...................................\n",
      "[CV] ....... max_depth=14, n_estimators=15, score=0.784, total=   0.2s\n",
      "[CV] max_depth=14, n_estimators=15 ...................................\n",
      "[CV] ....... max_depth=14, n_estimators=15, score=0.788, total=   0.3s\n",
      "[CV] max_depth=14, n_estimators=15 ...................................\n",
      "[CV] ....... max_depth=14, n_estimators=15, score=0.777, total=   0.2s\n",
      "[CV] max_depth=14, n_estimators=20 ...................................\n",
      "[CV] ....... max_depth=14, n_estimators=20, score=0.790, total=   0.3s\n",
      "[CV] max_depth=14, n_estimators=20 ...................................\n",
      "[CV] ....... max_depth=14, n_estimators=20, score=0.774, total=   0.3s\n",
      "[CV] max_depth=14, n_estimators=20 ...................................\n",
      "[CV] ....... max_depth=14, n_estimators=20, score=0.780, total=   0.3s\n",
      "[CV] max_depth=14, n_estimators=50 ...................................\n",
      "[CV] ....... max_depth=14, n_estimators=50, score=0.790, total=   0.4s\n",
      "[CV] max_depth=14, n_estimators=50 ...................................\n",
      "[CV] ....... max_depth=14, n_estimators=50, score=0.786, total=   0.3s\n",
      "[CV] max_depth=14, n_estimators=50 ...................................\n",
      "[CV] ....... max_depth=14, n_estimators=50, score=0.784, total=   0.4s\n",
      "[CV] max_depth=14, n_estimators=100 ..................................\n",
      "[CV] ...... max_depth=14, n_estimators=100, score=0.788, total=   0.5s\n",
      "[CV] max_depth=14, n_estimators=100 ..................................\n",
      "[CV] ...... max_depth=14, n_estimators=100, score=0.786, total=   0.5s\n",
      "[CV] max_depth=14, n_estimators=100 ..................................\n",
      "[CV] ...... max_depth=14, n_estimators=100, score=0.783, total=   0.5s\n",
      "[CV] max_depth=14, n_estimators=200 ..................................\n",
      "[CV] ...... max_depth=14, n_estimators=200, score=0.788, total=   0.8s\n",
      "[CV] max_depth=14, n_estimators=200 ..................................\n",
      "[CV] ...... max_depth=14, n_estimators=200, score=0.788, total=   0.8s\n",
      "[CV] max_depth=14, n_estimators=200 ..................................\n",
      "[CV] ...... max_depth=14, n_estimators=200, score=0.784, total=   0.8s\n",
      "[CV] max_depth=14, n_estimators=500 ..................................\n",
      "[CV] ...... max_depth=14, n_estimators=500, score=0.789, total=   2.1s\n",
      "[CV] max_depth=14, n_estimators=500 ..................................\n",
      "[CV] ...... max_depth=14, n_estimators=500, score=0.785, total=   2.1s\n",
      "[CV] max_depth=14, n_estimators=500 ..................................\n",
      "[CV] ...... max_depth=14, n_estimators=500, score=0.786, total=   1.8s\n",
      "[CV] max_depth=15, n_estimators=10 ...................................\n",
      "[CV] ....... max_depth=15, n_estimators=10, score=0.774, total=   0.2s\n",
      "[CV] max_depth=15, n_estimators=10 ...................................\n",
      "[CV] ....... max_depth=15, n_estimators=10, score=0.776, total=   0.2s\n",
      "[CV] max_depth=15, n_estimators=10 ...................................\n",
      "[CV] ....... max_depth=15, n_estimators=10, score=0.777, total=   0.2s\n",
      "[CV] max_depth=15, n_estimators=15 ...................................\n"
     ]
    },
    {
     "name": "stdout",
     "output_type": "stream",
     "text": [
      "[CV] ....... max_depth=15, n_estimators=15, score=0.783, total=   0.2s\n",
      "[CV] max_depth=15, n_estimators=15 ...................................\n",
      "[CV] ....... max_depth=15, n_estimators=15, score=0.775, total=   0.3s\n",
      "[CV] max_depth=15, n_estimators=15 ...................................\n",
      "[CV] ....... max_depth=15, n_estimators=15, score=0.780, total=   0.2s\n",
      "[CV] max_depth=15, n_estimators=20 ...................................\n",
      "[CV] ....... max_depth=15, n_estimators=20, score=0.789, total=   0.2s\n",
      "[CV] max_depth=15, n_estimators=20 ...................................\n",
      "[CV] ....... max_depth=15, n_estimators=20, score=0.786, total=   0.3s\n",
      "[CV] max_depth=15, n_estimators=20 ...................................\n",
      "[CV] ....... max_depth=15, n_estimators=20, score=0.777, total=   0.2s\n",
      "[CV] max_depth=15, n_estimators=50 ...................................\n",
      "[CV] ....... max_depth=15, n_estimators=50, score=0.786, total=   0.4s\n",
      "[CV] max_depth=15, n_estimators=50 ...................................\n",
      "[CV] ....... max_depth=15, n_estimators=50, score=0.789, total=   0.4s\n",
      "[CV] max_depth=15, n_estimators=50 ...................................\n",
      "[CV] ....... max_depth=15, n_estimators=50, score=0.780, total=   0.3s\n",
      "[CV] max_depth=15, n_estimators=100 ..................................\n",
      "[CV] ...... max_depth=15, n_estimators=100, score=0.787, total=   0.5s\n",
      "[CV] max_depth=15, n_estimators=100 ..................................\n",
      "[CV] ...... max_depth=15, n_estimators=100, score=0.789, total=   0.5s\n",
      "[CV] max_depth=15, n_estimators=100 ..................................\n",
      "[CV] ...... max_depth=15, n_estimators=100, score=0.782, total=   0.5s\n",
      "[CV] max_depth=15, n_estimators=200 ..................................\n",
      "[CV] ...... max_depth=15, n_estimators=200, score=0.789, total=   0.8s\n",
      "[CV] max_depth=15, n_estimators=200 ..................................\n",
      "[CV] ...... max_depth=15, n_estimators=200, score=0.787, total=   0.9s\n",
      "[CV] max_depth=15, n_estimators=200 ..................................\n",
      "[CV] ...... max_depth=15, n_estimators=200, score=0.785, total=   0.8s\n",
      "[CV] max_depth=15, n_estimators=500 ..................................\n",
      "[CV] ...... max_depth=15, n_estimators=500, score=0.789, total=   2.3s\n",
      "[CV] max_depth=15, n_estimators=500 ..................................\n",
      "[CV] ...... max_depth=15, n_estimators=500, score=0.788, total=   2.2s\n",
      "[CV] max_depth=15, n_estimators=500 ..................................\n",
      "[CV] ...... max_depth=15, n_estimators=500, score=0.787, total=   2.2s\n"
     ]
    },
    {
     "name": "stderr",
     "output_type": "stream",
     "text": [
      "[Parallel(n_jobs=1)]: Done 252 out of 252 | elapsed:  2.5min finished\n"
     ]
    },
    {
     "data": {
      "text/plain": [
       "GridSearchCV(cv='warn', error_score='raise-deprecating',\n",
       "             estimator=RandomForestClassifier(bootstrap=True, class_weight=None,\n",
       "                                              criterion='gini', max_depth=None,\n",
       "                                              max_features='auto',\n",
       "                                              max_leaf_nodes=None,\n",
       "                                              min_impurity_decrease=0.0,\n",
       "                                              min_impurity_split=None,\n",
       "                                              min_samples_leaf=1,\n",
       "                                              min_samples_split=2,\n",
       "                                              min_weight_fraction_leaf=0.0,\n",
       "                                              n_estimators='warn', n_jobs=-1,\n",
       "                                              oob_score=False,\n",
       "                                              random_state=None, verbose=0,\n",
       "                                              warm_start=False),\n",
       "             iid='warn', n_jobs=None,\n",
       "             param_grid={'max_depth': [4, 5, 6, 7, 8, 9, 10, 11, 12, 13, 14,\n",
       "                                       15],\n",
       "                         'n_estimators': [10, 15, 20, 50, 100, 200, 500]},\n",
       "             pre_dispatch='2*n_jobs', refit=True, return_train_score=False,\n",
       "             scoring=None, verbose=3)"
      ]
     },
     "execution_count": 12,
     "metadata": {},
     "output_type": "execute_result"
    }
   ],
   "source": [
    "grid_clf.fit(X_train, y_train)"
   ]
  },
  {
   "cell_type": "markdown",
   "metadata": {},
   "source": [
    "Let's check the best model"
   ]
  },
  {
   "cell_type": "code",
   "execution_count": 57,
   "metadata": {},
   "outputs": [],
   "source": [
    "grid_best_score = grid_clf.best_score_\n",
    "grid_best_parameters = grid_clf.best_params_\n",
    "grid_best_max_depth = grid_best_parameters.get('max_depth')\n",
    "grid_best_n_estimators = grid_best_parameters.get('n_estimators')\n",
    "\n",
    "print('Grid search best_score: {}'.format(grid_best_score))\n",
    "print('best_max_depth: {}'.format(grid_best_max_depth))\n",
    "print('best_n_estimators: {}'.format(grid_best_n_estimators))"
   ]
  },
  {
   "cell_type": "code",
   "execution_count": 17,
   "metadata": {},
   "outputs": [],
   "source": [
    "grid_clf_best = RandomForestClassifier(n_jobs = -1,max_depth = grid_best_max_depth, n_estimators = grid_best_n_estimators )"
   ]
  },
  {
   "cell_type": "code",
   "execution_count": 18,
   "metadata": {},
   "outputs": [
    {
     "data": {
      "text/plain": [
       "RandomForestClassifier(bootstrap=True, class_weight=None, criterion='gini',\n",
       "                       max_depth=8, max_features='auto', max_leaf_nodes=None,\n",
       "                       min_impurity_decrease=0.0, min_impurity_split=None,\n",
       "                       min_samples_leaf=1, min_samples_split=2,\n",
       "                       min_weight_fraction_leaf=0.0, n_estimators=200,\n",
       "                       n_jobs=-1, oob_score=False, random_state=None, verbose=0,\n",
       "                       warm_start=False)"
      ]
     },
     "execution_count": 18,
     "metadata": {},
     "output_type": "execute_result"
    }
   ],
   "source": [
    "grid_clf_best.fit(X_train, y_train)"
   ]
  },
  {
   "cell_type": "markdown",
   "metadata": {},
   "source": [
    "Let's apply it to our validation set"
   ]
  },
  {
   "cell_type": "code",
   "execution_count": 19,
   "metadata": {},
   "outputs": [],
   "source": [
    "grid_y_pred = grid_clf_best.predict(X_val)"
   ]
  },
  {
   "cell_type": "code",
   "execution_count": 156,
   "metadata": {},
   "outputs": [
    {
     "name": "stdout",
     "output_type": "stream",
     "text": [
      "Accuracy: 0.8230714791224345\n"
     ]
    }
   ],
   "source": [
    "print(\"Accuracy:\",metrics.accuracy_score(y_val, grid_y_pred))"
   ]
  },
  {
   "cell_type": "markdown",
   "metadata": {},
   "source": [
    "Guven, this accuracy, we can take a deeper look into the results"
   ]
  },
  {
   "cell_type": "code",
   "execution_count": 157,
   "metadata": {
    "scrolled": true
   },
   "outputs": [
    {
     "data": {
      "image/png": "[encoded data removed]",
      "text/plain": [
       "<Figure size 360x360 with 2 Axes>"
      ]
     },
     "metadata": {
      "needs_background": "light"
     },
     "output_type": "display_data"
    }
   ],
   "source": [
    "grid_cm = confusion_matrix(y_val, grid_y_pred)\n",
    "annot_kws = {\"ha\": 'center',\"va\": 'center'}\n",
    "\n",
    "\n",
    "plt.figure(figsize=(5,5))\n",
    "sns.heatmap(grid_cm, fmt=\"d\", linewidths=.5, cmap = 'Blues_r');\n",
    "plt.ylabel('Actual label');\n",
    "plt.xlabel('Predicted label');\n",
    "plt.title('Confusion matrix for the grid search', fontsize = 15)\n",
    "s = [['TN','FP'], ['FN', 'TP']]\n",
    "\n",
    "for i in range(2):\n",
    "    for j in range(2):\n",
    "        plt.text(j,i, str(s[i][j])+\" = \"+str(grid_cm[i][j]))\n",
    "plt.show()"
   ]
  },
  {
   "cell_type": "markdown",
   "metadata": {},
   "source": [
    "### Feature importance"
   ]
  },
  {
   "cell_type": "code",
   "execution_count": 73,
   "metadata": {
    "scrolled": false
   },
   "outputs": [],
   "source": [
    "grid_feature_importances = [(list(X.columns)[i], grid_clf_best.feature_importances_[i]) for i in range(len(list(X.columns)))]\n",
    "grid_feature_importances.sort(key=itemgetter(1), reverse = True)\n",
    "plot_importance(grid_feature_importances, 10, 'Grid search')"
   ]
  },
  {
   "cell_type": "code",
   "execution_count": 120,
   "metadata": {},
   "outputs": [
    {
     "data": {
      "image/png": "[encoded data removed]",
      "text/plain": [
       "<Figure size 1080x360 with 1 Axes>"
      ]
     },
     "metadata": {
      "needs_background": "light"
     },
     "output_type": "display_data"
    }
   ],
   "source": []
  },
  {
   "cell_type": "markdown",
   "metadata": {},
   "source": [
    "### Feature selection\n",
    "Let's try to run the model again, but this time selecting only the most impacting features, saving us some work and compare the results"
   ]
  },
  {
   "cell_type": "code",
   "execution_count": 144,
   "metadata": {},
   "outputs": [],
   "source": [
    "grid_selected_features = [grid_feature_importances[i][0] for i in range(15)]\n",
    "grid_X_train_sel = X_train[grid_selected_features]\n",
    "grid_X_val_grid_sel = X_val[grid_selected_features]\n"
   ]
  },
  {
   "cell_type": "code",
   "execution_count": null,
   "metadata": {},
   "outputs": [],
   "source": [
    "grid_clf.fit(X_train_grid_sel, y_train)"
   ]
  },
  {
   "cell_type": "code",
   "execution_count": 153,
   "metadata": {},
   "outputs": [
    {
     "name": "stdout",
     "output_type": "stream",
     "text": [
      "Grid search best_score with selected features: 0.797472859939491\n",
      "Grid search best_max_depth with selected features: 8\n",
      "Grid search best_n_estimators with selected features: 200\n"
     ]
    }
   ],
   "source": [
    "grid_best_score_sel = grid_clf.best_score_\n",
    "grid_best_parameters_sel = grid_clf.best_params_\n",
    "grid_best_max_depth_sel = grid_best_parameters.get('max_depth')\n",
    "grid_best_n_estimators_sel = grid_best_parameters.get('n_estimators')\n",
    "print('Grid search best_score with selected features: {}'.format(grid_best_score_sel))\n",
    "print('Grid search best_max_depth with selected features: {}'.format(grid_best_max_depth_sel))\n",
    "print('Grid search best_n_estimators with selected features: {}'.format(grid_best_n_estimators_sel))"
   ]
  },
  {
   "cell_type": "code",
   "execution_count": 141,
   "metadata": {},
   "outputs": [],
   "source": [
    "grid_clf_best_sel = RandomForestClassifier(n_jobs = -1,max_depth = grid_best_max_depth_sel, n_estimators = grid_best_n_estimators_sel )"
   ]
  },
  {
   "cell_type": "code",
   "execution_count": 145,
   "metadata": {
    "scrolled": true
   },
   "outputs": [
    {
     "data": {
      "text/plain": [
       "RandomForestClassifier(bootstrap=True, class_weight=None, criterion='gini',\n",
       "                       max_depth=8, max_features='auto', max_leaf_nodes=None,\n",
       "                       min_impurity_decrease=0.0, min_impurity_split=None,\n",
       "                       min_samples_leaf=1, min_samples_split=2,\n",
       "                       min_weight_fraction_leaf=0.0, n_estimators=200,\n",
       "                       n_jobs=-1, oob_score=False, random_state=None, verbose=0,\n",
       "                       warm_start=False)"
      ]
     },
     "execution_count": 145,
     "metadata": {},
     "output_type": "execute_result"
    }
   ],
   "source": [
    "grid_clf_best_sel.fit(grid_X_train_sel, y_train)"
   ]
  },
  {
   "cell_type": "code",
   "execution_count": 148,
   "metadata": {
    "scrolled": true
   },
   "outputs": [],
   "source": [
    "grid_y_pred_sel = grid_clf_best_sel.predict(grid_X_val_sel)"
   ]
  },
  {
   "cell_type": "code",
   "execution_count": 152,
   "metadata": {
    "scrolled": true
   },
   "outputs": [
    {
     "name": "stdout",
     "output_type": "stream",
     "text": [
      "Accuracy: 0.8089171974522293\n"
     ]
    }
   ],
   "source": [
    "print(\"Accuracy:\",metrics.accuracy_score(y_val, grid_y_pred_sel))"
   ]
  },
  {
   "cell_type": "markdown",
   "metadata": {},
   "source": [
    "# Random Search\n",
    "\n",
    "After having explored a grid search, we can adopt another approach. Instead of searching for each value, let's give our model more parameters input, but instead let it choose randomly at each iteration one value for each parameter. It will then be evaluated again."
   ]
  },
  {
   "cell_type": "code",
   "execution_count": 46,
   "metadata": {},
   "outputs": [],
   "source": [
    "n_estimators = range(10,1000,50)\n",
    "criterion = ['gini', 'entropy']\n",
    "max_features = ['sqrt', 'log2', None]\n",
    "bootstrap = [True,False]\n",
    "max_depth = range(5,50,10)\n",
    "min_samples_leaf = range(2,100, 2)\n",
    "min_samples_split = range(2,100,2)\n",
    "\n",
    "random_parameters = {'n_estimators':n_estimators, 'max_features':max_features, 'max_depth':max_depth, 'min_samples_leaf':\n",
    "              min_samples_leaf}\n"
   ]
  },
  {
   "cell_type": "code",
   "execution_count": 47,
   "metadata": {},
   "outputs": [],
   "source": [
    "random_clf = RandomizedSearchCV(clf, param_distributions = random_parameters, n_iter = 20, verbose = 3)"
   ]
  },
  {
   "cell_type": "code",
   "execution_count": 48,
   "metadata": {
    "scrolled": true
   },
   "outputs": [
    {
     "name": "stderr",
     "output_type": "stream",
     "text": [
      "C:\\Users\\Yann\\Anaconda3\\lib\\site-packages\\sklearn\\model_selection\\_split.py:1978: FutureWarning: The default value of cv will change from 3 to 5 in version 0.22. Specify it explicitly to silence this warning.\n",
      "  warnings.warn(CV_WARNING, FutureWarning)\n",
      "[Parallel(n_jobs=1)]: Using backend SequentialBackend with 1 concurrent workers.\n"
     ]
    },
    {
     "name": "stdout",
     "output_type": "stream",
     "text": [
      "Fitting 3 folds for each of 20 candidates, totalling 60 fits\n",
      "[CV] n_estimators=210, min_samples_leaf=6, max_features=log2, max_depth=45 \n",
      "[CV]  n_estimators=210, min_samples_leaf=6, max_features=log2, max_depth=45, score=0.797, total=   0.7s\n",
      "[CV] n_estimators=210, min_samples_leaf=6, max_features=log2, max_depth=45 \n"
     ]
    },
    {
     "name": "stderr",
     "output_type": "stream",
     "text": [
      "[Parallel(n_jobs=1)]: Done   1 out of   1 | elapsed:    0.6s remaining:    0.0s\n"
     ]
    },
    {
     "name": "stdout",
     "output_type": "stream",
     "text": [
      "[CV]  n_estimators=210, min_samples_leaf=6, max_features=log2, max_depth=45, score=0.795, total=   0.6s\n",
      "[CV] n_estimators=210, min_samples_leaf=6, max_features=log2, max_depth=45 \n"
     ]
    },
    {
     "name": "stderr",
     "output_type": "stream",
     "text": [
      "[Parallel(n_jobs=1)]: Done   2 out of   2 | elapsed:    1.2s remaining:    0.0s\n"
     ]
    },
    {
     "name": "stdout",
     "output_type": "stream",
     "text": [
      "[CV]  n_estimators=210, min_samples_leaf=6, max_features=log2, max_depth=45, score=0.797, total=   0.6s\n",
      "[CV] n_estimators=410, min_samples_leaf=15, max_features=sqrt, max_depth=15 \n",
      "[CV]  n_estimators=410, min_samples_leaf=15, max_features=sqrt, max_depth=15, score=0.803, total=   1.2s\n",
      "[CV] n_estimators=410, min_samples_leaf=15, max_features=sqrt, max_depth=15 \n",
      "[CV]  n_estimators=410, min_samples_leaf=15, max_features=sqrt, max_depth=15, score=0.799, total=   1.1s\n",
      "[CV] n_estimators=410, min_samples_leaf=15, max_features=sqrt, max_depth=15 \n",
      "[CV]  n_estimators=410, min_samples_leaf=15, max_features=sqrt, max_depth=15, score=0.803, total=   1.2s\n",
      "[CV] n_estimators=710, min_samples_leaf=5, max_features=None, max_depth=15 \n",
      "[CV]  n_estimators=710, min_samples_leaf=5, max_features=None, max_depth=15, score=0.799, total=   5.8s\n",
      "[CV] n_estimators=710, min_samples_leaf=5, max_features=None, max_depth=15 \n",
      "[CV]  n_estimators=710, min_samples_leaf=5, max_features=None, max_depth=15, score=0.792, total=   5.7s\n",
      "[CV] n_estimators=710, min_samples_leaf=5, max_features=None, max_depth=15 \n",
      "[CV]  n_estimators=710, min_samples_leaf=5, max_features=None, max_depth=15, score=0.796, total=   6.5s\n",
      "[CV] n_estimators=10, min_samples_leaf=17, max_features=log2, max_depth=25 \n",
      "[CV]  n_estimators=10, min_samples_leaf=17, max_features=log2, max_depth=25, score=0.796, total=   0.2s\n",
      "[CV] n_estimators=10, min_samples_leaf=17, max_features=log2, max_depth=25 \n",
      "[CV]  n_estimators=10, min_samples_leaf=17, max_features=log2, max_depth=25, score=0.792, total=   0.2s\n",
      "[CV] n_estimators=10, min_samples_leaf=17, max_features=log2, max_depth=25 \n",
      "[CV]  n_estimators=10, min_samples_leaf=17, max_features=log2, max_depth=25, score=0.795, total=   0.2s\n",
      "[CV] n_estimators=910, min_samples_leaf=7, max_features=sqrt, max_depth=25 \n",
      "[CV]  n_estimators=910, min_samples_leaf=7, max_features=sqrt, max_depth=25, score=0.799, total=   2.8s\n",
      "[CV] n_estimators=910, min_samples_leaf=7, max_features=sqrt, max_depth=25 \n",
      "[CV]  n_estimators=910, min_samples_leaf=7, max_features=sqrt, max_depth=25, score=0.796, total=   2.8s\n",
      "[CV] n_estimators=910, min_samples_leaf=7, max_features=sqrt, max_depth=25 \n",
      "[CV]  n_estimators=910, min_samples_leaf=7, max_features=sqrt, max_depth=25, score=0.801, total=   2.6s\n",
      "[CV] n_estimators=810, min_samples_leaf=16, max_features=sqrt, max_depth=35 \n",
      "[CV]  n_estimators=810, min_samples_leaf=16, max_features=sqrt, max_depth=35, score=0.800, total=   2.2s\n",
      "[CV] n_estimators=810, min_samples_leaf=16, max_features=sqrt, max_depth=35 \n",
      "[CV]  n_estimators=810, min_samples_leaf=16, max_features=sqrt, max_depth=35, score=0.798, total=   2.2s\n",
      "[CV] n_estimators=810, min_samples_leaf=16, max_features=sqrt, max_depth=35 \n",
      "[CV]  n_estimators=810, min_samples_leaf=16, max_features=sqrt, max_depth=35, score=0.801, total=   2.7s\n",
      "[CV] n_estimators=710, min_samples_leaf=11, max_features=None, max_depth=15 \n",
      "[CV]  n_estimators=710, min_samples_leaf=11, max_features=None, max_depth=15, score=0.805, total=   6.3s\n",
      "[CV] n_estimators=710, min_samples_leaf=11, max_features=None, max_depth=15 \n",
      "[CV]  n_estimators=710, min_samples_leaf=11, max_features=None, max_depth=15, score=0.793, total=   5.8s\n",
      "[CV] n_estimators=710, min_samples_leaf=11, max_features=None, max_depth=15 \n",
      "[CV]  n_estimators=710, min_samples_leaf=11, max_features=None, max_depth=15, score=0.792, total=   6.1s\n",
      "[CV] n_estimators=660, min_samples_leaf=2, max_features=None, max_depth=25 \n",
      "[CV]  n_estimators=660, min_samples_leaf=2, max_features=None, max_depth=25, score=0.792, total=   6.8s\n",
      "[CV] n_estimators=660, min_samples_leaf=2, max_features=None, max_depth=25 \n",
      "[CV]  n_estimators=660, min_samples_leaf=2, max_features=None, max_depth=25, score=0.786, total=   6.8s\n",
      "[CV] n_estimators=660, min_samples_leaf=2, max_features=None, max_depth=25 \n",
      "[CV]  n_estimators=660, min_samples_leaf=2, max_features=None, max_depth=25, score=0.792, total=   6.5s\n",
      "[CV] n_estimators=860, min_samples_leaf=6, max_features=None, max_depth=35 \n",
      "[CV]  n_estimators=860, min_samples_leaf=6, max_features=None, max_depth=35, score=0.804, total=   7.4s\n",
      "[CV] n_estimators=860, min_samples_leaf=6, max_features=None, max_depth=35 \n",
      "[CV]  n_estimators=860, min_samples_leaf=6, max_features=None, max_depth=35, score=0.790, total=   9.6s\n",
      "[CV] n_estimators=860, min_samples_leaf=6, max_features=None, max_depth=35 \n",
      "[CV]  n_estimators=860, min_samples_leaf=6, max_features=None, max_depth=35, score=0.796, total=   8.3s\n",
      "[CV] n_estimators=960, min_samples_leaf=5, max_features=None, max_depth=15 \n",
      "[CV]  n_estimators=960, min_samples_leaf=5, max_features=None, max_depth=15, score=0.802, total=   8.0s\n",
      "[CV] n_estimators=960, min_samples_leaf=5, max_features=None, max_depth=15 \n",
      "[CV]  n_estimators=960, min_samples_leaf=5, max_features=None, max_depth=15, score=0.795, total=   8.6s\n",
      "[CV] n_estimators=960, min_samples_leaf=5, max_features=None, max_depth=15 \n",
      "[CV]  n_estimators=960, min_samples_leaf=5, max_features=None, max_depth=15, score=0.794, total=  13.5s\n",
      "[CV] n_estimators=460, min_samples_leaf=5, max_features=sqrt, max_depth=35 \n",
      "[CV]  n_estimators=460, min_samples_leaf=5, max_features=sqrt, max_depth=35, score=0.799, total=   2.9s\n",
      "[CV] n_estimators=460, min_samples_leaf=5, max_features=sqrt, max_depth=35 \n",
      "[CV]  n_estimators=460, min_samples_leaf=5, max_features=sqrt, max_depth=35, score=0.794, total=   2.5s\n",
      "[CV] n_estimators=460, min_samples_leaf=5, max_features=sqrt, max_depth=35 \n",
      "[CV]  n_estimators=460, min_samples_leaf=5, max_features=sqrt, max_depth=35, score=0.801, total=   2.6s\n",
      "[CV] n_estimators=310, min_samples_leaf=18, max_features=None, max_depth=45 \n",
      "[CV]  n_estimators=310, min_samples_leaf=18, max_features=None, max_depth=45, score=0.803, total=   4.0s\n",
      "[CV] n_estimators=310, min_samples_leaf=18, max_features=None, max_depth=45 \n",
      "[CV]  n_estimators=310, min_samples_leaf=18, max_features=None, max_depth=45, score=0.797, total=   4.1s\n",
      "[CV] n_estimators=310, min_samples_leaf=18, max_features=None, max_depth=45 \n",
      "[CV]  n_estimators=310, min_samples_leaf=18, max_features=None, max_depth=45, score=0.794, total=   4.3s\n",
      "[CV] n_estimators=660, min_samples_leaf=13, max_features=None, max_depth=25 \n",
      "[CV]  n_estimators=660, min_samples_leaf=13, max_features=None, max_depth=25, score=0.800, total=  12.0s\n",
      "[CV] n_estimators=660, min_samples_leaf=13, max_features=None, max_depth=25 \n",
      "[CV]  n_estimators=660, min_samples_leaf=13, max_features=None, max_depth=25, score=0.790, total=   9.1s\n",
      "[CV] n_estimators=660, min_samples_leaf=13, max_features=None, max_depth=25 \n",
      "[CV]  n_estimators=660, min_samples_leaf=13, max_features=None, max_depth=25, score=0.791, total=   9.4s\n",
      "[CV] n_estimators=510, min_samples_leaf=14, max_features=sqrt, max_depth=15 \n",
      "[CV]  n_estimators=510, min_samples_leaf=14, max_features=sqrt, max_depth=15, score=0.801, total=   2.9s\n",
      "[CV] n_estimators=510, min_samples_leaf=14, max_features=sqrt, max_depth=15 \n",
      "[CV]  n_estimators=510, min_samples_leaf=14, max_features=sqrt, max_depth=15, score=0.799, total=   3.0s\n",
      "[CV] n_estimators=510, min_samples_leaf=14, max_features=sqrt, max_depth=15 \n",
      "[CV]  n_estimators=510, min_samples_leaf=14, max_features=sqrt, max_depth=15, score=0.803, total=   2.8s\n",
      "[CV] n_estimators=310, min_samples_leaf=11, max_features=sqrt, max_depth=35 \n",
      "[CV]  n_estimators=310, min_samples_leaf=11, max_features=sqrt, max_depth=35, score=0.804, total=   1.7s\n",
      "[CV] n_estimators=310, min_samples_leaf=11, max_features=sqrt, max_depth=35 \n",
      "[CV]  n_estimators=310, min_samples_leaf=11, max_features=sqrt, max_depth=35, score=0.798, total=   1.6s\n",
      "[CV] n_estimators=310, min_samples_leaf=11, max_features=sqrt, max_depth=35 \n",
      "[CV]  n_estimators=310, min_samples_leaf=11, max_features=sqrt, max_depth=35, score=0.802, total=   1.5s\n",
      "[CV] n_estimators=760, min_samples_leaf=10, max_features=log2, max_depth=5 \n",
      "[CV]  n_estimators=760, min_samples_leaf=10, max_features=log2, max_depth=5, score=0.790, total=   2.7s\n",
      "[CV] n_estimators=760, min_samples_leaf=10, max_features=log2, max_depth=5 \n",
      "[CV]  n_estimators=760, min_samples_leaf=10, max_features=log2, max_depth=5, score=0.791, total=   2.6s\n",
      "[CV] n_estimators=760, min_samples_leaf=10, max_features=log2, max_depth=5 \n",
      "[CV]  n_estimators=760, min_samples_leaf=10, max_features=log2, max_depth=5, score=0.798, total=   2.2s\n",
      "[CV] n_estimators=410, min_samples_leaf=4, max_features=sqrt, max_depth=15 \n"
     ]
    },
    {
     "name": "stdout",
     "output_type": "stream",
     "text": [
      "[CV]  n_estimators=410, min_samples_leaf=4, max_features=sqrt, max_depth=15, score=0.795, total=   1.5s\n",
      "[CV] n_estimators=410, min_samples_leaf=4, max_features=sqrt, max_depth=15 \n",
      "[CV]  n_estimators=410, min_samples_leaf=4, max_features=sqrt, max_depth=15, score=0.793, total=   1.4s\n",
      "[CV] n_estimators=410, min_samples_leaf=4, max_features=sqrt, max_depth=15 \n",
      "[CV]  n_estimators=410, min_samples_leaf=4, max_features=sqrt, max_depth=15, score=0.801, total=   1.5s\n",
      "[CV] n_estimators=460, min_samples_leaf=8, max_features=None, max_depth=45 \n",
      "[CV]  n_estimators=460, min_samples_leaf=8, max_features=None, max_depth=45, score=0.804, total=   4.0s\n",
      "[CV] n_estimators=460, min_samples_leaf=8, max_features=None, max_depth=45 \n",
      "[CV]  n_estimators=460, min_samples_leaf=8, max_features=None, max_depth=45, score=0.792, total=   3.9s\n",
      "[CV] n_estimators=460, min_samples_leaf=8, max_features=None, max_depth=45 \n",
      "[CV]  n_estimators=460, min_samples_leaf=8, max_features=None, max_depth=45, score=0.791, total=   3.9s\n",
      "[CV] n_estimators=560, min_samples_leaf=7, max_features=log2, max_depth=5 \n",
      "[CV]  n_estimators=560, min_samples_leaf=7, max_features=log2, max_depth=5, score=0.789, total=   1.4s\n",
      "[CV] n_estimators=560, min_samples_leaf=7, max_features=log2, max_depth=5 \n",
      "[CV]  n_estimators=560, min_samples_leaf=7, max_features=log2, max_depth=5, score=0.791, total=   1.5s\n",
      "[CV] n_estimators=560, min_samples_leaf=7, max_features=log2, max_depth=5 \n",
      "[CV]  n_estimators=560, min_samples_leaf=7, max_features=log2, max_depth=5, score=0.798, total=   1.4s\n",
      "[CV] n_estimators=210, min_samples_leaf=3, max_features=sqrt, max_depth=15 \n",
      "[CV]  n_estimators=210, min_samples_leaf=3, max_features=sqrt, max_depth=15, score=0.793, total=   0.8s\n",
      "[CV] n_estimators=210, min_samples_leaf=3, max_features=sqrt, max_depth=15 \n",
      "[CV]  n_estimators=210, min_samples_leaf=3, max_features=sqrt, max_depth=15, score=0.792, total=   0.8s\n",
      "[CV] n_estimators=210, min_samples_leaf=3, max_features=sqrt, max_depth=15 \n",
      "[CV]  n_estimators=210, min_samples_leaf=3, max_features=sqrt, max_depth=15, score=0.795, total=   0.8s\n"
     ]
    },
    {
     "name": "stderr",
     "output_type": "stream",
     "text": [
      "[Parallel(n_jobs=1)]: Done  60 out of  60 | elapsed:  3.8min finished\n"
     ]
    },
    {
     "data": {
      "text/plain": [
       "RandomizedSearchCV(cv='warn', error_score='raise-deprecating',\n",
       "                   estimator=RandomForestClassifier(bootstrap=True,\n",
       "                                                    class_weight=None,\n",
       "                                                    criterion='gini',\n",
       "                                                    max_depth=None,\n",
       "                                                    max_features='auto',\n",
       "                                                    max_leaf_nodes=None,\n",
       "                                                    min_impurity_decrease=0.0,\n",
       "                                                    min_impurity_split=None,\n",
       "                                                    min_samples_leaf=1,\n",
       "                                                    min_samples_split=2,\n",
       "                                                    min_weight_fraction_leaf=0.0,\n",
       "                                                    n_estimators='warn',\n",
       "                                                    n_jobs=-1, oob_score=False,\n",
       "                                                    random_state=None,\n",
       "                                                    verbose=0,\n",
       "                                                    warm_start=False),\n",
       "                   iid='warn', n_iter=20, n_jobs=None,\n",
       "                   param_distributions={'max_depth': range(5, 50, 10),\n",
       "                                        'max_features': ['sqrt', 'log2', None],\n",
       "                                        'min_samples_leaf': range(2, 20),\n",
       "                                        'n_estimators': range(10, 1000, 50)},\n",
       "                   pre_dispatch='2*n_jobs', random_state=None, refit=True,\n",
       "                   return_train_score=False, scoring=None, verbose=3)"
      ]
     },
     "execution_count": 48,
     "metadata": {},
     "output_type": "execute_result"
    }
   ],
   "source": [
    "random_clf.fit(X_train, y_train)"
   ]
  },
  {
   "cell_type": "code",
   "execution_count": 49,
   "metadata": {},
   "outputs": [
    {
     "name": "stdout",
     "output_type": "stream",
     "text": [
      "Random search best_score: 0.801388147357181\n"
     ]
    }
   ],
   "source": [
    "random_best_score = random_clf.best_score_\n",
    "print('Random search best_score: {}'.format(random_best_score))\n",
    "random_best_parameters = random_clf.best_params_"
   ]
  },
  {
   "cell_type": "code",
   "execution_count": 50,
   "metadata": {},
   "outputs": [
    {
     "data": {
      "text/plain": [
       "{'n_estimators': 410,\n",
       " 'min_samples_leaf': 15,\n",
       " 'max_features': 'sqrt',\n",
       " 'max_depth': 15}"
      ]
     },
     "execution_count": 50,
     "metadata": {},
     "output_type": "execute_result"
    }
   ],
   "source": [
    "random_best_parameters"
   ]
  },
  {
   "cell_type": "code",
   "execution_count": 51,
   "metadata": {},
   "outputs": [],
   "source": [
    "random_clf_best = RandomForestClassifier(max_depth = 35, max_features = 'sqrt', min_samples_leaf = 9, n_estimators = 250)"
   ]
  },
  {
   "cell_type": "code",
   "execution_count": 52,
   "metadata": {},
   "outputs": [
    {
     "data": {
      "text/plain": [
       "RandomForestClassifier(bootstrap=True, class_weight=None, criterion='gini',\n",
       "                       max_depth=35, max_features='sqrt', max_leaf_nodes=None,\n",
       "                       min_impurity_decrease=0.0, min_impurity_split=None,\n",
       "                       min_samples_leaf=9, min_samples_split=2,\n",
       "                       min_weight_fraction_leaf=0.0, n_estimators=250,\n",
       "                       n_jobs=None, oob_score=False, random_state=None,\n",
       "                       verbose=0, warm_start=False)"
      ]
     },
     "execution_count": 52,
     "metadata": {},
     "output_type": "execute_result"
    }
   ],
   "source": [
    "random_clf_best.fit(X_train, y_train)"
   ]
  },
  {
   "cell_type": "code",
   "execution_count": 53,
   "metadata": {},
   "outputs": [],
   "source": [
    "random_y_pred = random_clf_best.predict(X_val)"
   ]
  },
  {
   "cell_type": "code",
   "execution_count": 54,
   "metadata": {},
   "outputs": [
    {
     "data": {
      "image/png": "[encoded data removed]",
      "text/plain": [
       "<Figure size 360x360 with 2 Axes>"
      ]
     },
     "metadata": {
      "needs_background": "light"
     },
     "output_type": "display_data"
    }
   ],
   "source": [
    "random_cm = confusion_matrix(y_val, random_y_pred)\n",
    "annot_kws = {\"ha\": 'center',\"va\": 'center'}\n",
    "\n",
    "\n",
    "plt.figure(figsize=(5,5))\n",
    "sns.heatmap(random_cm, fmt=\"d\", linewidths=.5, cmap = 'Blues_r');\n",
    "plt.ylabel('Actual label');\n",
    "plt.xlabel('Predicted label');\n",
    "s = [['TN','FP'], ['FN', 'TP']]\n",
    "\n",
    "for i in range(2):\n",
    "    for j in range(2):\n",
    "        plt.text(j,i, str(s[i][j])+\" = \"+str(random_cm[i][j]))\n",
    "plt.show()"
   ]
  },
  {
   "cell_type": "code",
   "execution_count": 121,
   "metadata": {},
   "outputs": [
    {
     "data": {
      "image/png": "[encoded data removed]",
      "text/plain": [
       "<Figure size 1080x360 with 1 Axes>"
      ]
     },
     "metadata": {
      "needs_background": "light"
     },
     "output_type": "display_data"
    }
   ],
   "source": [
    "random_feature_importances = [(list(X.columns)[i], random_clf_best.feature_importances_[i]) for i in range(len(list(X.columns)))]\n",
    "random_feature_importances.sort(key=itemgetter(1), reverse = True)\n",
    "plot_importance(random_feature_importances, 10, 'Ransom search')"
   ]
  },
  {
   "cell_type": "code",
   "execution_count": 37,
   "metadata": {
    "scrolled": true
   },
   "outputs": [
    {
     "name": "stdout",
     "output_type": "stream",
     "text": [
      "              precision    recall  f1-score   support\n",
      "\n",
      "           0       0.84      0.93      0.88      1025\n",
      "           1       0.74      0.52      0.61       388\n",
      "\n",
      "    accuracy                           0.82      1413\n",
      "   macro avg       0.79      0.73      0.75      1413\n",
      "weighted avg       0.81      0.82      0.81      1413\n",
      "\n"
     ]
    }
   ],
   "source": [
    "print(classification_report(y_val,random_y_pred))"
   ]
  },
  {
   "cell_type": "code",
   "execution_count": 158,
   "metadata": {},
   "outputs": [
    {
     "name": "stdout",
     "output_type": "stream",
     "text": [
      "Accuracy: 0.8174097664543525\n"
     ]
    }
   ],
   "source": [
    "print(\"Accuracy:\",metrics.accuracy_score(y_val, random_y_pred))"
   ]
  },
  {
   "cell_type": "code",
   "execution_count": null,
   "metadata": {},
   "outputs": [],
   "source": []
  }
 ],
 "metadata": {
  "kernelspec": {
   "display_name": "Python 3",
   "language": "python",
   "name": "python3"
  },
  "language_info": {
   "codemirror_mode": {
    "name": "ipython",
    "version": 3
   },
   "file_extension": ".py",
   "mimetype": "text/x-python",
   "name": "python",
   "nbconvert_exporter": "python",
   "pygments_lexer": "ipython3",
   "version": "3.7.4"
  }
 },
 "nbformat": 4,
 "nbformat_minor": 4
}
